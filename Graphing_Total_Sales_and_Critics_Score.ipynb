{
 "cells": [
  {
   "cell_type": "code",
   "execution_count": 1,
   "id": "8892c9ff",
   "metadata": {},
   "outputs": [],
   "source": [
    "# Import dependencies\n",
    "import pandas as pd\n",
    "import numpy as np\n",
    "from pathlib import Path\n",
    "# Add Matplotlib inline magic command\n",
    "%matplotlib inline\n",
    "# Dependencies and Setup\n",
    "import matplotlib.pyplot as plt"
   ]
  },
  {
   "cell_type": "code",
   "execution_count": 2,
   "id": "cbdaf5cb",
   "metadata": {},
   "outputs": [
    {
     "data": {
      "text/html": [
       "<div>\n",
       "<style scoped>\n",
       "    .dataframe tbody tr th:only-of-type {\n",
       "        vertical-align: middle;\n",
       "    }\n",
       "\n",
       "    .dataframe tbody tr th {\n",
       "        vertical-align: top;\n",
       "    }\n",
       "\n",
       "    .dataframe thead th {\n",
       "        text-align: right;\n",
       "    }\n",
       "</style>\n",
       "<table border=\"1\" class=\"dataframe\">\n",
       "  <thead>\n",
       "    <tr style=\"text-align: right;\">\n",
       "      <th></th>\n",
       "      <th>Rank</th>\n",
       "      <th>Name</th>\n",
       "      <th>Genre</th>\n",
       "      <th>ESRB_Rating</th>\n",
       "      <th>Platform</th>\n",
       "      <th>Publisher</th>\n",
       "      <th>Developer_x</th>\n",
       "      <th>Critic_Score</th>\n",
       "      <th>User_Score</th>\n",
       "      <th>Year</th>\n",
       "      <th>Country</th>\n",
       "      <th>Total_Sales</th>\n",
       "    </tr>\n",
       "  </thead>\n",
       "  <tbody>\n",
       "    <tr>\n",
       "      <th>0</th>\n",
       "      <td>1</td>\n",
       "      <td>Wii Sports</td>\n",
       "      <td>Sports</td>\n",
       "      <td>E</td>\n",
       "      <td>Wii</td>\n",
       "      <td>Nintendo</td>\n",
       "      <td>Nintendo EAD</td>\n",
       "      <td>7.7</td>\n",
       "      <td>NaN</td>\n",
       "      <td>2006.0</td>\n",
       "      <td>Japan</td>\n",
       "      <td>82.86</td>\n",
       "    </tr>\n",
       "    <tr>\n",
       "      <th>1</th>\n",
       "      <td>2</td>\n",
       "      <td>Super Mario Bros.</td>\n",
       "      <td>Platform</td>\n",
       "      <td>NaN</td>\n",
       "      <td>NES</td>\n",
       "      <td>Nintendo</td>\n",
       "      <td>Nintendo EAD</td>\n",
       "      <td>10.0</td>\n",
       "      <td>NaN</td>\n",
       "      <td>1985.0</td>\n",
       "      <td>Japan</td>\n",
       "      <td>40.24</td>\n",
       "    </tr>\n",
       "    <tr>\n",
       "      <th>2</th>\n",
       "      <td>3</td>\n",
       "      <td>Mario Kart Wii</td>\n",
       "      <td>Racing</td>\n",
       "      <td>E</td>\n",
       "      <td>Wii</td>\n",
       "      <td>Nintendo</td>\n",
       "      <td>Nintendo EAD</td>\n",
       "      <td>8.2</td>\n",
       "      <td>9.1</td>\n",
       "      <td>2008.0</td>\n",
       "      <td>Japan</td>\n",
       "      <td>37.14</td>\n",
       "    </tr>\n",
       "    <tr>\n",
       "      <th>3</th>\n",
       "      <td>4</td>\n",
       "      <td>PlayerUnknown's Battlegrounds</td>\n",
       "      <td>Shooter</td>\n",
       "      <td>NaN</td>\n",
       "      <td>PC</td>\n",
       "      <td>PUBG Corporation</td>\n",
       "      <td>PUBG Corporation</td>\n",
       "      <td>NaN</td>\n",
       "      <td>NaN</td>\n",
       "      <td>2017.0</td>\n",
       "      <td>NaN</td>\n",
       "      <td>36.60</td>\n",
       "    </tr>\n",
       "    <tr>\n",
       "      <th>4</th>\n",
       "      <td>5</td>\n",
       "      <td>Wii Sports Resort</td>\n",
       "      <td>Sports</td>\n",
       "      <td>E</td>\n",
       "      <td>Wii</td>\n",
       "      <td>Nintendo</td>\n",
       "      <td>Nintendo EAD</td>\n",
       "      <td>8.0</td>\n",
       "      <td>8.8</td>\n",
       "      <td>2009.0</td>\n",
       "      <td>Japan</td>\n",
       "      <td>33.09</td>\n",
       "    </tr>\n",
       "  </tbody>\n",
       "</table>\n",
       "</div>"
      ],
      "text/plain": [
       "   Rank                           Name     Genre ESRB_Rating Platform  \\\n",
       "0     1                     Wii Sports    Sports           E      Wii   \n",
       "1     2              Super Mario Bros.  Platform         NaN      NES   \n",
       "2     3                 Mario Kart Wii    Racing           E      Wii   \n",
       "3     4  PlayerUnknown's Battlegrounds   Shooter         NaN       PC   \n",
       "4     5              Wii Sports Resort    Sports           E      Wii   \n",
       "\n",
       "          Publisher       Developer_x  Critic_Score  User_Score    Year  \\\n",
       "0          Nintendo      Nintendo EAD           7.7         NaN  2006.0   \n",
       "1          Nintendo      Nintendo EAD          10.0         NaN  1985.0   \n",
       "2          Nintendo      Nintendo EAD           8.2         9.1  2008.0   \n",
       "3  PUBG Corporation  PUBG Corporation           NaN         NaN  2017.0   \n",
       "4          Nintendo      Nintendo EAD           8.0         8.8  2009.0   \n",
       "\n",
       "  Country  Total_Sales  \n",
       "0   Japan        82.86  \n",
       "1   Japan        40.24  \n",
       "2   Japan        37.14  \n",
       "3     NaN        36.60  \n",
       "4   Japan        33.09  "
      ]
     },
     "execution_count": 2,
     "metadata": {},
     "output_type": "execute_result"
    }
   ],
   "source": [
    "# Import our input dataset\n",
    "file_path = Path('Resources/all_columns_df.csv')\n",
    "graph_df = pd.read_csv(file_path)\n",
    "graph_df.head()"
   ]
  },
  {
   "cell_type": "code",
   "execution_count": 3,
   "id": "7d12c3b0",
   "metadata": {},
   "outputs": [
    {
     "data": {
      "text/plain": [
       "Rank            19862\n",
       "Name            19862\n",
       "Genre           19862\n",
       "ESRB_Rating     13925\n",
       "Platform        19862\n",
       "Publisher       19862\n",
       "Developer_x     19860\n",
       "Critic_Score     4706\n",
       "User_Score        238\n",
       "Year            19859\n",
       "Country         11877\n",
       "Total_Sales     19862\n",
       "dtype: int64"
      ]
     },
     "execution_count": 3,
     "metadata": {},
     "output_type": "execute_result"
    }
   ],
   "source": [
    "graph_df.count()"
   ]
  },
  {
   "cell_type": "code",
   "execution_count": 4,
   "id": "7a580637",
   "metadata": {},
   "outputs": [
    {
     "data": {
      "text/html": [
       "<div>\n",
       "<style scoped>\n",
       "    .dataframe tbody tr th:only-of-type {\n",
       "        vertical-align: middle;\n",
       "    }\n",
       "\n",
       "    .dataframe tbody tr th {\n",
       "        vertical-align: top;\n",
       "    }\n",
       "\n",
       "    .dataframe thead th {\n",
       "        text-align: right;\n",
       "    }\n",
       "</style>\n",
       "<table border=\"1\" class=\"dataframe\">\n",
       "  <thead>\n",
       "    <tr style=\"text-align: right;\">\n",
       "      <th></th>\n",
       "      <th>Genre</th>\n",
       "      <th>Critic_Score</th>\n",
       "      <th>Total_Sales</th>\n",
       "    </tr>\n",
       "  </thead>\n",
       "  <tbody>\n",
       "    <tr>\n",
       "      <th>0</th>\n",
       "      <td>Sports</td>\n",
       "      <td>7.7</td>\n",
       "      <td>82.86</td>\n",
       "    </tr>\n",
       "    <tr>\n",
       "      <th>1</th>\n",
       "      <td>Platform</td>\n",
       "      <td>10.0</td>\n",
       "      <td>40.24</td>\n",
       "    </tr>\n",
       "    <tr>\n",
       "      <th>2</th>\n",
       "      <td>Racing</td>\n",
       "      <td>8.2</td>\n",
       "      <td>37.14</td>\n",
       "    </tr>\n",
       "    <tr>\n",
       "      <th>3</th>\n",
       "      <td>Shooter</td>\n",
       "      <td>NaN</td>\n",
       "      <td>36.60</td>\n",
       "    </tr>\n",
       "    <tr>\n",
       "      <th>4</th>\n",
       "      <td>Sports</td>\n",
       "      <td>8.0</td>\n",
       "      <td>33.09</td>\n",
       "    </tr>\n",
       "  </tbody>\n",
       "</table>\n",
       "</div>"
      ],
      "text/plain": [
       "      Genre  Critic_Score  Total_Sales\n",
       "0    Sports           7.7        82.86\n",
       "1  Platform          10.0        40.24\n",
       "2    Racing           8.2        37.14\n",
       "3   Shooter           NaN        36.60\n",
       "4    Sports           8.0        33.09"
      ]
     },
     "execution_count": 4,
     "metadata": {},
     "output_type": "execute_result"
    }
   ],
   "source": [
    "# Drop columns:\n",
    "graph_df = graph_df.drop(['Rank', 'Name', 'User_Score', 'ESRB_Rating', 'Publisher', 'Platform', 'Year', 'Developer_x', 'Country'], axis = 1)\n",
    "graph_df.head()"
   ]
  },
  {
   "cell_type": "code",
   "execution_count": 5,
   "id": "7dcabe23",
   "metadata": {},
   "outputs": [
    {
     "data": {
      "text/plain": [
       "Genre           19862\n",
       "Critic_Score     4706\n",
       "Total_Sales     19862\n",
       "dtype: int64"
      ]
     },
     "execution_count": 5,
     "metadata": {},
     "output_type": "execute_result"
    }
   ],
   "source": [
    "graph_df.count()"
   ]
  },
  {
   "cell_type": "code",
   "execution_count": 6,
   "id": "16e0bbe9",
   "metadata": {},
   "outputs": [
    {
     "name": "stdout",
     "output_type": "stream",
     "text": [
      "Column Genre has 0 null values\n",
      "Column Critic_Score has 15156 null values\n",
      "Column Total_Sales has 0 null values\n"
     ]
    }
   ],
   "source": [
    "# Finding null values\n",
    "for column in graph_df.columns:\n",
    "    print(f'Column {column} has {graph_df[column].isnull().sum()} null values')\n"
   ]
  },
  {
   "cell_type": "code",
   "execution_count": 7,
   "id": "6f0678e9",
   "metadata": {},
   "outputs": [
    {
     "data": {
      "text/plain": [
       "Genre           4706\n",
       "Critic_Score    4706\n",
       "Total_Sales     4706\n",
       "dtype: int64"
      ]
     },
     "execution_count": 7,
     "metadata": {},
     "output_type": "execute_result"
    }
   ],
   "source": [
    "graph_df = graph_df.dropna()\n",
    "graph_df.count()"
   ]
  },
  {
   "cell_type": "code",
   "execution_count": 8,
   "id": "014755d4",
   "metadata": {},
   "outputs": [
    {
     "data": {
      "text/html": [
       "<div>\n",
       "<style scoped>\n",
       "    .dataframe tbody tr th:only-of-type {\n",
       "        vertical-align: middle;\n",
       "    }\n",
       "\n",
       "    .dataframe tbody tr th {\n",
       "        vertical-align: top;\n",
       "    }\n",
       "\n",
       "    .dataframe thead th {\n",
       "        text-align: right;\n",
       "    }\n",
       "</style>\n",
       "<table border=\"1\" class=\"dataframe\">\n",
       "  <thead>\n",
       "    <tr style=\"text-align: right;\">\n",
       "      <th></th>\n",
       "      <th>Total_Sales</th>\n",
       "      <th>Critic_Score</th>\n",
       "    </tr>\n",
       "    <tr>\n",
       "      <th>Genre</th>\n",
       "      <th></th>\n",
       "      <th></th>\n",
       "    </tr>\n",
       "  </thead>\n",
       "  <tbody>\n",
       "    <tr>\n",
       "      <th>Action</th>\n",
       "      <td>790.06</td>\n",
       "      <td>5458.5</td>\n",
       "    </tr>\n",
       "    <tr>\n",
       "      <th>Shooter</th>\n",
       "      <td>756.78</td>\n",
       "      <td>4130.8</td>\n",
       "    </tr>\n",
       "    <tr>\n",
       "      <th>Role-Playing</th>\n",
       "      <td>752.86</td>\n",
       "      <td>4704.2</td>\n",
       "    </tr>\n",
       "    <tr>\n",
       "      <th>Sports</th>\n",
       "      <td>701.87</td>\n",
       "      <td>4157.6</td>\n",
       "    </tr>\n",
       "    <tr>\n",
       "      <th>Platform</th>\n",
       "      <td>616.06</td>\n",
       "      <td>2873.0</td>\n",
       "    </tr>\n",
       "    <tr>\n",
       "      <th>Racing</th>\n",
       "      <td>469.23</td>\n",
       "      <td>2426.2</td>\n",
       "    </tr>\n",
       "    <tr>\n",
       "      <th>Misc</th>\n",
       "      <td>366.05</td>\n",
       "      <td>1821.2</td>\n",
       "    </tr>\n",
       "    <tr>\n",
       "      <th>Fighting</th>\n",
       "      <td>246.05</td>\n",
       "      <td>1919.2</td>\n",
       "    </tr>\n",
       "    <tr>\n",
       "      <th>Adventure</th>\n",
       "      <td>236.65</td>\n",
       "      <td>1985.6</td>\n",
       "    </tr>\n",
       "    <tr>\n",
       "      <th>Simulation</th>\n",
       "      <td>201.80</td>\n",
       "      <td>1193.2</td>\n",
       "    </tr>\n",
       "    <tr>\n",
       "      <th>Action-Adventure</th>\n",
       "      <td>132.20</td>\n",
       "      <td>692.1</td>\n",
       "    </tr>\n",
       "    <tr>\n",
       "      <th>Strategy</th>\n",
       "      <td>124.23</td>\n",
       "      <td>1549.1</td>\n",
       "    </tr>\n",
       "    <tr>\n",
       "      <th>Puzzle</th>\n",
       "      <td>58.72</td>\n",
       "      <td>940.8</td>\n",
       "    </tr>\n",
       "    <tr>\n",
       "      <th>Party</th>\n",
       "      <td>47.21</td>\n",
       "      <td>85.5</td>\n",
       "    </tr>\n",
       "    <tr>\n",
       "      <th>Music</th>\n",
       "      <td>22.95</td>\n",
       "      <td>172.8</td>\n",
       "    </tr>\n",
       "    <tr>\n",
       "      <th>MMO</th>\n",
       "      <td>16.10</td>\n",
       "      <td>71.4</td>\n",
       "    </tr>\n",
       "    <tr>\n",
       "      <th>Sandbox</th>\n",
       "      <td>1.89</td>\n",
       "      <td>9.2</td>\n",
       "    </tr>\n",
       "    <tr>\n",
       "      <th>Board Game</th>\n",
       "      <td>0.30</td>\n",
       "      <td>5.3</td>\n",
       "    </tr>\n",
       "    <tr>\n",
       "      <th>Education</th>\n",
       "      <td>0.09</td>\n",
       "      <td>7.5</td>\n",
       "    </tr>\n",
       "    <tr>\n",
       "      <th>Visual Novel</th>\n",
       "      <td>0.03</td>\n",
       "      <td>9.0</td>\n",
       "    </tr>\n",
       "  </tbody>\n",
       "</table>\n",
       "</div>"
      ],
      "text/plain": [
       "                  Total_Sales  Critic_Score\n",
       "Genre                                      \n",
       "Action                 790.06        5458.5\n",
       "Shooter                756.78        4130.8\n",
       "Role-Playing           752.86        4704.2\n",
       "Sports                 701.87        4157.6\n",
       "Platform               616.06        2873.0\n",
       "Racing                 469.23        2426.2\n",
       "Misc                   366.05        1821.2\n",
       "Fighting               246.05        1919.2\n",
       "Adventure              236.65        1985.6\n",
       "Simulation             201.80        1193.2\n",
       "Action-Adventure       132.20         692.1\n",
       "Strategy               124.23        1549.1\n",
       "Puzzle                  58.72         940.8\n",
       "Party                   47.21          85.5\n",
       "Music                   22.95         172.8\n",
       "MMO                     16.10          71.4\n",
       "Sandbox                  1.89           9.2\n",
       "Board Game               0.30           5.3\n",
       "Education                0.09           7.5\n",
       "Visual Novel             0.03           9.0"
      ]
     },
     "execution_count": 8,
     "metadata": {},
     "output_type": "execute_result"
    }
   ],
   "source": [
    "# Group Genre and sum\n",
    "genre_graph_df = graph_df.groupby('Genre').sum()[['Total_Sales', 'Critic_Score']]\n",
    "#genre_graph_dff = genre_graph_df['Total_Sales'].map(\"{:,}\".format)\n",
    "# genre_graph_df = genre_graph_df.style.format({'Total_Sales': \"{:,}\",\n",
    "#                                                  'Critic_Score': \"{:,}\",\n",
    "genre_graph_df = genre_graph_df.sort_values(by=['Total_Sales'], ascending=False)  \n",
    "genre_graph_df"
   ]
  },
  {
   "cell_type": "code",
   "execution_count": 9,
   "id": "1d7dabb2",
   "metadata": {},
   "outputs": [],
   "source": [
    "from matplotlib.legend_handler import HandlerLineCollection, HandlerTuple"
   ]
  },
  {
   "cell_type": "code",
   "execution_count": 10,
   "id": "b4724ccb",
   "metadata": {},
   "outputs": [
    {
     "name": "stderr",
     "output_type": "stream",
     "text": [
      "C:\\Users\\adria\\AppData\\Local\\Temp\\ipykernel_4056\\2641444571.py:14: MatplotlibDeprecationWarning: The 'b' parameter of grid() has been renamed 'visible' since Matplotlib 3.5; support for the old name will be dropped two minor releases later.\n",
      "  ax2.grid(b=False) # turn off grid 2\n"
     ]
    },
    {
     "data": {
      "image/png": "[encoded data removed]",
      "text/plain": [
       "<Figure size 1440x720 with 2 Axes>"
      ]
     },
     "metadata": {},
     "output_type": "display_data"
    }
   ],
   "source": [
    "plt.rcParams['figure.figsize']=(20,10) # set the figure size\n",
    "plt.style.use('fivethirtyeight') # using the fivethirtyeight matplotlib theme\n",
    "fig, ax1 = plt.subplots()\n",
    "plt.xticks(rotation=90)\n",
    "\n",
    "#plt.axis('off')\n",
    "#plt.tick_params(axis = 'y', right='off', labelright='off')\n",
    "\n",
    "l1 = ax1.bar(genre_graph_df.index, genre_graph_df.Total_Sales, color='gray', label='Total Sales in millions')\n",
    "\n",
    "# Set up grid 2\n",
    "ax2 = ax1.twinx()\n",
    "l2, = ax2.plot(genre_graph_df.Critic_Score, color='green', label = 'Critic_Score')\n",
    "ax2.grid(b=False) # turn off grid 2\n",
    "\n",
    "\n",
    "ax1.set_title('Total Sales vs. Critic_Score')\n",
    "ax1.set_ylabel('Total Sales in millions')\n",
    "ax1.legend(( l1, l2), ('Total_Sales', \"Critic_Score\"), loc = 'upper right')\n",
    "\n",
    "plt.show()"
   ]
  },
  {
   "cell_type": "code",
   "execution_count": null,
   "id": "7ba28173",
   "metadata": {},
   "outputs": [],
   "source": []
  }
 ],
 "metadata": {
  "kernelspec": {
   "display_name": "Python 3 (ipykernel)",
   "language": "python",
   "name": "python3"
  },
  "language_info": {
   "codemirror_mode": {
    "name": "ipython",
    "version": 3
   },
   "file_extension": ".py",
   "mimetype": "text/x-python",
   "name": "python",
   "nbconvert_exporter": "python",
   "pygments_lexer": "ipython3",
   "version": "3.9.12"
  }
 },
 "nbformat": 4,
 "nbformat_minor": 5
}
