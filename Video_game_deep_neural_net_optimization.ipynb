{
 "cells": [
  {
   "cell_type": "markdown",
   "id": "1428ab7e",
   "metadata": {},
   "source": [
    " # Machine Learning model"
   ]
  },
  {
   "cell_type": "markdown",
   "id": "819a5210",
   "metadata": {},
   "source": [
    "# Deep Neural Net"
   ]
  },
  {
   "cell_type": "code",
   "execution_count": 1,
   "id": "cb7250fe",
   "metadata": {},
   "outputs": [],
   "source": [
    "# Import  dependencies\n",
    "from sklearn.model_selection import train_test_split\n",
    "from sklearn.preprocessing import StandardScaler,OneHotEncoder\n",
    "import pandas as pd\n",
    "import tensorflow as tf"
   ]
  },
  {
   "cell_type": "code",
   "execution_count": 3,
   "id": "030fd945",
   "metadata": {},
   "outputs": [
    {
     "data": {
      "text/html": [
       "<div>\n",
       "<style scoped>\n",
       "    .dataframe tbody tr th:only-of-type {\n",
       "        vertical-align: middle;\n",
       "    }\n",
       "\n",
       "    .dataframe tbody tr th {\n",
       "        vertical-align: top;\n",
       "    }\n",
       "\n",
       "    .dataframe thead th {\n",
       "        text-align: right;\n",
       "    }\n",
       "</style>\n",
       "<table border=\"1\" class=\"dataframe\">\n",
       "  <thead>\n",
       "    <tr style=\"text-align: right;\">\n",
       "      <th></th>\n",
       "      <th>Rank</th>\n",
       "      <th>Name</th>\n",
       "      <th>Genre</th>\n",
       "      <th>ESRB_Rating</th>\n",
       "      <th>Platform</th>\n",
       "      <th>Publisher</th>\n",
       "      <th>Developer_x</th>\n",
       "      <th>Critic_Score</th>\n",
       "      <th>User_Score</th>\n",
       "      <th>Year</th>\n",
       "      <th>Country</th>\n",
       "      <th>Total_Sales</th>\n",
       "    </tr>\n",
       "  </thead>\n",
       "  <tbody>\n",
       "    <tr>\n",
       "      <th>0</th>\n",
       "      <td>1</td>\n",
       "      <td>Wii Sports</td>\n",
       "      <td>Sports</td>\n",
       "      <td>E</td>\n",
       "      <td>Wii</td>\n",
       "      <td>Nintendo</td>\n",
       "      <td>Nintendo EAD</td>\n",
       "      <td>7.7</td>\n",
       "      <td>NaN</td>\n",
       "      <td>2006.0</td>\n",
       "      <td>Japan</td>\n",
       "      <td>82.86</td>\n",
       "    </tr>\n",
       "    <tr>\n",
       "      <th>1</th>\n",
       "      <td>2</td>\n",
       "      <td>Super Mario Bros.</td>\n",
       "      <td>Platform</td>\n",
       "      <td>NaN</td>\n",
       "      <td>NES</td>\n",
       "      <td>Nintendo</td>\n",
       "      <td>Nintendo EAD</td>\n",
       "      <td>10.0</td>\n",
       "      <td>NaN</td>\n",
       "      <td>1985.0</td>\n",
       "      <td>Japan</td>\n",
       "      <td>40.24</td>\n",
       "    </tr>\n",
       "    <tr>\n",
       "      <th>2</th>\n",
       "      <td>3</td>\n",
       "      <td>Mario Kart Wii</td>\n",
       "      <td>Racing</td>\n",
       "      <td>E</td>\n",
       "      <td>Wii</td>\n",
       "      <td>Nintendo</td>\n",
       "      <td>Nintendo EAD</td>\n",
       "      <td>8.2</td>\n",
       "      <td>9.1</td>\n",
       "      <td>2008.0</td>\n",
       "      <td>Japan</td>\n",
       "      <td>37.14</td>\n",
       "    </tr>\n",
       "    <tr>\n",
       "      <th>3</th>\n",
       "      <td>4</td>\n",
       "      <td>PlayerUnknown's Battlegrounds</td>\n",
       "      <td>Shooter</td>\n",
       "      <td>NaN</td>\n",
       "      <td>PC</td>\n",
       "      <td>PUBG Corporation</td>\n",
       "      <td>PUBG Corporation</td>\n",
       "      <td>NaN</td>\n",
       "      <td>NaN</td>\n",
       "      <td>2017.0</td>\n",
       "      <td>NaN</td>\n",
       "      <td>36.60</td>\n",
       "    </tr>\n",
       "    <tr>\n",
       "      <th>4</th>\n",
       "      <td>5</td>\n",
       "      <td>Wii Sports Resort</td>\n",
       "      <td>Sports</td>\n",
       "      <td>E</td>\n",
       "      <td>Wii</td>\n",
       "      <td>Nintendo</td>\n",
       "      <td>Nintendo EAD</td>\n",
       "      <td>8.0</td>\n",
       "      <td>8.8</td>\n",
       "      <td>2009.0</td>\n",
       "      <td>Japan</td>\n",
       "      <td>33.09</td>\n",
       "    </tr>\n",
       "    <tr>\n",
       "      <th>5</th>\n",
       "      <td>6</td>\n",
       "      <td>Pokemon Red / Green / Blue Version</td>\n",
       "      <td>Role-Playing</td>\n",
       "      <td>E</td>\n",
       "      <td>GB</td>\n",
       "      <td>Nintendo</td>\n",
       "      <td>Game Freak</td>\n",
       "      <td>9.4</td>\n",
       "      <td>NaN</td>\n",
       "      <td>1998.0</td>\n",
       "      <td>Japan</td>\n",
       "      <td>31.38</td>\n",
       "    </tr>\n",
       "    <tr>\n",
       "      <th>6</th>\n",
       "      <td>7</td>\n",
       "      <td>New Super Mario Bros.</td>\n",
       "      <td>Platform</td>\n",
       "      <td>E</td>\n",
       "      <td>DS</td>\n",
       "      <td>Nintendo</td>\n",
       "      <td>Nintendo EAD</td>\n",
       "      <td>9.1</td>\n",
       "      <td>8.1</td>\n",
       "      <td>2006.0</td>\n",
       "      <td>Japan</td>\n",
       "      <td>30.80</td>\n",
       "    </tr>\n",
       "    <tr>\n",
       "      <th>7</th>\n",
       "      <td>8</td>\n",
       "      <td>Tetris</td>\n",
       "      <td>Puzzle</td>\n",
       "      <td>E</td>\n",
       "      <td>GB</td>\n",
       "      <td>Nintendo</td>\n",
       "      <td>Bullet Proof Software</td>\n",
       "      <td>NaN</td>\n",
       "      <td>NaN</td>\n",
       "      <td>1989.0</td>\n",
       "      <td>Japan</td>\n",
       "      <td>30.26</td>\n",
       "    </tr>\n",
       "    <tr>\n",
       "      <th>8</th>\n",
       "      <td>9</td>\n",
       "      <td>New Super Mario Bros. Wii</td>\n",
       "      <td>Platform</td>\n",
       "      <td>E</td>\n",
       "      <td>Wii</td>\n",
       "      <td>Nintendo</td>\n",
       "      <td>Nintendo EAD</td>\n",
       "      <td>8.6</td>\n",
       "      <td>9.2</td>\n",
       "      <td>2009.0</td>\n",
       "      <td>Japan</td>\n",
       "      <td>30.22</td>\n",
       "    </tr>\n",
       "    <tr>\n",
       "      <th>9</th>\n",
       "      <td>10</td>\n",
       "      <td>Minecraft</td>\n",
       "      <td>Misc</td>\n",
       "      <td>NaN</td>\n",
       "      <td>PC</td>\n",
       "      <td>Mojang</td>\n",
       "      <td>Mojang AB</td>\n",
       "      <td>10.0</td>\n",
       "      <td>NaN</td>\n",
       "      <td>2010.0</td>\n",
       "      <td>NaN</td>\n",
       "      <td>30.01</td>\n",
       "    </tr>\n",
       "  </tbody>\n",
       "</table>\n",
       "</div>"
      ],
      "text/plain": [
       "   Rank                                Name         Genre ESRB_Rating  \\\n",
       "0     1                          Wii Sports        Sports           E   \n",
       "1     2                   Super Mario Bros.      Platform         NaN   \n",
       "2     3                      Mario Kart Wii        Racing           E   \n",
       "3     4       PlayerUnknown's Battlegrounds       Shooter         NaN   \n",
       "4     5                   Wii Sports Resort        Sports           E   \n",
       "5     6  Pokemon Red / Green / Blue Version  Role-Playing           E   \n",
       "6     7               New Super Mario Bros.      Platform           E   \n",
       "7     8                              Tetris        Puzzle           E   \n",
       "8     9           New Super Mario Bros. Wii      Platform           E   \n",
       "9    10                           Minecraft          Misc         NaN   \n",
       "\n",
       "  Platform         Publisher            Developer_x  Critic_Score  User_Score  \\\n",
       "0      Wii          Nintendo           Nintendo EAD           7.7         NaN   \n",
       "1      NES          Nintendo           Nintendo EAD          10.0         NaN   \n",
       "2      Wii          Nintendo           Nintendo EAD           8.2         9.1   \n",
       "3       PC  PUBG Corporation       PUBG Corporation           NaN         NaN   \n",
       "4      Wii          Nintendo           Nintendo EAD           8.0         8.8   \n",
       "5       GB          Nintendo             Game Freak           9.4         NaN   \n",
       "6       DS          Nintendo           Nintendo EAD           9.1         8.1   \n",
       "7       GB          Nintendo  Bullet Proof Software           NaN         NaN   \n",
       "8      Wii          Nintendo           Nintendo EAD           8.6         9.2   \n",
       "9       PC            Mojang              Mojang AB          10.0         NaN   \n",
       "\n",
       "     Year Country  Total_Sales  \n",
       "0  2006.0   Japan        82.86  \n",
       "1  1985.0   Japan        40.24  \n",
       "2  2008.0   Japan        37.14  \n",
       "3  2017.0     NaN        36.60  \n",
       "4  2009.0   Japan        33.09  \n",
       "5  1998.0   Japan        31.38  \n",
       "6  2006.0   Japan        30.80  \n",
       "7  1989.0   Japan        30.26  \n",
       "8  2009.0   Japan        30.22  \n",
       "9  2010.0     NaN        30.01  "
      ]
     },
     "execution_count": 3,
     "metadata": {},
     "output_type": "execute_result"
    }
   ],
   "source": [
    "# reads all columns data\n",
    "all_columns_df = pd.read_csv('Resources/all_columns_df.csv')\n",
    "all_columns_df.head(10)"
   ]
  },
  {
   "cell_type": "code",
   "execution_count": 4,
   "id": "e9731dd5",
   "metadata": {},
   "outputs": [
    {
     "data": {
      "text/plain": [
       "Rank            19862\n",
       "Name            13840\n",
       "Genre              20\n",
       "ESRB_Rating         6\n",
       "Platform           40\n",
       "Publisher         926\n",
       "Developer_x      3185\n",
       "Critic_Score       86\n",
       "User_Score         44\n",
       "Year               45\n",
       "Country            20\n",
       "Total_Sales       648\n",
       "dtype: int64"
      ]
     },
     "execution_count": 4,
     "metadata": {},
     "output_type": "execute_result"
    }
   ],
   "source": [
    "# Determine the number of unique values in each column.\n",
    "all_columns_df.nunique()"
   ]
  },
  {
   "cell_type": "code",
   "execution_count": 5,
   "id": "a0c8a60e",
   "metadata": {},
   "outputs": [],
   "source": [
    "# Drop the non-beneficial ID columns\n",
    "all_columns_df.drop(['Rank', 'Name', 'Year'], axis=1, inplace=True)"
   ]
  },
  {
   "cell_type": "code",
   "execution_count": 6,
   "id": "8ef2bf12",
   "metadata": {},
   "outputs": [
    {
     "data": {
      "text/plain": [
       "Unknown                      742\n",
       "Konami                       402\n",
       "Capcom                       350\n",
       "EA Canada                    289\n",
       "Bandai Namco Games           210\n",
       "                            ... \n",
       "Separate Game Development      1\n",
       "Yeti Trunk                     1\n",
       "Atum Software                  1\n",
       "Majesco Entertainment          1\n",
       "Shockwave Productions          1\n",
       "Name: Developer_x, Length: 3185, dtype: int64"
      ]
     },
     "execution_count": 6,
     "metadata": {},
     "output_type": "execute_result"
    }
   ],
   "source": [
    "# Look at Developer_counts value counts for binning\n",
    "Developer_counts = all_columns_df['Developer_x'].value_counts()\n",
    "Developer_counts"
   ]
  },
  {
   "cell_type": "code",
   "execution_count": 7,
   "id": "692ed30d",
   "metadata": {},
   "outputs": [
    {
     "data": {
      "text/plain": [
       "<AxesSubplot:ylabel='Density'>"
      ]
     },
     "execution_count": 7,
     "metadata": {},
     "output_type": "execute_result"
    },
    {
     "data": {
      "image/png": "[encoded data removed]",
      "text/plain": [
       "<Figure size 432x288 with 1 Axes>"
      ]
     },
     "metadata": {
      "needs_background": "light"
     },
     "output_type": "display_data"
    }
   ],
   "source": [
    "# Visualize the value counts\n",
    "Developer_counts.plot.density()"
   ]
  },
  {
   "cell_type": "code",
   "execution_count": 8,
   "id": "c1d61e9f",
   "metadata": {},
   "outputs": [
    {
     "data": {
      "text/plain": [
       "Other                 17867\n",
       "Unknown                 742\n",
       "Konami                  402\n",
       "Capcom                  350\n",
       "EA Canada               289\n",
       "Bandai Namco Games      210\n",
       "Name: Developer_x, dtype: int64"
      ]
     },
     "execution_count": 8,
     "metadata": {},
     "output_type": "execute_result"
    }
   ],
   "source": [
    "# Determine which values to replace if counts are less than ...?\n",
    "replace_dev = list(Developer_counts[Developer_counts < 200].index)\n",
    "\n",
    "# Replace in dataframe\n",
    "for app in replace_dev:\n",
    "    all_columns_df.Developer_x = all_columns_df.Developer_x.replace(app,\"Other\")\n",
    "    \n",
    "# Check to make sure binning was successful\n",
    "all_columns_df.Developer_x.value_counts()"
   ]
  },
  {
   "cell_type": "code",
   "execution_count": 9,
   "id": "f93b71c5",
   "metadata": {},
   "outputs": [
    {
     "data": {
      "text/plain": [
       "Activision         1027\n",
       "Ubisoft             949\n",
       "Electronic Arts     822\n",
       "Konami              767\n",
       "Nintendo            753\n",
       "                   ... \n",
       "Dan Walters           1\n",
       "Game Arts             1\n",
       "ArtwareGames          1\n",
       "Indie Voyage          1\n",
       "GMX Media             1\n",
       "Name: Publisher, Length: 926, dtype: int64"
      ]
     },
     "execution_count": 9,
     "metadata": {},
     "output_type": "execute_result"
    }
   ],
   "source": [
    "# Look at Publisher value counts for binning\n",
    "Publisher_counts = all_columns_df['Publisher'].value_counts()\n",
    "Publisher_counts"
   ]
  },
  {
   "cell_type": "code",
   "execution_count": 10,
   "id": "1721cd38",
   "metadata": {},
   "outputs": [
    {
     "data": {
      "text/plain": [
       "<AxesSubplot:ylabel='Density'>"
      ]
     },
     "execution_count": 10,
     "metadata": {},
     "output_type": "execute_result"
    },
    {
     "data": {
      "image/png": "[encoded data removed]",
      "text/plain": [
       "<Figure size 432x288 with 1 Axes>"
      ]
     },
     "metadata": {
      "needs_background": "light"
     },
     "output_type": "display_data"
    }
   ],
   "source": [
    "# Visualize the value counts\n",
    "Publisher_counts.plot.density()"
   ]
  },
  {
   "cell_type": "code",
   "execution_count": 11,
   "id": "a702dd62",
   "metadata": {
    "scrolled": true
   },
   "outputs": [
    {
     "data": {
      "text/plain": [
       "Other              14115\n",
       "Activision          1027\n",
       "Ubisoft              949\n",
       "Electronic Arts      822\n",
       "Konami               767\n",
       "Nintendo             753\n",
       "THQ                  718\n",
       "Sega                 711\n",
       "Name: Publisher, dtype: int64"
      ]
     },
     "execution_count": 11,
     "metadata": {},
     "output_type": "execute_result"
    }
   ],
   "source": [
    "# Determine which values to replace if counts are less than ...?\n",
    "replace_pub = list(Publisher_counts[Publisher_counts < 700].index)\n",
    "\n",
    "# Replace in dataframe\n",
    "for app in replace_pub:\n",
    "    all_columns_df.Publisher = all_columns_df.Publisher.replace(app,\"Other\")\n",
    "    \n",
    "# Check to make sure binning was successful\n",
    "all_columns_df.Publisher.value_counts()"
   ]
  },
  {
   "cell_type": "code",
   "execution_count": 12,
   "id": "15c9a41a",
   "metadata": {},
   "outputs": [
    {
     "data": {
      "text/plain": [
       "DS      2265\n",
       "PS2     2218\n",
       "PC      2142\n",
       "PS3     1373\n",
       "Wii     1360\n",
       "PSP     1318\n",
       "X360    1310\n",
       "PS      1207\n",
       "PS4      940\n",
       "GBA      858\n",
       "XB       836\n",
       "PSV      645\n",
       "3DS      627\n",
       "GC       563\n",
       "XOne     539\n",
       "N64      322\n",
       "NS       281\n",
       "SNES     241\n",
       "SAT      175\n",
       "WiiU     161\n",
       "2600     133\n",
       "NES      102\n",
       "GB        94\n",
       "DC        52\n",
       "GEN       31\n",
       "NG        12\n",
       "PSN       10\n",
       "GBC        9\n",
       "WS         7\n",
       "XBL        7\n",
       "SCD        6\n",
       "3DO        4\n",
       "Mob        4\n",
       "VC         3\n",
       "PCE        2\n",
       "WW         1\n",
       "GG         1\n",
       "OSX        1\n",
       "PCFX       1\n",
       "Amig       1\n",
       "Name: Platform, dtype: int64"
      ]
     },
     "execution_count": 12,
     "metadata": {},
     "output_type": "execute_result"
    }
   ],
   "source": [
    "# Look at Platform_counts value counts for binning\n",
    "Platform_counts = all_columns_df['Platform'].value_counts()\n",
    "Platform_counts"
   ]
  },
  {
   "cell_type": "code",
   "execution_count": 13,
   "id": "18f53061",
   "metadata": {},
   "outputs": [
    {
     "data": {
      "text/plain": [
       "<AxesSubplot:ylabel='Density'>"
      ]
     },
     "execution_count": 13,
     "metadata": {},
     "output_type": "execute_result"
    },
    {
     "data": {
      "image/png": "[encoded data removed]",
      "text/plain": [
       "<Figure size 432x288 with 1 Axes>"
      ]
     },
     "metadata": {
      "needs_background": "light"
     },
     "output_type": "display_data"
    }
   ],
   "source": [
    "# Visualize the value counts\n",
    "Platform_counts.plot.density()"
   ]
  },
  {
   "cell_type": "code",
   "execution_count": 14,
   "id": "58fc4bd6",
   "metadata": {
    "scrolled": true
   },
   "outputs": [
    {
     "data": {
      "text/plain": [
       "Other    13237\n",
       "DS        2265\n",
       "PS2       2218\n",
       "PC        2142\n",
       "Name: Platform, dtype: int64"
      ]
     },
     "execution_count": 14,
     "metadata": {},
     "output_type": "execute_result"
    }
   ],
   "source": [
    "# Determine which values to replace if counts are less than ...?\n",
    "replace_plat = list(Platform_counts[Platform_counts < 1500].index)\n",
    "\n",
    "# Replace in dataframe\n",
    "for app in replace_plat:\n",
    "    all_columns_df.Platform = all_columns_df.Platform.replace(app,\"Other\")\n",
    "    \n",
    "# Check to make sure binning was successful\n",
    "all_columns_df.Platform.value_counts()"
   ]
  },
  {
   "cell_type": "code",
   "execution_count": 15,
   "id": "c3ea60fc",
   "metadata": {},
   "outputs": [
    {
     "data": {
      "text/plain": [
       "8.0    231\n",
       "7.0    211\n",
       "7.5    183\n",
       "8.3    151\n",
       "7.9    149\n",
       "      ... \n",
       "1.9      1\n",
       "1.7      1\n",
       "1.4      1\n",
       "2.2      1\n",
       "1.3      1\n",
       "Name: Critic_Score, Length: 86, dtype: int64"
      ]
     },
     "execution_count": 15,
     "metadata": {},
     "output_type": "execute_result"
    }
   ],
   "source": [
    "# Look at Critic_Score value counts for binning\n",
    "crit_counts = all_columns_df['Critic_Score'].value_counts()\n",
    "crit_counts"
   ]
  },
  {
   "cell_type": "code",
   "execution_count": 16,
   "id": "ebb7354b",
   "metadata": {},
   "outputs": [
    {
     "data": {
      "text/plain": [
       "Other    3930\n",
       "8.0       231\n",
       "7.0       211\n",
       "7.5       183\n",
       "8.3       151\n",
       "Name: Critic_Score, dtype: int64"
      ]
     },
     "execution_count": 16,
     "metadata": {},
     "output_type": "execute_result"
    }
   ],
   "source": [
    "# Determine which values to replace if counts are less than ...?\n",
    "replace_crit = list(crit_counts[crit_counts < 150].index)\n",
    "\n",
    "# Replace in dataframe\n",
    "for app in replace_crit:\n",
    "    all_columns_df.Critic_Score = all_columns_df.Critic_Score.replace(app,\"Other\")\n",
    "    \n",
    "# Check to make sure binning was successful\n",
    "all_columns_df.Critic_Score.value_counts()"
   ]
  },
  {
   "cell_type": "code",
   "execution_count": 17,
   "id": "1673347d",
   "metadata": {
    "scrolled": true
   },
   "outputs": [
    {
     "data": {
      "text/plain": [
       "Genre            object\n",
       "ESRB_Rating      object\n",
       "Platform         object\n",
       "Publisher        object\n",
       "Developer_x      object\n",
       "Critic_Score     object\n",
       "User_Score      float64\n",
       "Country          object\n",
       "Total_Sales     float64\n",
       "dtype: object"
      ]
     },
     "execution_count": 17,
     "metadata": {},
     "output_type": "execute_result"
    }
   ],
   "source": [
    "all_columns_df.dtypes"
   ]
  },
  {
   "cell_type": "code",
   "execution_count": 18,
   "id": "f03a2574",
   "metadata": {
    "scrolled": true
   },
   "outputs": [
    {
     "data": {
      "text/plain": [
       "Genre               0\n",
       "ESRB_Rating      5937\n",
       "Platform            0\n",
       "Publisher           0\n",
       "Developer_x         2\n",
       "Critic_Score    15156\n",
       "User_Score      19624\n",
       "Country          7985\n",
       "Total_Sales         0\n",
       "dtype: int64"
      ]
     },
     "execution_count": 18,
     "metadata": {},
     "output_type": "execute_result"
    }
   ],
   "source": [
    "all_columns_df.isna().sum()"
   ]
  },
  {
   "cell_type": "code",
   "execution_count": 19,
   "id": "551dd7f9",
   "metadata": {},
   "outputs": [],
   "source": [
    "all_columns_df.drop('User_Score',axis=1,inplace=True)"
   ]
  },
  {
   "cell_type": "code",
   "execution_count": 20,
   "id": "96c247e1",
   "metadata": {
    "scrolled": false
   },
   "outputs": [
    {
     "data": {
      "text/plain": [
       "Genre               0\n",
       "ESRB_Rating      5937\n",
       "Platform            0\n",
       "Publisher           0\n",
       "Developer_x         2\n",
       "Critic_Score    15156\n",
       "Country          7985\n",
       "Total_Sales         0\n",
       "dtype: int64"
      ]
     },
     "execution_count": 20,
     "metadata": {},
     "output_type": "execute_result"
    }
   ],
   "source": [
    "all_columns_df.isna().sum()"
   ]
  },
  {
   "cell_type": "code",
   "execution_count": 21,
   "id": "5b093753",
   "metadata": {},
   "outputs": [],
   "source": [
    "new_all_columns_df = all_columns_df.filter(['Genre', 'Platform', 'Publisher', 'Total_Sales'])"
   ]
  },
  {
   "cell_type": "code",
   "execution_count": 22,
   "id": "d26166cf",
   "metadata": {},
   "outputs": [
    {
     "data": {
      "text/html": [
       "<div>\n",
       "<style scoped>\n",
       "    .dataframe tbody tr th:only-of-type {\n",
       "        vertical-align: middle;\n",
       "    }\n",
       "\n",
       "    .dataframe tbody tr th {\n",
       "        vertical-align: top;\n",
       "    }\n",
       "\n",
       "    .dataframe thead th {\n",
       "        text-align: right;\n",
       "    }\n",
       "</style>\n",
       "<table border=\"1\" class=\"dataframe\">\n",
       "  <thead>\n",
       "    <tr style=\"text-align: right;\">\n",
       "      <th></th>\n",
       "      <th>Genre</th>\n",
       "      <th>Platform</th>\n",
       "      <th>Publisher</th>\n",
       "      <th>Total_Sales</th>\n",
       "    </tr>\n",
       "  </thead>\n",
       "  <tbody>\n",
       "    <tr>\n",
       "      <th>0</th>\n",
       "      <td>Sports</td>\n",
       "      <td>Other</td>\n",
       "      <td>Nintendo</td>\n",
       "      <td>82.86</td>\n",
       "    </tr>\n",
       "    <tr>\n",
       "      <th>1</th>\n",
       "      <td>Platform</td>\n",
       "      <td>Other</td>\n",
       "      <td>Nintendo</td>\n",
       "      <td>40.24</td>\n",
       "    </tr>\n",
       "    <tr>\n",
       "      <th>2</th>\n",
       "      <td>Racing</td>\n",
       "      <td>Other</td>\n",
       "      <td>Nintendo</td>\n",
       "      <td>37.14</td>\n",
       "    </tr>\n",
       "    <tr>\n",
       "      <th>3</th>\n",
       "      <td>Shooter</td>\n",
       "      <td>PC</td>\n",
       "      <td>Other</td>\n",
       "      <td>36.60</td>\n",
       "    </tr>\n",
       "    <tr>\n",
       "      <th>4</th>\n",
       "      <td>Sports</td>\n",
       "      <td>Other</td>\n",
       "      <td>Nintendo</td>\n",
       "      <td>33.09</td>\n",
       "    </tr>\n",
       "    <tr>\n",
       "      <th>...</th>\n",
       "      <td>...</td>\n",
       "      <td>...</td>\n",
       "      <td>...</td>\n",
       "      <td>...</td>\n",
       "    </tr>\n",
       "    <tr>\n",
       "      <th>19857</th>\n",
       "      <td>Simulation</td>\n",
       "      <td>PC</td>\n",
       "      <td>Other</td>\n",
       "      <td>0.01</td>\n",
       "    </tr>\n",
       "    <tr>\n",
       "      <th>19858</th>\n",
       "      <td>Shooter</td>\n",
       "      <td>PC</td>\n",
       "      <td>Ubisoft</td>\n",
       "      <td>0.01</td>\n",
       "    </tr>\n",
       "    <tr>\n",
       "      <th>19859</th>\n",
       "      <td>Fighting</td>\n",
       "      <td>PS2</td>\n",
       "      <td>Other</td>\n",
       "      <td>0.01</td>\n",
       "    </tr>\n",
       "    <tr>\n",
       "      <th>19860</th>\n",
       "      <td>Adventure</td>\n",
       "      <td>Other</td>\n",
       "      <td>Other</td>\n",
       "      <td>0.01</td>\n",
       "    </tr>\n",
       "    <tr>\n",
       "      <th>19861</th>\n",
       "      <td>Adventure</td>\n",
       "      <td>PS2</td>\n",
       "      <td>Other</td>\n",
       "      <td>0.01</td>\n",
       "    </tr>\n",
       "  </tbody>\n",
       "</table>\n",
       "<p>19862 rows × 4 columns</p>\n",
       "</div>"
      ],
      "text/plain": [
       "            Genre Platform Publisher  Total_Sales\n",
       "0          Sports    Other  Nintendo        82.86\n",
       "1        Platform    Other  Nintendo        40.24\n",
       "2          Racing    Other  Nintendo        37.14\n",
       "3         Shooter       PC     Other        36.60\n",
       "4          Sports    Other  Nintendo        33.09\n",
       "...           ...      ...       ...          ...\n",
       "19857  Simulation       PC     Other         0.01\n",
       "19858     Shooter       PC   Ubisoft         0.01\n",
       "19859    Fighting      PS2     Other         0.01\n",
       "19860   Adventure    Other     Other         0.01\n",
       "19861   Adventure      PS2     Other         0.01\n",
       "\n",
       "[19862 rows x 4 columns]"
      ]
     },
     "execution_count": 22,
     "metadata": {},
     "output_type": "execute_result"
    }
   ],
   "source": [
    "new_all_columns_df"
   ]
  },
  {
   "cell_type": "code",
   "execution_count": 23,
   "id": "3ff50dfe",
   "metadata": {},
   "outputs": [
    {
     "data": {
      "text/plain": [
       "Genre           20\n",
       "Platform         4\n",
       "Publisher        8\n",
       "Total_Sales    648\n",
       "dtype: int64"
      ]
     },
     "execution_count": 23,
     "metadata": {},
     "output_type": "execute_result"
    }
   ],
   "source": [
    "new_all_columns_df.nunique()"
   ]
  },
  {
   "cell_type": "code",
   "execution_count": 27,
   "id": "57c3aaca",
   "metadata": {},
   "outputs": [],
   "source": [
    "cat = new_all_columns_df.select_dtypes(include='object')"
   ]
  },
  {
   "cell_type": "code",
   "execution_count": 28,
   "id": "bf7fa4c7",
   "metadata": {},
   "outputs": [],
   "source": [
    "cat=list(cat.columns)"
   ]
  },
  {
   "cell_type": "code",
   "execution_count": 29,
   "id": "b36ce5b9",
   "metadata": {},
   "outputs": [
    {
     "data": {
      "text/plain": [
       "['Genre', 'Platform', 'Publisher']"
      ]
     },
     "execution_count": 29,
     "metadata": {},
     "output_type": "execute_result"
    }
   ],
   "source": [
    "cat"
   ]
  },
  {
   "cell_type": "code",
   "execution_count": 30,
   "id": "f0795929",
   "metadata": {},
   "outputs": [],
   "source": [
    "from sklearn.preprocessing import OneHotEncoder\n",
    "oh_encoder = OneHotEncoder(sparse=False, handle_unknown='ignore')\n",
    "enc_df = pd.get_dummies(data=new_all_columns_df,\n",
    "    columns=cat)\n",
    "# merge with main df bridge_df on key values\n",
    "# all_columns_df1 = all_columns_df.join(enc_df)\n",
    "# all_columns_df1.head(2)"
   ]
  },
  {
   "cell_type": "code",
   "execution_count": 31,
   "id": "992a2637",
   "metadata": {},
   "outputs": [],
   "source": [
    "num=new_all_columns_df.columns.drop(cat)"
   ]
  },
  {
   "cell_type": "code",
   "execution_count": 32,
   "id": "06d69c09",
   "metadata": {},
   "outputs": [],
   "source": [
    "df=pd.concat([new_all_columns_df[num], enc_df.drop('Total_Sales',axis=1)], axis=1)"
   ]
  },
  {
   "cell_type": "code",
   "execution_count": 33,
   "id": "48106986",
   "metadata": {},
   "outputs": [
    {
     "data": {
      "text/html": [
       "<div>\n",
       "<style scoped>\n",
       "    .dataframe tbody tr th:only-of-type {\n",
       "        vertical-align: middle;\n",
       "    }\n",
       "\n",
       "    .dataframe tbody tr th {\n",
       "        vertical-align: top;\n",
       "    }\n",
       "\n",
       "    .dataframe thead th {\n",
       "        text-align: right;\n",
       "    }\n",
       "</style>\n",
       "<table border=\"1\" class=\"dataframe\">\n",
       "  <thead>\n",
       "    <tr style=\"text-align: right;\">\n",
       "      <th></th>\n",
       "      <th>Total_Sales</th>\n",
       "      <th>Genre_Action</th>\n",
       "      <th>Genre_Action-Adventure</th>\n",
       "      <th>Genre_Adventure</th>\n",
       "      <th>Genre_Board Game</th>\n",
       "      <th>Genre_Education</th>\n",
       "      <th>Genre_Fighting</th>\n",
       "      <th>Genre_MMO</th>\n",
       "      <th>Genre_Misc</th>\n",
       "      <th>Genre_Music</th>\n",
       "      <th>...</th>\n",
       "      <th>Platform_PC</th>\n",
       "      <th>Platform_PS2</th>\n",
       "      <th>Publisher_Activision</th>\n",
       "      <th>Publisher_Electronic Arts</th>\n",
       "      <th>Publisher_Konami</th>\n",
       "      <th>Publisher_Nintendo</th>\n",
       "      <th>Publisher_Other</th>\n",
       "      <th>Publisher_Sega</th>\n",
       "      <th>Publisher_THQ</th>\n",
       "      <th>Publisher_Ubisoft</th>\n",
       "    </tr>\n",
       "  </thead>\n",
       "  <tbody>\n",
       "    <tr>\n",
       "      <th>0</th>\n",
       "      <td>82.86</td>\n",
       "      <td>0</td>\n",
       "      <td>0</td>\n",
       "      <td>0</td>\n",
       "      <td>0</td>\n",
       "      <td>0</td>\n",
       "      <td>0</td>\n",
       "      <td>0</td>\n",
       "      <td>0</td>\n",
       "      <td>0</td>\n",
       "      <td>...</td>\n",
       "      <td>0</td>\n",
       "      <td>0</td>\n",
       "      <td>0</td>\n",
       "      <td>0</td>\n",
       "      <td>0</td>\n",
       "      <td>1</td>\n",
       "      <td>0</td>\n",
       "      <td>0</td>\n",
       "      <td>0</td>\n",
       "      <td>0</td>\n",
       "    </tr>\n",
       "    <tr>\n",
       "      <th>1</th>\n",
       "      <td>40.24</td>\n",
       "      <td>0</td>\n",
       "      <td>0</td>\n",
       "      <td>0</td>\n",
       "      <td>0</td>\n",
       "      <td>0</td>\n",
       "      <td>0</td>\n",
       "      <td>0</td>\n",
       "      <td>0</td>\n",
       "      <td>0</td>\n",
       "      <td>...</td>\n",
       "      <td>0</td>\n",
       "      <td>0</td>\n",
       "      <td>0</td>\n",
       "      <td>0</td>\n",
       "      <td>0</td>\n",
       "      <td>1</td>\n",
       "      <td>0</td>\n",
       "      <td>0</td>\n",
       "      <td>0</td>\n",
       "      <td>0</td>\n",
       "    </tr>\n",
       "    <tr>\n",
       "      <th>2</th>\n",
       "      <td>37.14</td>\n",
       "      <td>0</td>\n",
       "      <td>0</td>\n",
       "      <td>0</td>\n",
       "      <td>0</td>\n",
       "      <td>0</td>\n",
       "      <td>0</td>\n",
       "      <td>0</td>\n",
       "      <td>0</td>\n",
       "      <td>0</td>\n",
       "      <td>...</td>\n",
       "      <td>0</td>\n",
       "      <td>0</td>\n",
       "      <td>0</td>\n",
       "      <td>0</td>\n",
       "      <td>0</td>\n",
       "      <td>1</td>\n",
       "      <td>0</td>\n",
       "      <td>0</td>\n",
       "      <td>0</td>\n",
       "      <td>0</td>\n",
       "    </tr>\n",
       "    <tr>\n",
       "      <th>3</th>\n",
       "      <td>36.60</td>\n",
       "      <td>0</td>\n",
       "      <td>0</td>\n",
       "      <td>0</td>\n",
       "      <td>0</td>\n",
       "      <td>0</td>\n",
       "      <td>0</td>\n",
       "      <td>0</td>\n",
       "      <td>0</td>\n",
       "      <td>0</td>\n",
       "      <td>...</td>\n",
       "      <td>1</td>\n",
       "      <td>0</td>\n",
       "      <td>0</td>\n",
       "      <td>0</td>\n",
       "      <td>0</td>\n",
       "      <td>0</td>\n",
       "      <td>1</td>\n",
       "      <td>0</td>\n",
       "      <td>0</td>\n",
       "      <td>0</td>\n",
       "    </tr>\n",
       "    <tr>\n",
       "      <th>4</th>\n",
       "      <td>33.09</td>\n",
       "      <td>0</td>\n",
       "      <td>0</td>\n",
       "      <td>0</td>\n",
       "      <td>0</td>\n",
       "      <td>0</td>\n",
       "      <td>0</td>\n",
       "      <td>0</td>\n",
       "      <td>0</td>\n",
       "      <td>0</td>\n",
       "      <td>...</td>\n",
       "      <td>0</td>\n",
       "      <td>0</td>\n",
       "      <td>0</td>\n",
       "      <td>0</td>\n",
       "      <td>0</td>\n",
       "      <td>1</td>\n",
       "      <td>0</td>\n",
       "      <td>0</td>\n",
       "      <td>0</td>\n",
       "      <td>0</td>\n",
       "    </tr>\n",
       "  </tbody>\n",
       "</table>\n",
       "<p>5 rows × 33 columns</p>\n",
       "</div>"
      ],
      "text/plain": [
       "   Total_Sales  Genre_Action  Genre_Action-Adventure  Genre_Adventure  \\\n",
       "0        82.86             0                       0                0   \n",
       "1        40.24             0                       0                0   \n",
       "2        37.14             0                       0                0   \n",
       "3        36.60             0                       0                0   \n",
       "4        33.09             0                       0                0   \n",
       "\n",
       "   Genre_Board Game  Genre_Education  Genre_Fighting  Genre_MMO  Genre_Misc  \\\n",
       "0                 0                0               0          0           0   \n",
       "1                 0                0               0          0           0   \n",
       "2                 0                0               0          0           0   \n",
       "3                 0                0               0          0           0   \n",
       "4                 0                0               0          0           0   \n",
       "\n",
       "   Genre_Music  ...  Platform_PC  Platform_PS2  Publisher_Activision  \\\n",
       "0            0  ...            0             0                     0   \n",
       "1            0  ...            0             0                     0   \n",
       "2            0  ...            0             0                     0   \n",
       "3            0  ...            1             0                     0   \n",
       "4            0  ...            0             0                     0   \n",
       "\n",
       "   Publisher_Electronic Arts  Publisher_Konami  Publisher_Nintendo  \\\n",
       "0                          0                 0                   1   \n",
       "1                          0                 0                   1   \n",
       "2                          0                 0                   1   \n",
       "3                          0                 0                   0   \n",
       "4                          0                 0                   1   \n",
       "\n",
       "   Publisher_Other  Publisher_Sega  Publisher_THQ  Publisher_Ubisoft  \n",
       "0                0               0              0                  0  \n",
       "1                0               0              0                  0  \n",
       "2                0               0              0                  0  \n",
       "3                1               0              0                  0  \n",
       "4                0               0              0                  0  \n",
       "\n",
       "[5 rows x 33 columns]"
      ]
     },
     "execution_count": 33,
     "metadata": {},
     "output_type": "execute_result"
    }
   ],
   "source": [
    "df.head()"
   ]
  },
  {
   "cell_type": "code",
   "execution_count": 34,
   "id": "898da0d1",
   "metadata": {},
   "outputs": [
    {
     "data": {
      "text/plain": [
       "(19862, 33)"
      ]
     },
     "execution_count": 34,
     "metadata": {},
     "output_type": "execute_result"
    }
   ],
   "source": [
    "df.dropna().shape"
   ]
  },
  {
   "cell_type": "code",
   "execution_count": 35,
   "id": "029b5b37",
   "metadata": {},
   "outputs": [],
   "source": [
    "df=df.dropna()"
   ]
  },
  {
   "cell_type": "code",
   "execution_count": 36,
   "id": "69ca93a8",
   "metadata": {},
   "outputs": [
    {
     "data": {
      "text/plain": [
       "0        82.86\n",
       "1        40.24\n",
       "2        37.14\n",
       "3        36.60\n",
       "4        33.09\n",
       "         ...  \n",
       "19857     0.01\n",
       "19858     0.01\n",
       "19859     0.01\n",
       "19860     0.01\n",
       "19861     0.01\n",
       "Name: Total_Sales, Length: 19862, dtype: float64"
      ]
     },
     "execution_count": 36,
     "metadata": {},
     "output_type": "execute_result"
    }
   ],
   "source": [
    "df.Total_Sales"
   ]
  },
  {
   "cell_type": "code",
   "execution_count": 37,
   "id": "c1cd87d7",
   "metadata": {},
   "outputs": [
    {
     "name": "stderr",
     "output_type": "stream",
     "text": [
      "C:\\Users\\ericn\\AppData\\Local\\Temp\\ipykernel_19928\\2046830252.py:2: FutureWarning: In a future version of pandas all arguments of DataFrame.drop except for the argument 'labels' will be keyword-only.\n",
      "  X = df.drop([\"Total_Sales\"],1).values\n"
     ]
    }
   ],
   "source": [
    "y = df[\"Total_Sales\"].values\n",
    "X = df.drop([\"Total_Sales\"],1).values"
   ]
  },
  {
   "cell_type": "code",
   "execution_count": 38,
   "id": "b124c8c9",
   "metadata": {},
   "outputs": [],
   "source": [
    "X_train, X_test, y_train, y_test = train_test_split(X, y, random_state=78)"
   ]
  },
  {
   "cell_type": "code",
   "execution_count": 39,
   "id": "6960e8a5",
   "metadata": {},
   "outputs": [],
   "source": [
    "# Create a StandardScaler instances\n",
    "scaler = StandardScaler()\n",
    "\n",
    "# Fit the StandardScaler\n",
    "X_scaler = scaler.fit(X_train)\n",
    "\n",
    "# Scale the data\n",
    "X_train_scaled = X_scaler.transform(X_train)\n",
    "X_test_scaled = X_scaler.transform(X_test)"
   ]
  },
  {
   "cell_type": "markdown",
   "id": "e80c55e9",
   "metadata": {},
   "source": [
    "# Compile, Train and Evaluate the Model"
   ]
  },
  {
   "cell_type": "code",
   "execution_count": 46,
   "id": "13b17a7e",
   "metadata": {},
   "outputs": [
    {
     "name": "stdout",
     "output_type": "stream",
     "text": [
      "Model: \"sequential_1\"\n",
      "_________________________________________________________________\n",
      " Layer (type)                Output Shape              Param #   \n",
      "=================================================================\n",
      " dense_3 (Dense)             (None, 100)               3300      \n",
      "                                                                 \n",
      " dense_4 (Dense)             (None, 50)                5050      \n",
      "                                                                 \n",
      " dense_5 (Dense)             (None, 30)                1530      \n",
      "                                                                 \n",
      " dense_6 (Dense)             (None, 1)                 31        \n",
      "                                                                 \n",
      "=================================================================\n",
      "Total params: 9,911\n",
      "Trainable params: 9,911\n",
      "Non-trainable params: 0\n",
      "_________________________________________________________________\n"
     ]
    }
   ],
   "source": [
    "# Define the model - deep neural net\n",
    "number_input_features = len(X_train[0])\n",
    "hidden_nodes_layer1 =  100\n",
    "hidden_nodes_layer2 = 50\n",
    "hidden_nodes_layer3 = 30\n",
    "\n",
    "nn = tf.keras.models.Sequential()\n",
    "\n",
    "# First hidden layer\n",
    "nn.add(\n",
    "    tf.keras.layers.Dense(units=hidden_nodes_layer1, input_dim=number_input_features, activation=\"relu\")\n",
    ")\n",
    "\n",
    "# Second hidden layer\n",
    "nn.add(tf.keras.layers.Dense(units=hidden_nodes_layer2, activation=\"relu\"))\n",
    "\n",
    "# Third hidden layer\n",
    "nn.add(tf.keras.layers.Dense(units=hidden_nodes_layer3, activation=\"sigmoid\"))\n",
    "\n",
    "# Output layer\n",
    "nn.add(tf.keras.layers.Dense(units=1, activation=\"sigmoid\"))\n",
    "\n",
    "# Check the structure of the model\n",
    "nn.summary()"
   ]
  },
  {
   "cell_type": "code",
   "execution_count": 47,
   "id": "bc20b650",
   "metadata": {},
   "outputs": [],
   "source": [
    "# Import checkpoint dependencies\n",
    "import os\n",
    "from tensorflow.keras.callbacks import ModelCheckpoint\n",
    "\n",
    "# Define the checkpoint path and filenames\n",
    "os.makedirs(\"checkpoints/\",exist_ok=True)\n",
    "checkpoint_path = \"checkpoints/weights.{epoch:02d}.hdf5\""
   ]
  },
  {
   "cell_type": "code",
   "execution_count": 48,
   "id": "365b8eb4",
   "metadata": {},
   "outputs": [],
   "source": [
    "# Compile the model\n",
    "nn.compile(loss=\"binary_crossentropy\", optimizer=\"adam\", metrics=[\"accuracy\"])"
   ]
  },
  {
   "cell_type": "code",
   "execution_count": 49,
   "id": "4312b334",
   "metadata": {},
   "outputs": [
    {
     "name": "stdout",
     "output_type": "stream",
     "text": [
      "WARNING:tensorflow:`period` argument is deprecated. Please use `save_freq` to specify the frequency in number of batches seen.\n"
     ]
    }
   ],
   "source": [
    "# Create callback that saves the model's weights every 5 epochs\n",
    "cp_callback = ModelCheckpoint(filepath=checkpoint_path,\n",
    "                              verbose=1,\n",
    "                              save_weights_only=True,\n",
    "                              save_freq=\"epoch\",\n",
    "                              period=5)"
   ]
  },
  {
   "cell_type": "code",
   "execution_count": 50,
   "id": "9fd35eac",
   "metadata": {},
   "outputs": [
    {
     "name": "stdout",
     "output_type": "stream",
     "text": [
      "Epoch 1/100\n",
      "466/466 [==============================] - 1s 736us/step - loss: 0.3262 - accuracy: 0.0012\n",
      "Epoch 2/100\n",
      "466/466 [==============================] - 0s 745us/step - loss: -0.1167 - accuracy: 0.0011\n",
      "Epoch 3/100\n",
      "466/466 [==============================] - 0s 770us/step - loss: -0.3847 - accuracy: 0.0014\n",
      "Epoch 4/100\n",
      "466/466 [==============================] - 0s 747us/step - loss: -0.6459 - accuracy: 0.0013\n",
      "Epoch 5/100\n",
      "419/466 [=========================>....] - ETA: 0s - loss: -0.9394 - accuracy: 0.0013\n",
      "Epoch 5: saving model to checkpoints\\weights.05.hdf5\n",
      "466/466 [==============================] - 0s 736us/step - loss: -0.9083 - accuracy: 0.0014\n",
      "Epoch 6/100\n",
      "466/466 [==============================] - 0s 738us/step - loss: -1.1498 - accuracy: 0.0016\n",
      "Epoch 7/100\n",
      "466/466 [==============================] - 0s 757us/step - loss: -1.3843 - accuracy: 0.0012\n",
      "Epoch 8/100\n",
      "466/466 [==============================] - 0s 756us/step - loss: -1.6382 - accuracy: 0.0013\n",
      "Epoch 9/100\n",
      "466/466 [==============================] - 0s 736us/step - loss: -1.8877 - accuracy: 0.0012\n",
      "Epoch 10/100\n",
      "420/466 [==========================>...] - ETA: 0s - loss: -2.0928 - accuracy: 0.0010    \n",
      "Epoch 10: saving model to checkpoints\\weights.10.hdf5\n",
      "466/466 [==============================] - 0s 755us/step - loss: -2.1364 - accuracy: 0.0011\n",
      "Epoch 11/100\n",
      "466/466 [==============================] - 0s 714us/step - loss: -2.3929 - accuracy: 0.0013\n",
      "Epoch 12/100\n",
      "466/466 [==============================] - 0s 726us/step - loss: -2.6450 - accuracy: 0.0011\n",
      "Epoch 13/100\n",
      "466/466 [==============================] - 0s 730us/step - loss: -2.9013 - accuracy: 0.0012\n",
      "Epoch 14/100\n",
      "466/466 [==============================] - 0s 729us/step - loss: -3.1547 - accuracy: 0.0012\n",
      "Epoch 15/100\n",
      "427/466 [==========================>...] - ETA: 0s - loss: -3.2323 - accuracy: 0.0014\n",
      "Epoch 15: saving model to checkpoints\\weights.15.hdf5\n",
      "466/466 [==============================] - 0s 725us/step - loss: -3.3979 - accuracy: 0.0013\n",
      "Epoch 16/100\n",
      "466/466 [==============================] - 0s 743us/step - loss: -3.6455 - accuracy: 0.0014\n",
      "Epoch 17/100\n",
      "466/466 [==============================] - 0s 781us/step - loss: -3.9057 - accuracy: 0.0011\n",
      "Epoch 18/100\n",
      "466/466 [==============================] - 0s 752us/step - loss: -4.1470 - accuracy: 0.0013\n",
      "Epoch 19/100\n",
      "466/466 [==============================] - 0s 749us/step - loss: -4.3956 - accuracy: 0.0011\n",
      "Epoch 20/100\n",
      "418/466 [=========================>....] - ETA: 0s - loss: -4.6758 - accuracy: 0.0013\n",
      "Epoch 20: saving model to checkpoints\\weights.20.hdf5\n",
      "466/466 [==============================] - 0s 766us/step - loss: -4.6465 - accuracy: 0.0013\n",
      "Epoch 21/100\n",
      "466/466 [==============================] - 0s 731us/step - loss: -4.8930 - accuracy: 0.0011\n",
      "Epoch 22/100\n",
      "466/466 [==============================] - 0s 716us/step - loss: -5.1326 - accuracy: 0.0011\n",
      "Epoch 23/100\n",
      "466/466 [==============================] - 0s 721us/step - loss: -5.3931 - accuracy: 0.0011\n",
      "Epoch 24/100\n",
      "466/466 [==============================] - 0s 738us/step - loss: -5.6499 - accuracy: 0.0012\n",
      "Epoch 25/100\n",
      "409/466 [=========================>....] - ETA: 0s - loss: -5.9042 - accuracy: 8.4046e-04\n",
      "Epoch 25: saving model to checkpoints\\weights.25.hdf5\n",
      "466/466 [==============================] - 0s 753us/step - loss: -5.5754 - accuracy: 9.3985e-04\n",
      "Epoch 26/100\n",
      "466/466 [==============================] - 0s 752us/step - loss: -6.1316 - accuracy: 0.0010\n",
      "Epoch 27/100\n",
      "466/466 [==============================] - 0s 744us/step - loss: -6.3938 - accuracy: 0.0011\n",
      "Epoch 28/100\n",
      "466/466 [==============================] - 0s 753us/step - loss: -6.6613 - accuracy: 0.0012\n",
      "Epoch 29/100\n",
      "466/466 [==============================] - 0s 729us/step - loss: -6.9335 - accuracy: 0.0012\n",
      "Epoch 30/100\n",
      "407/466 [=========================>....] - ETA: 0s - loss: -6.7828 - accuracy: 0.0012   \n",
      "Epoch 30: saving model to checkpoints\\weights.30.hdf5\n",
      "466/466 [==============================] - 0s 751us/step - loss: -7.1809 - accuracy: 0.0012\n",
      "Epoch 31/100\n",
      "466/466 [==============================] - 0s 758us/step - loss: -7.4348 - accuracy: 8.7272e-04\n",
      "Epoch 32/100\n",
      "466/466 [==============================] - 0s 734us/step - loss: -7.6947 - accuracy: 0.0011\n",
      "Epoch 33/100\n",
      "466/466 [==============================] - 0s 719us/step - loss: -7.9558 - accuracy: 0.0012\n",
      "Epoch 34/100\n",
      "466/466 [==============================] - 0s 734us/step - loss: -8.2146 - accuracy: 0.0012\n",
      "Epoch 35/100\n",
      "462/466 [============================>.] - ETA: 0s - loss: -8.4736 - accuracy: 0.0012 \n",
      "Epoch 35: saving model to checkpoints\\weights.35.hdf5\n",
      "466/466 [==============================] - 0s 806us/step - loss: -8.4728 - accuracy: 0.0012\n",
      "Epoch 36/100\n",
      "466/466 [==============================] - 0s 816us/step - loss: -8.7277 - accuracy: 0.0013\n",
      "Epoch 37/100\n",
      "466/466 [==============================] - 0s 785us/step - loss: -8.9709 - accuracy: 0.0012\n",
      "Epoch 38/100\n",
      "466/466 [==============================] - 0s 757us/step - loss: -9.2140 - accuracy: 0.0011\n",
      "Epoch 39/100\n",
      "466/466 [==============================] - 0s 749us/step - loss: -9.4857 - accuracy: 0.0011\n",
      "Epoch 40/100\n",
      "406/466 [=========================>....] - ETA: 0s - loss: -10.0050 - accuracy: 0.0014 \n",
      "Epoch 40: saving model to checkpoints\\weights.40.hdf5\n",
      "466/466 [==============================] - 0s 755us/step - loss: -9.5487 - accuracy: 0.0014\n",
      "Epoch 41/100\n",
      "466/466 [==============================] - 0s 755us/step - loss: -9.3334 - accuracy: 0.0010\n",
      "Epoch 42/100\n",
      "466/466 [==============================] - 0s 757us/step - loss: -10.1610 - accuracy: 0.0011\n",
      "Epoch 43/100\n",
      "466/466 [==============================] - 0s 742us/step - loss: -10.4422 - accuracy: 0.0014\n",
      "Epoch 44/100\n",
      "466/466 [==============================] - 0s 729us/step - loss: -10.7050 - accuracy: 0.0015\n",
      "Epoch 45/100\n",
      "419/466 [=========================>....] - ETA: 0s - loss: -10.8351 - accuracy: 0.0016\n",
      "Epoch 45: saving model to checkpoints\\weights.45.hdf5\n",
      "466/466 [==============================] - 0s 751us/step - loss: -10.9634 - accuracy: 0.0015\n",
      "Epoch 46/100\n",
      "466/466 [==============================] - 0s 737us/step - loss: -11.2241 - accuracy: 0.0011\n",
      "Epoch 47/100\n",
      "466/466 [==============================] - 0s 746us/step - loss: -11.4744 - accuracy: 0.0016\n",
      "Epoch 48/100\n",
      "466/466 [==============================] - 0s 742us/step - loss: -11.7325 - accuracy: 0.0014\n",
      "Epoch 49/100\n",
      "466/466 [==============================] - 0s 739us/step - loss: -11.9884 - accuracy: 0.0013\n",
      "Epoch 50/100\n",
      "429/466 [==========================>...] - ETA: 0s - loss: -12.1161 - accuracy: 9.4697e-04\n",
      "Epoch 50: saving model to checkpoints\\weights.50.hdf5\n",
      "466/466 [==============================] - 0s 745us/step - loss: -12.2406 - accuracy: 0.0012\n",
      "Epoch 51/100\n",
      "466/466 [==============================] - 0s 720us/step - loss: -12.4982 - accuracy: 0.0012\n",
      "Epoch 52/100\n",
      "466/466 [==============================] - 0s 734us/step - loss: -12.7467 - accuracy: 0.0014\n",
      "Epoch 53/100\n",
      "466/466 [==============================] - 0s 747us/step - loss: -12.9722 - accuracy: 0.0013\n",
      "Epoch 54/100\n",
      "466/466 [==============================] - 0s 714us/step - loss: -13.2228 - accuracy: 0.0017\n",
      "Epoch 55/100\n",
      "420/466 [==========================>...] - ETA: 0s - loss: -14.1418 - accuracy: 0.0017\n",
      "Epoch 55: saving model to checkpoints\\weights.55.hdf5\n",
      "466/466 [==============================] - 0s 734us/step - loss: -13.4775 - accuracy: 0.0016\n",
      "Epoch 56/100\n",
      "466/466 [==============================] - 0s 726us/step - loss: -13.7339 - accuracy: 0.0013\n",
      "Epoch 57/100\n",
      "466/466 [==============================] - 0s 746us/step - loss: -13.9892 - accuracy: 0.0015\n",
      "Epoch 58/100\n",
      "466/466 [==============================] - 0s 764us/step - loss: -14.0995 - accuracy: 0.0013\n",
      "Epoch 59/100\n",
      "466/466 [==============================] - 0s 751us/step - loss: -14.4621 - accuracy: 0.0016\n",
      "Epoch 60/100\n",
      "419/466 [=========================>....] - ETA: 0s - loss: -15.1814 - accuracy: 0.0013\n",
      "Epoch 60: saving model to checkpoints\\weights.60.hdf5\n",
      "466/466 [==============================] - 0s 773us/step - loss: -14.7541 - accuracy: 0.0013\n",
      "Epoch 61/100\n",
      "466/466 [==============================] - 0s 745us/step - loss: -14.9963 - accuracy: 0.0014\n",
      "Epoch 62/100\n"
     ]
    },
    {
     "name": "stdout",
     "output_type": "stream",
     "text": [
      "466/466 [==============================] - 0s 729us/step - loss: -14.8195 - accuracy: 0.0013\n",
      "Epoch 63/100\n",
      "466/466 [==============================] - 0s 714us/step - loss: -15.0866 - accuracy: 0.0011\n",
      "Epoch 64/100\n",
      "466/466 [==============================] - 0s 731us/step - loss: -15.5900 - accuracy: 0.0012\n",
      "Epoch 65/100\n",
      "409/466 [=========================>....] - ETA: 0s - loss: -15.4506 - accuracy: 9.9328e-04\n",
      "Epoch 65: saving model to checkpoints\\weights.65.hdf5\n",
      "466/466 [==============================] - 0s 746us/step - loss: -16.0268 - accuracy: 0.0010\n",
      "Epoch 66/100\n",
      "466/466 [==============================] - 0s 740us/step - loss: -16.2167 - accuracy: 0.0012\n",
      "Epoch 67/100\n",
      "466/466 [==============================] - 0s 753us/step - loss: -16.5217 - accuracy: 0.0010\n",
      "Epoch 68/100\n",
      "466/466 [==============================] - 0s 754us/step - loss: -16.7719 - accuracy: 0.0011\n",
      "Epoch 69/100\n",
      "466/466 [==============================] - 0s 741us/step - loss: -17.0224 - accuracy: 0.0011\n",
      "Epoch 70/100\n",
      "418/466 [=========================>....] - ETA: 0s - loss: -16.5618 - accuracy: 0.0012  \n",
      "Epoch 70: saving model to checkpoints\\weights.70.hdf5\n",
      "466/466 [==============================] - 0s 770us/step - loss: -17.2751 - accuracy: 0.0011\n",
      "Epoch 71/100\n",
      "466/466 [==============================] - 0s 751us/step - loss: -17.5262 - accuracy: 0.0013\n",
      "Epoch 72/100\n",
      "466/466 [==============================] - 0s 731us/step - loss: -17.7774 - accuracy: 9.3985e-04\n",
      "Epoch 73/100\n",
      "466/466 [==============================] - 0s 710us/step - loss: -18.0341 - accuracy: 9.3985e-04\n",
      "Epoch 74/100\n",
      "466/466 [==============================] - 0s 723us/step - loss: -18.1272 - accuracy: 0.0011\n",
      "Epoch 75/100\n",
      "413/466 [=========================>....] - ETA: 0s - loss: -18.9257 - accuracy: 0.0011\n",
      "Epoch 75: saving model to checkpoints\\weights.75.hdf5\n",
      "466/466 [==============================] - 0s 768us/step - loss: -18.5390 - accuracy: 0.0011\n",
      "Epoch 76/100\n",
      "466/466 [==============================] - 0s 756us/step - loss: -18.7939 - accuracy: 0.0011\n",
      "Epoch 77/100\n",
      "466/466 [==============================] - 0s 748us/step - loss: -19.0417 - accuracy: 0.0010\n",
      "Epoch 78/100\n",
      "466/466 [==============================] - 0s 745us/step - loss: -19.2864 - accuracy: 0.0011\n",
      "Epoch 79/100\n",
      "466/466 [==============================] - 0s 738us/step - loss: -19.5372 - accuracy: 0.0012\n",
      "Epoch 80/100\n",
      "419/466 [=========================>....] - ETA: 0s - loss: -19.7561 - accuracy: 0.0010    \n",
      "Epoch 80: saving model to checkpoints\\weights.80.hdf5\n",
      "466/466 [==============================] - 0s 740us/step - loss: -19.7896 - accuracy: 9.3985e-04\n",
      "Epoch 81/100\n",
      "466/466 [==============================] - 0s 751us/step - loss: -20.0463 - accuracy: 0.0013\n",
      "Epoch 82/100\n",
      "466/466 [==============================] - 0s 720us/step - loss: -20.3041 - accuracy: 0.0011\n",
      "Epoch 83/100\n",
      "466/466 [==============================] - 0s 722us/step - loss: -20.5598 - accuracy: 0.0010\n",
      "Epoch 84/100\n",
      "466/466 [==============================] - 0s 717us/step - loss: -20.8117 - accuracy: 0.0012\n",
      "Epoch 85/100\n",
      "415/466 [=========================>....] - ETA: 0s - loss: -19.1509 - accuracy: 0.0011\n",
      "Epoch 85: saving model to checkpoints\\weights.85.hdf5\n",
      "466/466 [==============================] - 0s 766us/step - loss: -21.0667 - accuracy: 0.0010\n",
      "Epoch 86/100\n",
      "466/466 [==============================] - 0s 746us/step - loss: -21.3219 - accuracy: 0.0013\n",
      "Epoch 87/100\n",
      "466/466 [==============================] - 0s 758us/step - loss: -21.5130 - accuracy: 9.3985e-04\n",
      "Epoch 88/100\n",
      "466/466 [==============================] - 0s 740us/step - loss: -21.7938 - accuracy: 0.0011\n",
      "Epoch 89/100\n",
      "466/466 [==============================] - 0s 742us/step - loss: -22.0386 - accuracy: 0.0011\n",
      "Epoch 90/100\n",
      "428/466 [==========================>...] - ETA: 0s - loss: -22.0586 - accuracy: 0.0012    \n",
      "Epoch 90: saving model to checkpoints\\weights.90.hdf5\n",
      "466/466 [==============================] - 0s 723us/step - loss: -22.2888 - accuracy: 0.0012\n",
      "Epoch 91/100\n",
      "466/466 [==============================] - 0s 716us/step - loss: -22.5391 - accuracy: 0.0010\n",
      "Epoch 92/100\n",
      "466/466 [==============================] - 0s 716us/step - loss: -22.7877 - accuracy: 0.0010\n",
      "Epoch 93/100\n",
      "466/466 [==============================] - 0s 721us/step - loss: -23.0372 - accuracy: 0.0011\n",
      "Epoch 94/100\n",
      "466/466 [==============================] - 0s 729us/step - loss: -23.2858 - accuracy: 0.0011\n",
      "Epoch 95/100\n",
      "409/466 [=========================>....] - ETA: 0s - loss: -22.4773 - accuracy: 0.0013\n",
      "Epoch 95: saving model to checkpoints\\weights.95.hdf5\n",
      "466/466 [==============================] - 0s 751us/step - loss: -23.5522 - accuracy: 0.0012\n",
      "Epoch 96/100\n",
      "466/466 [==============================] - 0s 742us/step - loss: -23.7874 - accuracy: 0.0010\n",
      "Epoch 97/100\n",
      "466/466 [==============================] - 0s 739us/step - loss: -23.1728 - accuracy: 0.0015\n",
      "Epoch 98/100\n",
      "466/466 [==============================] - 0s 753us/step - loss: -19.6600 - accuracy: 0.0018\n",
      "Epoch 99/100\n",
      "466/466 [==============================] - 0s 747us/step - loss: -22.2701 - accuracy: 0.0015\n",
      "Epoch 100/100\n",
      "414/466 [=========================>....] - ETA: 0s - loss: -21.9566 - accuracy: 0.0014\n",
      "Epoch 100: saving model to checkpoints\\weights.100.hdf5\n",
      "466/466 [==============================] - 0s 742us/step - loss: -24.3649 - accuracy: 0.0012\n"
     ]
    }
   ],
   "source": [
    "# Train the model\n",
    "fit_model = nn.fit(X_train_scaled, y_train, epochs=100, callbacks=[cp_callback])"
   ]
  },
  {
   "cell_type": "code",
   "execution_count": 51,
   "id": "60fb8085",
   "metadata": {},
   "outputs": [
    {
     "name": "stdout",
     "output_type": "stream",
     "text": [
      "156/156 - 0s - loss: -2.2905e+01 - accuracy: 0.0020 - 177ms/epoch - 1ms/step\n",
      "Loss: -22.90498924255371, Accuracy: 0.0020136930979788303\n"
     ]
    }
   ],
   "source": [
    "# Evaluate the model using the test data\n",
    "model_loss, model_accuracy = nn.evaluate(X_test_scaled,y_test,verbose=2)\n",
    "print(f\"Loss: {model_loss}, Accuracy: {model_accuracy}\")"
   ]
  },
  {
   "cell_type": "code",
   "execution_count": null,
   "id": "8344852c",
   "metadata": {},
   "outputs": [],
   "source": []
  },
  {
   "cell_type": "code",
   "execution_count": null,
   "id": "a9219412",
   "metadata": {},
   "outputs": [],
   "source": []
  },
  {
   "cell_type": "code",
   "execution_count": null,
   "id": "2b804e01",
   "metadata": {},
   "outputs": [],
   "source": []
  }
 ],
 "metadata": {
  "kernelspec": {
   "display_name": "Python 3 (ipykernel)",
   "language": "python",
   "name": "python3"
  },
  "language_info": {
   "codemirror_mode": {
    "name": "ipython",
    "version": 3
   },
   "file_extension": ".py",
   "mimetype": "text/x-python",
   "name": "python",
   "nbconvert_exporter": "python",
   "pygments_lexer": "ipython3",
   "version": "3.10.5"
  }
 },
 "nbformat": 4,
 "nbformat_minor": 5
}
