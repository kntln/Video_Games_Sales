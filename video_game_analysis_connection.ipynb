{
 "cells": [
  {
   "cell_type": "markdown",
   "metadata": {
    "id": "lDn34a7F7_ek"
   },
   "source": [
    "##Connect Spark 3.2.2"
   ]
  },
  {
   "cell_type": "code",
   "execution_count": 1,
   "metadata": {
    "colab": {
     "base_uri": "https://localhost:8080/"
    },
    "executionInfo": {
     "elapsed": 62943,
     "status": "ok",
     "timestamp": 1658257446533,
     "user": {
      "displayName": "Eric N",
      "userId": "08840174605489527978"
     },
     "user_tz": 240
    },
    "id": "oLfhkZGH1waA",
    "outputId": "0f5b8cfd-bfbc-4789-a453-b471e1830540"
   },
   "outputs": [
    {
     "name": "stdout",
     "output_type": "stream",
     "text": [
      "Hit:1 https://developer.download.nvidia.com/compute/cuda/repos/ubuntu1804/x86_64  InRelease\n",
      "Get:2 http://security.ubuntu.com/ubuntu bionic-security InRelease [88.7 kB]\n",
      "Get:3 https://cloud.r-project.org/bin/linux/ubuntu bionic-cran40/ InRelease [3,626 B]\n",
      "Ign:4 https://developer.download.nvidia.com/compute/machine-learning/repos/ubuntu1804/x86_64  InRelease\n",
      "Hit:5 https://developer.download.nvidia.com/compute/machine-learning/repos/ubuntu1804/x86_64  Release\n",
      "Hit:6 http://archive.ubuntu.com/ubuntu bionic InRelease\n",
      "Hit:7 http://ppa.launchpad.net/c2d4u.team/c2d4u4.0+/ubuntu bionic InRelease\n",
      "Get:8 http://archive.ubuntu.com/ubuntu bionic-updates InRelease [88.7 kB]\n",
      "Hit:9 http://ppa.launchpad.net/cran/libgit2/ubuntu bionic InRelease\n",
      "Hit:10 http://ppa.launchpad.net/deadsnakes/ppa/ubuntu bionic InRelease\n",
      "Get:11 http://archive.ubuntu.com/ubuntu bionic-backports InRelease [74.6 kB]\n",
      "Hit:12 http://ppa.launchpad.net/graphics-drivers/ppa/ubuntu bionic InRelease\n",
      "Get:13 https://cloud.r-project.org/bin/linux/ubuntu bionic-cran40/ Packages [85.6 kB]\n",
      "Get:15 http://security.ubuntu.com/ubuntu bionic-security/restricted amd64 Packages [1,063 kB]\n",
      "Get:16 http://security.ubuntu.com/ubuntu bionic-security/universe amd64 Packages [1,526 kB]\n",
      "Get:17 http://security.ubuntu.com/ubuntu bionic-security/main amd64 Packages [2,900 kB]\n",
      "Get:18 http://archive.ubuntu.com/ubuntu bionic-updates/restricted amd64 Packages [1,105 kB]\n",
      "Get:19 http://archive.ubuntu.com/ubuntu bionic-updates/main amd64 Packages [3,332 kB]\n",
      "Get:20 http://archive.ubuntu.com/ubuntu bionic-updates/universe amd64 Packages [2,302 kB]\n",
      "Fetched 12.6 MB in 37s (336 kB/s)\n",
      "Reading package lists... Done\n"
     ]
    }
   ],
   "source": [
    "import os\n",
    "# Find the latest version of spark 3.0 from http://www.apache.org/dist/spark/ and enter as the spark version\n",
    "# For example:\n",
    "# spark_version = 'spark-3.0.3'\n",
    "spark_version = 'spark-3.2.2'\n",
    "os.environ['SPARK_VERSION']=spark_version\n",
    "\n",
    "# Install Spark and Java\n",
    "!apt-get update\n",
    "!apt-get install openjdk-11-jdk-headless -qq > /dev/null\n",
    "!wget -q http://www.apache.org/dist/spark/$SPARK_VERSION/$SPARK_VERSION-bin-hadoop2.7.tgz\n",
    "!tar xf $SPARK_VERSION-bin-hadoop2.7.tgz\n",
    "!pip install -q findspark\n",
    "\n",
    "# Set Environment Variables\n",
    "os.environ[\"JAVA_HOME\"] = \"/usr/lib/jvm/java-11-openjdk-amd64\"\n",
    "os.environ[\"SPARK_HOME\"] = f\"/content/{spark_version}-bin-hadoop2.7\"\n",
    "\n",
    "# Start a SparkSession\n",
    "import findspark\n",
    "findspark.init()"
   ]
  },
  {
   "cell_type": "code",
   "execution_count": 3,
   "metadata": {
    "colab": {
     "base_uri": "https://localhost:8080/"
    },
    "executionInfo": {
     "elapsed": 589,
     "status": "ok",
     "timestamp": 1658257752053,
     "user": {
      "displayName": "Eric N",
      "userId": "08840174605489527978"
     },
     "user_tz": 240
    },
    "id": "cMfW379b20La",
    "outputId": "caa79625-1247-402c-eea7-2d6278176886"
   },
   "outputs": [
    {
     "name": "stdout",
     "output_type": "stream",
     "text": [
      "--2022-07-19 19:09:11--  https://jdbc.postgresql.org/download/postgresql-42.2.16.jar\n",
      "Resolving jdbc.postgresql.org (jdbc.postgresql.org)... 72.32.157.228, 2001:4800:3e1:1::228\n",
      "Connecting to jdbc.postgresql.org (jdbc.postgresql.org)|72.32.157.228|:443... connected.\n",
      "HTTP request sent, awaiting response... 200 OK\n",
      "Length: 1002883 (979K) [application/java-archive]\n",
      "Saving to: ‘postgresql-42.2.16.jar’\n",
      "\n",
      "postgresql-42.2.16. 100%[===================>] 979.38K  --.-KB/s    in 0.08s   \n",
      "\n",
      "2022-07-19 19:09:11 (11.3 MB/s) - ‘postgresql-42.2.16.jar’ saved [1002883/1002883]\n",
      "\n"
     ]
    }
   ],
   "source": [
    "# Download the Postgres driver that will allow Spark to interact with Postgres.\n",
    "!wget https://jdbc.postgresql.org/download/postgresql-42.2.16.jar"
   ]
  },
  {
   "cell_type": "code",
   "execution_count": 4,
   "metadata": {
    "executionInfo": {
     "elapsed": 8401,
     "status": "ok",
     "timestamp": 1658257787793,
     "user": {
      "displayName": "Eric N",
      "userId": "08840174605489527978"
     },
     "user_tz": 240
    },
    "id": "2PLfDOn32xhp"
   },
   "outputs": [],
   "source": [
    "from pyspark.sql import SparkSession\n",
    "spark = SparkSession.builder.appName(\"final_project\").config(\"spark.driver.extraClassPath\",\"/content/postgresql-42.2.16.jar\").getOrCreate()"
   ]
  },
  {
   "cell_type": "markdown",
   "metadata": {
    "id": "Vl8wgG9V4cnk"
   },
   "source": [
    "##Load csv from S3 to Colab"
   ]
  },
  {
   "cell_type": "code",
   "execution_count": 8,
   "metadata": {
    "colab": {
     "base_uri": "https://localhost:8080/"
    },
    "executionInfo": {
     "elapsed": 914,
     "status": "ok",
     "timestamp": 1658258308308,
     "user": {
      "displayName": "Eric N",
      "userId": "08840174605489527978"
     },
     "user_tz": 240
    },
    "id": "-yGtLJhg1w6V",
    "outputId": "425608db-9cd0-4010-8482-459346504481"
   },
   "outputs": [
    {
     "name": "stdout",
     "output_type": "stream",
     "text": [
      "+----+--------------------+------------+--------+--------------------+--------------------+------+-----------+\n",
      "|Rank|                Name|       Genre|Platform|           Publisher|         Developer_x|  Year|Total_Sales|\n",
      "+----+--------------------+------------+--------+--------------------+--------------------+------+-----------+\n",
      "|   1|          Wii Sports|      Sports|     Wii|            Nintendo|        Nintendo EAD|2006.0|      82.86|\n",
      "|   2|   Super Mario Bros.|    Platform|     NES|            Nintendo|        Nintendo EAD|1985.0|      40.24|\n",
      "|   3|      Mario Kart Wii|      Racing|     Wii|            Nintendo|        Nintendo EAD|2008.0|      37.14|\n",
      "|   4|PlayerUnknown's B...|     Shooter|      PC|    PUBG Corporation|    PUBG Corporation|2017.0|       36.6|\n",
      "|   5|   Wii Sports Resort|      Sports|     Wii|            Nintendo|        Nintendo EAD|2009.0|      33.09|\n",
      "|   6|Pokemon Red / Gre...|Role-Playing|      GB|            Nintendo|          Game Freak|1998.0|      31.38|\n",
      "|   7|New Super Mario B...|    Platform|      DS|            Nintendo|        Nintendo EAD|2006.0|       30.8|\n",
      "|   8|              Tetris|      Puzzle|      GB|            Nintendo|Bullet Proof Soft...|1989.0|      30.26|\n",
      "|   9|New Super Mario B...|    Platform|     Wii|            Nintendo|        Nintendo EAD|2009.0|      30.22|\n",
      "|  10|           Minecraft|        Misc|      PC|              Mojang|           Mojang AB|2010.0|      30.01|\n",
      "|  11|           Duck Hunt|     Shooter|     NES|            Nintendo|       Nintendo R&D1|1985.0|      28.31|\n",
      "|  12|            Wii Play|        Misc|     Wii|            Nintendo|        Nintendo EAD|2007.0|      28.02|\n",
      "|  13|  Kinect Adventures!|       Party|    X360|Microsoft Game St...| Good Science Studio|2010.0|       24.0|\n",
      "|  14|          Nintendogs|  Simulation|      DS|            Nintendo|        Nintendo EAD|2005.0|      23.96|\n",
      "|  15|       Mario Kart DS|      Racing|      DS|            Nintendo|        Nintendo EAD|2005.0|       23.6|\n",
      "|  16|Pokemon Gold / Si...|Role-Playing|      GB|            Nintendo|          Game Freak|2000.0|       23.1|\n",
      "|  17|             Wii Fit|      Sports|     Wii|            Nintendo|        Nintendo EAD|2008.0|      22.67|\n",
      "|  18|        Wii Fit Plus|      Sports|     Wii|            Nintendo|        Nintendo EAD|2009.0|      21.13|\n",
      "|  19|   Super Mario World|    Platform|    SNES|            Nintendo|        Nintendo EAD|1991.0|      20.61|\n",
      "|  20|  Grand Theft Auto V|      Action|     PS3|      Rockstar Games|      Rockstar North|2013.0|      20.32|\n",
      "+----+--------------------+------------+--------+--------------------+--------------------+------+-----------+\n",
      "only showing top 20 rows\n",
      "\n"
     ]
    }
   ],
   "source": [
    "from pyspark import SparkFiles\n",
    "url = \"https://video-game-dataset-uot-boot-camp-2022-group-4.s3.us-east-2.amazonaws.com/sales_cleaned.csv\"\n",
    "spark.sparkContext.addFile(url)\n",
    "cleaned_df = spark.read.option(\"encoding\", \"UTF-8\").csv(SparkFiles.get(\"sales_cleaned.csv\"), sep=\",\", header=True, inferSchema=True)\n",
    "cleaned_df.show()"
   ]
  },
  {
   "cell_type": "code",
   "execution_count": 9,
   "metadata": {
    "colab": {
     "base_uri": "https://localhost:8080/"
    },
    "executionInfo": {
     "elapsed": 1670,
     "status": "ok",
     "timestamp": 1658258362751,
     "user": {
      "displayName": "Eric N",
      "userId": "08840174605489527978"
     },
     "user_tz": 240
    },
    "id": "D6M6iNsG2wq8",
    "outputId": "14ecba61-e077-4323-b972-115ef3946917"
   },
   "outputs": [
    {
     "name": "stdout",
     "output_type": "stream",
     "text": [
      "+----+--------------------+------------+-----------+--------+--------------------+--------------------+------------+----------+------+-------------+-----------+\n",
      "|Rank|                Name|       Genre|ESRB_Rating|Platform|           Publisher|         Developer_x|Critic_Score|User_Score|  Year|      Country|Total_Sales|\n",
      "+----+--------------------+------------+-----------+--------+--------------------+--------------------+------------+----------+------+-------------+-----------+\n",
      "|   1|          Wii Sports|      Sports|          E|     Wii|            Nintendo|        Nintendo EAD|         7.7|      null|2006.0|        Japan|      82.86|\n",
      "|   2|   Super Mario Bros.|    Platform|       null|     NES|            Nintendo|        Nintendo EAD|        10.0|      null|1985.0|        Japan|      40.24|\n",
      "|   3|      Mario Kart Wii|      Racing|          E|     Wii|            Nintendo|        Nintendo EAD|         8.2|       9.1|2008.0|        Japan|      37.14|\n",
      "|   4|PlayerUnknown's B...|     Shooter|       null|      PC|    PUBG Corporation|    PUBG Corporation|        null|      null|2017.0|         null|       36.6|\n",
      "|   5|   Wii Sports Resort|      Sports|          E|     Wii|            Nintendo|        Nintendo EAD|         8.0|       8.8|2009.0|        Japan|      33.09|\n",
      "|   6|Pokemon Red / Gre...|Role-Playing|          E|      GB|            Nintendo|          Game Freak|         9.4|      null|1998.0|        Japan|      31.38|\n",
      "|   7|New Super Mario B...|    Platform|          E|      DS|            Nintendo|        Nintendo EAD|         9.1|       8.1|2006.0|        Japan|       30.8|\n",
      "|   8|              Tetris|      Puzzle|          E|      GB|            Nintendo|Bullet Proof Soft...|        null|      null|1989.0|        Japan|      30.26|\n",
      "|   9|New Super Mario B...|    Platform|          E|     Wii|            Nintendo|        Nintendo EAD|         8.6|       9.2|2009.0|        Japan|      30.22|\n",
      "|  10|           Minecraft|        Misc|       null|      PC|              Mojang|           Mojang AB|        10.0|      null|2010.0|         null|      30.01|\n",
      "|  11|           Duck Hunt|     Shooter|       null|     NES|            Nintendo|       Nintendo R&D1|        null|      null|1985.0|        Japan|      28.31|\n",
      "|  12|            Wii Play|        Misc|          E|     Wii|            Nintendo|        Nintendo EAD|         5.9|       4.5|2007.0|        Japan|      28.02|\n",
      "|  13|  Kinect Adventures!|       Party|          E|    X360|Microsoft Game St...| Good Science Studio|         6.7|      null|2010.0|         null|       24.0|\n",
      "|  14|          Nintendogs|  Simulation|          E|      DS|            Nintendo|        Nintendo EAD|         8.4|      null|2005.0|        Japan|      23.96|\n",
      "|  15|       Mario Kart DS|      Racing|          E|      DS|            Nintendo|        Nintendo EAD|         9.1|       9.4|2005.0|        Japan|       23.6|\n",
      "|  16|Pokemon Gold / Si...|Role-Playing|          E|      GB|            Nintendo|          Game Freak|         9.2|      null|2000.0|        Japan|       23.1|\n",
      "|  17|             Wii Fit|      Sports|          E|     Wii|            Nintendo|        Nintendo EAD|         7.9|      null|2008.0|        Japan|      22.67|\n",
      "|  18|        Wii Fit Plus|      Sports|          E|     Wii|            Nintendo|        Nintendo EAD|         8.0|      null|2009.0|        Japan|      21.13|\n",
      "|  19|   Super Mario World|    Platform|          E|    SNES|            Nintendo|        Nintendo EAD|         8.5|      null|1991.0|        Japan|      20.61|\n",
      "|  20|  Grand Theft Auto V|      Action|          M|     PS3|      Rockstar Games|      Rockstar North|         9.4|      null|2013.0|United States|      20.32|\n",
      "+----+--------------------+------------+-----------+--------+--------------------+--------------------+------------+----------+------+-------------+-----------+\n",
      "only showing top 20 rows\n",
      "\n"
     ]
    }
   ],
   "source": [
    "from pyspark import SparkFiles\n",
    "url = \"https://video-game-dataset-uot-boot-camp-2022-group-4.s3.us-east-2.amazonaws.com/all_columns_df.csv\"\n",
    "spark.sparkContext.addFile(url)\n",
    "all_columns_df = spark.read.option(\"encoding\", \"UTF-8\").csv(SparkFiles.get(\"all_columns_df.csv\"), sep=\",\", header=True, inferSchema=True)\n",
    "all_columns_df.show()"
   ]
  },
  {
   "cell_type": "code",
   "execution_count": null,
   "metadata": {
    "id": "BzLBu0H81xAE"
   },
   "outputs": [],
   "source": []
  },
  {
   "cell_type": "markdown",
   "metadata": {
    "id": "LrWpzKfj5DIw"
   },
   "source": [
    "##Connect RDS to PostgreSQL table"
   ]
  },
  {
   "cell_type": "code",
   "execution_count": null,
   "metadata": {
    "id": "25OEUStN1w-N"
   },
   "outputs": [],
   "source": [
    "# Configure settings for RDS\n",
    "# \"password\": \"*********\", \n",
    "from getpass import getpass\n",
    "password = getpass('password')\n",
    "mode = \"append\"\n",
    "jdbc_url=\"jdbc:postgresql://projectdb.cqnk8h8kczwj.us-east-2.rds.amazonaws.com:5432/project_db\"\n",
    "config = {\"user\":\"postgresRDS\", \n",
    "          \"password\": password,\n",
    "          \"driver\":\"org.postgresql.Driver\"}"
   ]
  },
  {
   "cell_type": "markdown",
   "metadata": {
    "id": "B_5BXbpS7z7T"
   },
   "source": [
    "##Write dataframe to table"
   ]
  },
  {
   "cell_type": "code",
   "execution_count": null,
   "metadata": {
    "id": "VtlC3JPK1xEd"
   },
   "outputs": [],
   "source": [
    "# Write cleaned_sales to table in RDS\n",
    "cleaned_df.write.jdbc(url=jdbc_url, table='cleaned_df', mode=mode, properties=config)"
   ]
  },
  {
   "cell_type": "code",
   "execution_count": null,
   "metadata": {
    "id": "t6NnDpfA1xGv"
   },
   "outputs": [],
   "source": [
    "# Write all_columns_df to table in RDS\n",
    "all_columns_df.write.jdbc(url=jdbc_url, table='all_columns_df', mode=mode, properties=config)"
   ]
  },
  {
   "cell_type": "code",
   "execution_count": null,
   "metadata": {
    "id": "OYKraAIF1xJC"
   },
   "outputs": [],
   "source": []
  },
  {
   "cell_type": "code",
   "execution_count": null,
   "metadata": {
    "id": "oqAh6W0z1xK5"
   },
   "outputs": [],
   "source": []
  }
 ],
 "metadata": {
  "colab": {
   "authorship_tag": "ABX9TyP5Fm+fUbsL7knM/ccY4Dq0",
   "collapsed_sections": [],
   "name": "video_game_analysis_connection.ipynb",
   "provenance": []
  },
  "kernelspec": {
   "display_name": "Python 3 (ipykernel)",
   "language": "python",
   "name": "python3"
  },
  "language_info": {
   "codemirror_mode": {
    "name": "ipython",
    "version": 3
   },
   "file_extension": ".py",
   "mimetype": "text/x-python",
   "name": "python",
   "nbconvert_exporter": "python",
   "pygments_lexer": "ipython3",
   "version": "3.10.5"
  }
 },
 "nbformat": 4,
 "nbformat_minor": 1
}
