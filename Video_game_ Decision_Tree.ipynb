{
 "cells": [
  {
   "cell_type": "markdown",
   "id": "1428ab7e",
   "metadata": {},
   "source": [
    " # Machine Learning model"
   ]
  },
  {
   "cell_type": "markdown",
   "id": "819a5210",
   "metadata": {},
   "source": [
    "# Decision Tree"
   ]
  },
  {
   "cell_type": "code",
   "execution_count": 303,
   "id": "cb7250fe",
   "metadata": {},
   "outputs": [],
   "source": [
    "# Import  dependencies\n",
    "from sklearn.model_selection import train_test_split\n",
    "from sklearn.preprocessing import StandardScaler,OneHotEncoder\n",
    "import pandas as pd\n",
    "import tensorflow as tf\n",
    "import numpy as np\n",
    "from sklearn.cluster import KMeans"
   ]
  },
  {
   "cell_type": "code",
   "execution_count": 304,
   "id": "030fd945",
   "metadata": {},
   "outputs": [
    {
     "data": {
      "text/html": [
       "<div>\n",
       "<style scoped>\n",
       "    .dataframe tbody tr th:only-of-type {\n",
       "        vertical-align: middle;\n",
       "    }\n",
       "\n",
       "    .dataframe tbody tr th {\n",
       "        vertical-align: top;\n",
       "    }\n",
       "\n",
       "    .dataframe thead th {\n",
       "        text-align: right;\n",
       "    }\n",
       "</style>\n",
       "<table border=\"1\" class=\"dataframe\">\n",
       "  <thead>\n",
       "    <tr style=\"text-align: right;\">\n",
       "      <th></th>\n",
       "      <th>Rank</th>\n",
       "      <th>Name</th>\n",
       "      <th>Genre</th>\n",
       "      <th>ESRB_Rating</th>\n",
       "      <th>Platform</th>\n",
       "      <th>Publisher</th>\n",
       "      <th>Developer_x</th>\n",
       "      <th>Critic_Score</th>\n",
       "      <th>User_Score</th>\n",
       "      <th>Year</th>\n",
       "      <th>Country</th>\n",
       "      <th>Total_Sales</th>\n",
       "    </tr>\n",
       "  </thead>\n",
       "  <tbody>\n",
       "    <tr>\n",
       "      <th>0</th>\n",
       "      <td>1</td>\n",
       "      <td>Wii Sports</td>\n",
       "      <td>Sports</td>\n",
       "      <td>E</td>\n",
       "      <td>Wii</td>\n",
       "      <td>Nintendo</td>\n",
       "      <td>Nintendo EAD</td>\n",
       "      <td>7.7</td>\n",
       "      <td>NaN</td>\n",
       "      <td>2006.0</td>\n",
       "      <td>Japan</td>\n",
       "      <td>82.86</td>\n",
       "    </tr>\n",
       "    <tr>\n",
       "      <th>1</th>\n",
       "      <td>2</td>\n",
       "      <td>Super Mario Bros.</td>\n",
       "      <td>Platform</td>\n",
       "      <td>NaN</td>\n",
       "      <td>NES</td>\n",
       "      <td>Nintendo</td>\n",
       "      <td>Nintendo EAD</td>\n",
       "      <td>10.0</td>\n",
       "      <td>NaN</td>\n",
       "      <td>1985.0</td>\n",
       "      <td>Japan</td>\n",
       "      <td>40.24</td>\n",
       "    </tr>\n",
       "    <tr>\n",
       "      <th>2</th>\n",
       "      <td>3</td>\n",
       "      <td>Mario Kart Wii</td>\n",
       "      <td>Racing</td>\n",
       "      <td>E</td>\n",
       "      <td>Wii</td>\n",
       "      <td>Nintendo</td>\n",
       "      <td>Nintendo EAD</td>\n",
       "      <td>8.2</td>\n",
       "      <td>9.1</td>\n",
       "      <td>2008.0</td>\n",
       "      <td>Japan</td>\n",
       "      <td>37.14</td>\n",
       "    </tr>\n",
       "    <tr>\n",
       "      <th>3</th>\n",
       "      <td>4</td>\n",
       "      <td>PlayerUnknown's Battlegrounds</td>\n",
       "      <td>Shooter</td>\n",
       "      <td>NaN</td>\n",
       "      <td>PC</td>\n",
       "      <td>PUBG Corporation</td>\n",
       "      <td>PUBG Corporation</td>\n",
       "      <td>NaN</td>\n",
       "      <td>NaN</td>\n",
       "      <td>2017.0</td>\n",
       "      <td>NaN</td>\n",
       "      <td>36.60</td>\n",
       "    </tr>\n",
       "    <tr>\n",
       "      <th>4</th>\n",
       "      <td>5</td>\n",
       "      <td>Wii Sports Resort</td>\n",
       "      <td>Sports</td>\n",
       "      <td>E</td>\n",
       "      <td>Wii</td>\n",
       "      <td>Nintendo</td>\n",
       "      <td>Nintendo EAD</td>\n",
       "      <td>8.0</td>\n",
       "      <td>8.8</td>\n",
       "      <td>2009.0</td>\n",
       "      <td>Japan</td>\n",
       "      <td>33.09</td>\n",
       "    </tr>\n",
       "    <tr>\n",
       "      <th>5</th>\n",
       "      <td>6</td>\n",
       "      <td>Pokemon Red / Green / Blue Version</td>\n",
       "      <td>Role-Playing</td>\n",
       "      <td>E</td>\n",
       "      <td>GB</td>\n",
       "      <td>Nintendo</td>\n",
       "      <td>Game Freak</td>\n",
       "      <td>9.4</td>\n",
       "      <td>NaN</td>\n",
       "      <td>1998.0</td>\n",
       "      <td>Japan</td>\n",
       "      <td>31.38</td>\n",
       "    </tr>\n",
       "    <tr>\n",
       "      <th>6</th>\n",
       "      <td>7</td>\n",
       "      <td>New Super Mario Bros.</td>\n",
       "      <td>Platform</td>\n",
       "      <td>E</td>\n",
       "      <td>DS</td>\n",
       "      <td>Nintendo</td>\n",
       "      <td>Nintendo EAD</td>\n",
       "      <td>9.1</td>\n",
       "      <td>8.1</td>\n",
       "      <td>2006.0</td>\n",
       "      <td>Japan</td>\n",
       "      <td>30.80</td>\n",
       "    </tr>\n",
       "    <tr>\n",
       "      <th>7</th>\n",
       "      <td>8</td>\n",
       "      <td>Tetris</td>\n",
       "      <td>Puzzle</td>\n",
       "      <td>E</td>\n",
       "      <td>GB</td>\n",
       "      <td>Nintendo</td>\n",
       "      <td>Bullet Proof Software</td>\n",
       "      <td>NaN</td>\n",
       "      <td>NaN</td>\n",
       "      <td>1989.0</td>\n",
       "      <td>Japan</td>\n",
       "      <td>30.26</td>\n",
       "    </tr>\n",
       "    <tr>\n",
       "      <th>8</th>\n",
       "      <td>9</td>\n",
       "      <td>New Super Mario Bros. Wii</td>\n",
       "      <td>Platform</td>\n",
       "      <td>E</td>\n",
       "      <td>Wii</td>\n",
       "      <td>Nintendo</td>\n",
       "      <td>Nintendo EAD</td>\n",
       "      <td>8.6</td>\n",
       "      <td>9.2</td>\n",
       "      <td>2009.0</td>\n",
       "      <td>Japan</td>\n",
       "      <td>30.22</td>\n",
       "    </tr>\n",
       "    <tr>\n",
       "      <th>9</th>\n",
       "      <td>10</td>\n",
       "      <td>Minecraft</td>\n",
       "      <td>Misc</td>\n",
       "      <td>NaN</td>\n",
       "      <td>PC</td>\n",
       "      <td>Mojang</td>\n",
       "      <td>Mojang AB</td>\n",
       "      <td>10.0</td>\n",
       "      <td>NaN</td>\n",
       "      <td>2010.0</td>\n",
       "      <td>NaN</td>\n",
       "      <td>30.01</td>\n",
       "    </tr>\n",
       "  </tbody>\n",
       "</table>\n",
       "</div>"
      ],
      "text/plain": [
       "   Rank                                Name         Genre ESRB_Rating  \\\n",
       "0     1                          Wii Sports        Sports           E   \n",
       "1     2                   Super Mario Bros.      Platform         NaN   \n",
       "2     3                      Mario Kart Wii        Racing           E   \n",
       "3     4       PlayerUnknown's Battlegrounds       Shooter         NaN   \n",
       "4     5                   Wii Sports Resort        Sports           E   \n",
       "5     6  Pokemon Red / Green / Blue Version  Role-Playing           E   \n",
       "6     7               New Super Mario Bros.      Platform           E   \n",
       "7     8                              Tetris        Puzzle           E   \n",
       "8     9           New Super Mario Bros. Wii      Platform           E   \n",
       "9    10                           Minecraft          Misc         NaN   \n",
       "\n",
       "  Platform         Publisher            Developer_x  Critic_Score  User_Score  \\\n",
       "0      Wii          Nintendo           Nintendo EAD           7.7         NaN   \n",
       "1      NES          Nintendo           Nintendo EAD          10.0         NaN   \n",
       "2      Wii          Nintendo           Nintendo EAD           8.2         9.1   \n",
       "3       PC  PUBG Corporation       PUBG Corporation           NaN         NaN   \n",
       "4      Wii          Nintendo           Nintendo EAD           8.0         8.8   \n",
       "5       GB          Nintendo             Game Freak           9.4         NaN   \n",
       "6       DS          Nintendo           Nintendo EAD           9.1         8.1   \n",
       "7       GB          Nintendo  Bullet Proof Software           NaN         NaN   \n",
       "8      Wii          Nintendo           Nintendo EAD           8.6         9.2   \n",
       "9       PC            Mojang              Mojang AB          10.0         NaN   \n",
       "\n",
       "     Year Country  Total_Sales  \n",
       "0  2006.0   Japan        82.86  \n",
       "1  1985.0   Japan        40.24  \n",
       "2  2008.0   Japan        37.14  \n",
       "3  2017.0     NaN        36.60  \n",
       "4  2009.0   Japan        33.09  \n",
       "5  1998.0   Japan        31.38  \n",
       "6  2006.0   Japan        30.80  \n",
       "7  1989.0   Japan        30.26  \n",
       "8  2009.0   Japan        30.22  \n",
       "9  2010.0     NaN        30.01  "
      ]
     },
     "execution_count": 304,
     "metadata": {},
     "output_type": "execute_result"
    }
   ],
   "source": [
    "# reads all columns data\n",
    "all_columns_df = pd.read_csv('Resources/all_columns_df.csv')\n",
    "all_columns_df.head(10)"
   ]
  },
  {
   "cell_type": "code",
   "execution_count": 305,
   "id": "e9731dd5",
   "metadata": {},
   "outputs": [
    {
     "data": {
      "text/plain": [
       "Rank            19862\n",
       "Name            13840\n",
       "Genre              20\n",
       "ESRB_Rating         6\n",
       "Platform           40\n",
       "Publisher         926\n",
       "Developer_x      3185\n",
       "Critic_Score       86\n",
       "User_Score         44\n",
       "Year               45\n",
       "Country            20\n",
       "Total_Sales       648\n",
       "dtype: int64"
      ]
     },
     "execution_count": 305,
     "metadata": {},
     "output_type": "execute_result"
    }
   ],
   "source": [
    "# Determine the number of unique values in each column.\n",
    "all_columns_df.nunique()"
   ]
  },
  {
   "cell_type": "code",
   "execution_count": 306,
   "id": "a0c8a60e",
   "metadata": {},
   "outputs": [],
   "source": [
    "# Drop the non-beneficial ID columns, 'EIN' and 'NAME'.\n",
    "all_columns_df.drop(['Rank', 'Name', 'Year'], axis=1, inplace=True)"
   ]
  },
  {
   "cell_type": "code",
   "execution_count": 307,
   "id": "8ef2bf12",
   "metadata": {},
   "outputs": [
    {
     "data": {
      "text/plain": [
       "Unknown                      742\n",
       "Konami                       402\n",
       "Capcom                       350\n",
       "EA Canada                    289\n",
       "Bandai Namco Games           210\n",
       "                            ... \n",
       "Separate Game Development      1\n",
       "Yeti Trunk                     1\n",
       "Atum Software                  1\n",
       "Majesco Entertainment          1\n",
       "Shockwave Productions          1\n",
       "Name: Developer_x, Length: 3185, dtype: int64"
      ]
     },
     "execution_count": 307,
     "metadata": {},
     "output_type": "execute_result"
    }
   ],
   "source": [
    "# Look at APPLICATION_TYPE value counts for binning\n",
    "Developer_counts = all_columns_df['Developer_x'].value_counts()\n",
    "Developer_counts"
   ]
  },
  {
   "cell_type": "code",
   "execution_count": 308,
   "id": "692ed30d",
   "metadata": {},
   "outputs": [
    {
     "data": {
      "text/plain": [
       "<AxesSubplot:ylabel='Density'>"
      ]
     },
     "execution_count": 308,
     "metadata": {},
     "output_type": "execute_result"
    },
    {
     "data": {
      "image/png": "[encoded data removed]",
      "text/plain": [
       "<Figure size 432x288 with 1 Axes>"
      ]
     },
     "metadata": {
      "needs_background": "light"
     },
     "output_type": "display_data"
    }
   ],
   "source": [
    "# Visualize the value counts of APPLICATION_TYPE\n",
    "Developer_counts.plot.density()"
   ]
  },
  {
   "cell_type": "code",
   "execution_count": 309,
   "id": "c1d61e9f",
   "metadata": {},
   "outputs": [
    {
     "data": {
      "text/plain": [
       "Other                 17867\n",
       "Unknown                 742\n",
       "Konami                  402\n",
       "Capcom                  350\n",
       "EA Canada               289\n",
       "Bandai Namco Games      210\n",
       "Name: Developer_x, dtype: int64"
      ]
     },
     "execution_count": 309,
     "metadata": {},
     "output_type": "execute_result"
    }
   ],
   "source": [
    "# Determine which values to replace if counts are less than ...?\n",
    "replace_dev = list(Developer_counts[Developer_counts < 200].index)\n",
    "\n",
    "# Replace in dataframe\n",
    "for app in replace_dev:\n",
    "    all_columns_df.Developer_x = all_columns_df.Developer_x.replace(app,\"Other\")\n",
    "    \n",
    "# Check to make sure binning was successful\n",
    "all_columns_df.Developer_x.value_counts()"
   ]
  },
  {
   "cell_type": "code",
   "execution_count": 310,
   "id": "f93b71c5",
   "metadata": {},
   "outputs": [
    {
     "data": {
      "text/plain": [
       "Activision         1027\n",
       "Ubisoft             949\n",
       "Electronic Arts     822\n",
       "Konami              767\n",
       "Nintendo            753\n",
       "                   ... \n",
       "Dan Walters           1\n",
       "Game Arts             1\n",
       "ArtwareGames          1\n",
       "Indie Voyage          1\n",
       "GMX Media             1\n",
       "Name: Publisher, Length: 926, dtype: int64"
      ]
     },
     "execution_count": 310,
     "metadata": {},
     "output_type": "execute_result"
    }
   ],
   "source": [
    "# Look at Publisher value counts for binning\n",
    "Publisher_counts = all_columns_df['Publisher'].value_counts()\n",
    "Publisher_counts"
   ]
  },
  {
   "cell_type": "code",
   "execution_count": 311,
   "id": "1721cd38",
   "metadata": {},
   "outputs": [
    {
     "data": {
      "text/plain": [
       "<AxesSubplot:ylabel='Density'>"
      ]
     },
     "execution_count": 311,
     "metadata": {},
     "output_type": "execute_result"
    },
    {
     "data": {
      "image/png": "[encoded data removed]",
      "text/plain": [
       "<Figure size 432x288 with 1 Axes>"
      ]
     },
     "metadata": {
      "needs_background": "light"
     },
     "output_type": "display_data"
    }
   ],
   "source": [
    "# Visualize the value counts of APPLICATION_TYPE\n",
    "Publisher_counts.plot.density()"
   ]
  },
  {
   "cell_type": "code",
   "execution_count": 312,
   "id": "a702dd62",
   "metadata": {
    "scrolled": true
   },
   "outputs": [
    {
     "data": {
      "text/plain": [
       "Other              14115\n",
       "Activision          1027\n",
       "Ubisoft              949\n",
       "Electronic Arts      822\n",
       "Konami               767\n",
       "Nintendo             753\n",
       "THQ                  718\n",
       "Sega                 711\n",
       "Name: Publisher, dtype: int64"
      ]
     },
     "execution_count": 312,
     "metadata": {},
     "output_type": "execute_result"
    }
   ],
   "source": [
    "# Determine which values to replace if counts are less than ...?\n",
    "replace_pub = list(Publisher_counts[Publisher_counts < 700].index)\n",
    "\n",
    "# Replace in dataframe\n",
    "for app in replace_pub:\n",
    "    all_columns_df.Publisher = all_columns_df.Publisher.replace(app,\"Other\")\n",
    "    \n",
    "# Check to make sure binning was successful\n",
    "all_columns_df.Publisher.value_counts()"
   ]
  },
  {
   "cell_type": "code",
   "execution_count": 313,
   "id": "15c9a41a",
   "metadata": {},
   "outputs": [
    {
     "data": {
      "text/plain": [
       "DS      2265\n",
       "PS2     2218\n",
       "PC      2142\n",
       "PS3     1373\n",
       "Wii     1360\n",
       "PSP     1318\n",
       "X360    1310\n",
       "PS      1207\n",
       "PS4      940\n",
       "GBA      858\n",
       "XB       836\n",
       "PSV      645\n",
       "3DS      627\n",
       "GC       563\n",
       "XOne     539\n",
       "N64      322\n",
       "NS       281\n",
       "SNES     241\n",
       "SAT      175\n",
       "WiiU     161\n",
       "2600     133\n",
       "NES      102\n",
       "GB        94\n",
       "DC        52\n",
       "GEN       31\n",
       "NG        12\n",
       "PSN       10\n",
       "GBC        9\n",
       "WS         7\n",
       "XBL        7\n",
       "SCD        6\n",
       "3DO        4\n",
       "Mob        4\n",
       "VC         3\n",
       "PCE        2\n",
       "WW         1\n",
       "GG         1\n",
       "OSX        1\n",
       "PCFX       1\n",
       "Amig       1\n",
       "Name: Platform, dtype: int64"
      ]
     },
     "execution_count": 313,
     "metadata": {},
     "output_type": "execute_result"
    }
   ],
   "source": [
    "# Look at Publisher value counts for binning\n",
    "Platform_counts = all_columns_df['Platform'].value_counts()\n",
    "Platform_counts"
   ]
  },
  {
   "cell_type": "code",
   "execution_count": 314,
   "id": "18f53061",
   "metadata": {},
   "outputs": [
    {
     "data": {
      "text/plain": [
       "<AxesSubplot:ylabel='Density'>"
      ]
     },
     "execution_count": 314,
     "metadata": {},
     "output_type": "execute_result"
    },
    {
     "data": {
      "image/png": "[encoded data removed]",
      "text/plain": [
       "<Figure size 432x288 with 1 Axes>"
      ]
     },
     "metadata": {
      "needs_background": "light"
     },
     "output_type": "display_data"
    }
   ],
   "source": [
    "# Visualize the value counts of APPLICATION_TYPE\n",
    "Platform_counts.plot.density()"
   ]
  },
  {
   "cell_type": "code",
   "execution_count": 315,
   "id": "58fc4bd6",
   "metadata": {
    "scrolled": true
   },
   "outputs": [
    {
     "data": {
      "text/plain": [
       "Other    13237\n",
       "DS        2265\n",
       "PS2       2218\n",
       "PC        2142\n",
       "Name: Platform, dtype: int64"
      ]
     },
     "execution_count": 315,
     "metadata": {},
     "output_type": "execute_result"
    }
   ],
   "source": [
    "# Determine which values to replace if counts are less than ...?\n",
    "replace_plat = list(Platform_counts[Platform_counts < 1500].index)\n",
    "\n",
    "# Replace in dataframe\n",
    "for app in replace_plat:\n",
    "    all_columns_df.Platform = all_columns_df.Platform.replace(app,\"Other\")\n",
    "    \n",
    "# Check to make sure binning was successful\n",
    "all_columns_df.Platform.value_counts()"
   ]
  },
  {
   "cell_type": "code",
   "execution_count": 316,
   "id": "1673347d",
   "metadata": {
    "scrolled": true
   },
   "outputs": [
    {
     "data": {
      "text/plain": [
       "Genre            object\n",
       "ESRB_Rating      object\n",
       "Platform         object\n",
       "Publisher        object\n",
       "Developer_x      object\n",
       "Critic_Score    float64\n",
       "User_Score      float64\n",
       "Country          object\n",
       "Total_Sales     float64\n",
       "dtype: object"
      ]
     },
     "execution_count": 316,
     "metadata": {},
     "output_type": "execute_result"
    }
   ],
   "source": [
    "all_columns_df.dtypes"
   ]
  },
  {
   "cell_type": "code",
   "execution_count": 317,
   "id": "f03a2574",
   "metadata": {
    "scrolled": true
   },
   "outputs": [
    {
     "data": {
      "text/plain": [
       "Genre               0\n",
       "ESRB_Rating      5937\n",
       "Platform            0\n",
       "Publisher           0\n",
       "Developer_x         2\n",
       "Critic_Score    15156\n",
       "User_Score      19624\n",
       "Country          7985\n",
       "Total_Sales         0\n",
       "dtype: int64"
      ]
     },
     "execution_count": 317,
     "metadata": {},
     "output_type": "execute_result"
    }
   ],
   "source": [
    "all_columns_df.isna().sum()"
   ]
  },
  {
   "cell_type": "code",
   "execution_count": 318,
   "id": "551dd7f9",
   "metadata": {},
   "outputs": [],
   "source": [
    "all_columns_df.drop('User_Score',axis=1,inplace=True)"
   ]
  },
  {
   "cell_type": "code",
   "execution_count": 319,
   "id": "96c247e1",
   "metadata": {},
   "outputs": [
    {
     "data": {
      "text/plain": [
       "Genre               0\n",
       "ESRB_Rating      5937\n",
       "Platform            0\n",
       "Publisher           0\n",
       "Developer_x         2\n",
       "Critic_Score    15156\n",
       "Country          7985\n",
       "Total_Sales         0\n",
       "dtype: int64"
      ]
     },
     "execution_count": 319,
     "metadata": {},
     "output_type": "execute_result"
    }
   ],
   "source": [
    "all_columns_df.isna().sum()"
   ]
  },
  {
   "cell_type": "code",
   "execution_count": 320,
   "id": "cd62880e",
   "metadata": {},
   "outputs": [
    {
     "data": {
      "text/plain": [
       "Genre            object\n",
       "ESRB_Rating      object\n",
       "Platform         object\n",
       "Publisher        object\n",
       "Developer_x      object\n",
       "Critic_Score    float64\n",
       "Country          object\n",
       "Total_Sales     float64\n",
       "dtype: object"
      ]
     },
     "execution_count": 320,
     "metadata": {},
     "output_type": "execute_result"
    }
   ],
   "source": [
    "all_columns_df.dtypes"
   ]
  },
  {
   "cell_type": "code",
   "execution_count": 321,
   "id": "3ff50dfe",
   "metadata": {},
   "outputs": [
    {
     "data": {
      "text/plain": [
       "Genre            20\n",
       "ESRB_Rating       6\n",
       "Platform          4\n",
       "Publisher         8\n",
       "Developer_x       6\n",
       "Critic_Score     86\n",
       "Country          20\n",
       "Total_Sales     648\n",
       "dtype: int64"
      ]
     },
     "execution_count": 321,
     "metadata": {},
     "output_type": "execute_result"
    }
   ],
   "source": [
    "all_columns_df.nunique()"
   ]
  },
  {
   "cell_type": "code",
   "execution_count": 322,
   "id": "0912d326",
   "metadata": {},
   "outputs": [],
   "source": [
    "all_columns_df = all_columns_df.dropna()"
   ]
  },
  {
   "cell_type": "code",
   "execution_count": 323,
   "id": "3bd86215",
   "metadata": {
    "scrolled": true
   },
   "outputs": [
    {
     "data": {
      "text/plain": [
       "Genre           0\n",
       "ESRB_Rating     0\n",
       "Platform        0\n",
       "Publisher       0\n",
       "Developer_x     0\n",
       "Critic_Score    0\n",
       "Country         0\n",
       "Total_Sales     0\n",
       "dtype: int64"
      ]
     },
     "execution_count": 323,
     "metadata": {},
     "output_type": "execute_result"
    }
   ],
   "source": [
    "all_columns_df.isna().sum()"
   ]
  },
  {
   "cell_type": "code",
   "execution_count": 324,
   "id": "88b6ff21",
   "metadata": {},
   "outputs": [
    {
     "data": {
      "text/plain": [
       "(3579, 8)"
      ]
     },
     "execution_count": 324,
     "metadata": {},
     "output_type": "execute_result"
    }
   ],
   "source": [
    "all_columns_df.shape"
   ]
  },
  {
   "cell_type": "code",
   "execution_count": 325,
   "id": "2f570a80",
   "metadata": {},
   "outputs": [
    {
     "data": {
      "text/html": [
       "<div>\n",
       "<style scoped>\n",
       "    .dataframe tbody tr th:only-of-type {\n",
       "        vertical-align: middle;\n",
       "    }\n",
       "\n",
       "    .dataframe tbody tr th {\n",
       "        vertical-align: top;\n",
       "    }\n",
       "\n",
       "    .dataframe thead th {\n",
       "        text-align: right;\n",
       "    }\n",
       "</style>\n",
       "<table border=\"1\" class=\"dataframe\">\n",
       "  <thead>\n",
       "    <tr style=\"text-align: right;\">\n",
       "      <th></th>\n",
       "      <th>Genre</th>\n",
       "      <th>ESRB_Rating</th>\n",
       "      <th>Platform</th>\n",
       "      <th>Publisher</th>\n",
       "      <th>Developer_x</th>\n",
       "      <th>Critic_Score</th>\n",
       "      <th>Country</th>\n",
       "      <th>Total_Sales</th>\n",
       "      <th>Successful</th>\n",
       "    </tr>\n",
       "  </thead>\n",
       "  <tbody>\n",
       "    <tr>\n",
       "      <th>0</th>\n",
       "      <td>Sports</td>\n",
       "      <td>E</td>\n",
       "      <td>Other</td>\n",
       "      <td>Nintendo</td>\n",
       "      <td>Other</td>\n",
       "      <td>7.7</td>\n",
       "      <td>Japan</td>\n",
       "      <td>82.86</td>\n",
       "      <td>0</td>\n",
       "    </tr>\n",
       "    <tr>\n",
       "      <th>2</th>\n",
       "      <td>Racing</td>\n",
       "      <td>E</td>\n",
       "      <td>Other</td>\n",
       "      <td>Nintendo</td>\n",
       "      <td>Other</td>\n",
       "      <td>8.2</td>\n",
       "      <td>Japan</td>\n",
       "      <td>37.14</td>\n",
       "      <td>0</td>\n",
       "    </tr>\n",
       "    <tr>\n",
       "      <th>4</th>\n",
       "      <td>Sports</td>\n",
       "      <td>E</td>\n",
       "      <td>Other</td>\n",
       "      <td>Nintendo</td>\n",
       "      <td>Other</td>\n",
       "      <td>8.0</td>\n",
       "      <td>Japan</td>\n",
       "      <td>33.09</td>\n",
       "      <td>0</td>\n",
       "    </tr>\n",
       "    <tr>\n",
       "      <th>5</th>\n",
       "      <td>Role-Playing</td>\n",
       "      <td>E</td>\n",
       "      <td>Other</td>\n",
       "      <td>Nintendo</td>\n",
       "      <td>Other</td>\n",
       "      <td>9.4</td>\n",
       "      <td>Japan</td>\n",
       "      <td>31.38</td>\n",
       "      <td>0</td>\n",
       "    </tr>\n",
       "    <tr>\n",
       "      <th>6</th>\n",
       "      <td>Platform</td>\n",
       "      <td>E</td>\n",
       "      <td>DS</td>\n",
       "      <td>Nintendo</td>\n",
       "      <td>Other</td>\n",
       "      <td>9.1</td>\n",
       "      <td>Japan</td>\n",
       "      <td>30.80</td>\n",
       "      <td>0</td>\n",
       "    </tr>\n",
       "  </tbody>\n",
       "</table>\n",
       "</div>"
      ],
      "text/plain": [
       "          Genre ESRB_Rating Platform Publisher Developer_x  Critic_Score  \\\n",
       "0        Sports           E    Other  Nintendo       Other           7.7   \n",
       "2        Racing           E    Other  Nintendo       Other           8.2   \n",
       "4        Sports           E    Other  Nintendo       Other           8.0   \n",
       "5  Role-Playing           E    Other  Nintendo       Other           9.4   \n",
       "6      Platform           E       DS  Nintendo       Other           9.1   \n",
       "\n",
       "  Country  Total_Sales  Successful  \n",
       "0   Japan        82.86           0  \n",
       "2   Japan        37.14           0  \n",
       "4   Japan        33.09           0  \n",
       "5   Japan        31.38           0  \n",
       "6   Japan        30.80           0  "
      ]
     },
     "execution_count": 325,
     "metadata": {},
     "output_type": "execute_result"
    }
   ],
   "source": [
    "all_columns_df['Successful'] = np.where(all_columns_df['Critic_Score'] >= 7.0, int('0'), int('1'))\n",
    "all_columns_df.head()"
   ]
  },
  {
   "cell_type": "markdown",
   "id": "bd31d7e2",
   "metadata": {},
   "source": [
    "all_columns_df['Successful'] = np.where(all_columns_df['Critic_Score'] >= 7.0, int('0'), int('1'))\n",
    "all_columns_df.head()"
   ]
  },
  {
   "cell_type": "markdown",
   "id": "89237936",
   "metadata": {},
   "source": [
    "# Encode Object into numerical values"
   ]
  },
  {
   "cell_type": "code",
   "execution_count": 326,
   "id": "57c3aaca",
   "metadata": {},
   "outputs": [],
   "source": [
    "cat = all_columns_df.select_dtypes(include='object')"
   ]
  },
  {
   "cell_type": "code",
   "execution_count": 327,
   "id": "bf7fa4c7",
   "metadata": {},
   "outputs": [],
   "source": [
    "cat=list(cat.columns)"
   ]
  },
  {
   "cell_type": "code",
   "execution_count": 328,
   "id": "b36ce5b9",
   "metadata": {},
   "outputs": [
    {
     "data": {
      "text/plain": [
       "['Genre', 'ESRB_Rating', 'Platform', 'Publisher', 'Developer_x', 'Country']"
      ]
     },
     "execution_count": 328,
     "metadata": {},
     "output_type": "execute_result"
    }
   ],
   "source": [
    "cat"
   ]
  },
  {
   "cell_type": "code",
   "execution_count": 329,
   "id": "f0795929",
   "metadata": {},
   "outputs": [],
   "source": [
    "from sklearn.preprocessing import OneHotEncoder\n",
    "Oh_encoder = OneHotEncoder(sparse=False, handle_unknown='ignore')\n",
    "enc_df = pd.get_dummies(data=all_columns_df,\n",
    "    columns=cat)\n",
    "# merge with main df bridge_df on key values\n",
    "# all_columns_df1 = all_columns_df.join(enc_df)\n",
    "# all_columns_df1.head(2)"
   ]
  },
  {
   "cell_type": "code",
   "execution_count": 330,
   "id": "992a2637",
   "metadata": {},
   "outputs": [],
   "source": [
    "#num=all_columns_df.columns.drop(cat)"
   ]
  },
  {
   "cell_type": "code",
   "execution_count": 331,
   "id": "06d69c09",
   "metadata": {},
   "outputs": [
    {
     "data": {
      "text/html": [
       "<div>\n",
       "<style scoped>\n",
       "    .dataframe tbody tr th:only-of-type {\n",
       "        vertical-align: middle;\n",
       "    }\n",
       "\n",
       "    .dataframe tbody tr th {\n",
       "        vertical-align: top;\n",
       "    }\n",
       "\n",
       "    .dataframe thead th {\n",
       "        text-align: right;\n",
       "    }\n",
       "</style>\n",
       "<table border=\"1\" class=\"dataframe\">\n",
       "  <thead>\n",
       "    <tr style=\"text-align: right;\">\n",
       "      <th></th>\n",
       "      <th>Critic_Score</th>\n",
       "      <th>Total_Sales</th>\n",
       "      <th>Critic_Score</th>\n",
       "      <th>Genre_Action</th>\n",
       "      <th>Genre_Action-Adventure</th>\n",
       "      <th>Genre_Adventure</th>\n",
       "      <th>Genre_Fighting</th>\n",
       "      <th>Genre_MMO</th>\n",
       "      <th>Genre_Misc</th>\n",
       "      <th>Genre_Platform</th>\n",
       "      <th>...</th>\n",
       "      <th>Developer_x_Visceral Games</th>\n",
       "      <th>Developer_x_Yuke's Future Media Creators</th>\n",
       "      <th>Developer_x_Zipper Interactive</th>\n",
       "      <th>Developer_x_id Software</th>\n",
       "      <th>Developer_x_n-Space</th>\n",
       "      <th>Developer_x_tri-Ace</th>\n",
       "      <th>Country_Europe</th>\n",
       "      <th>Country_France</th>\n",
       "      <th>Country_Japan</th>\n",
       "      <th>Country_United States</th>\n",
       "    </tr>\n",
       "  </thead>\n",
       "  <tbody>\n",
       "    <tr>\n",
       "      <th>2</th>\n",
       "      <td>8.2</td>\n",
       "      <td>37.14</td>\n",
       "      <td>8.2</td>\n",
       "      <td>0</td>\n",
       "      <td>0</td>\n",
       "      <td>0</td>\n",
       "      <td>0</td>\n",
       "      <td>0</td>\n",
       "      <td>0</td>\n",
       "      <td>0</td>\n",
       "      <td>...</td>\n",
       "      <td>0</td>\n",
       "      <td>0</td>\n",
       "      <td>0</td>\n",
       "      <td>0</td>\n",
       "      <td>0</td>\n",
       "      <td>0</td>\n",
       "      <td>0</td>\n",
       "      <td>0</td>\n",
       "      <td>1</td>\n",
       "      <td>0</td>\n",
       "    </tr>\n",
       "    <tr>\n",
       "      <th>4</th>\n",
       "      <td>8.0</td>\n",
       "      <td>33.09</td>\n",
       "      <td>8.0</td>\n",
       "      <td>0</td>\n",
       "      <td>0</td>\n",
       "      <td>0</td>\n",
       "      <td>0</td>\n",
       "      <td>0</td>\n",
       "      <td>0</td>\n",
       "      <td>0</td>\n",
       "      <td>...</td>\n",
       "      <td>0</td>\n",
       "      <td>0</td>\n",
       "      <td>0</td>\n",
       "      <td>0</td>\n",
       "      <td>0</td>\n",
       "      <td>0</td>\n",
       "      <td>0</td>\n",
       "      <td>0</td>\n",
       "      <td>1</td>\n",
       "      <td>0</td>\n",
       "    </tr>\n",
       "    <tr>\n",
       "      <th>6</th>\n",
       "      <td>9.1</td>\n",
       "      <td>30.80</td>\n",
       "      <td>9.1</td>\n",
       "      <td>0</td>\n",
       "      <td>0</td>\n",
       "      <td>0</td>\n",
       "      <td>0</td>\n",
       "      <td>0</td>\n",
       "      <td>0</td>\n",
       "      <td>1</td>\n",
       "      <td>...</td>\n",
       "      <td>0</td>\n",
       "      <td>0</td>\n",
       "      <td>0</td>\n",
       "      <td>0</td>\n",
       "      <td>0</td>\n",
       "      <td>0</td>\n",
       "      <td>0</td>\n",
       "      <td>0</td>\n",
       "      <td>1</td>\n",
       "      <td>0</td>\n",
       "    </tr>\n",
       "    <tr>\n",
       "      <th>8</th>\n",
       "      <td>8.6</td>\n",
       "      <td>30.22</td>\n",
       "      <td>8.6</td>\n",
       "      <td>0</td>\n",
       "      <td>0</td>\n",
       "      <td>0</td>\n",
       "      <td>0</td>\n",
       "      <td>0</td>\n",
       "      <td>0</td>\n",
       "      <td>1</td>\n",
       "      <td>...</td>\n",
       "      <td>0</td>\n",
       "      <td>0</td>\n",
       "      <td>0</td>\n",
       "      <td>0</td>\n",
       "      <td>0</td>\n",
       "      <td>0</td>\n",
       "      <td>0</td>\n",
       "      <td>0</td>\n",
       "      <td>1</td>\n",
       "      <td>0</td>\n",
       "    </tr>\n",
       "    <tr>\n",
       "      <th>11</th>\n",
       "      <td>5.9</td>\n",
       "      <td>28.02</td>\n",
       "      <td>5.9</td>\n",
       "      <td>0</td>\n",
       "      <td>0</td>\n",
       "      <td>0</td>\n",
       "      <td>0</td>\n",
       "      <td>0</td>\n",
       "      <td>1</td>\n",
       "      <td>0</td>\n",
       "      <td>...</td>\n",
       "      <td>0</td>\n",
       "      <td>0</td>\n",
       "      <td>0</td>\n",
       "      <td>0</td>\n",
       "      <td>0</td>\n",
       "      <td>0</td>\n",
       "      <td>0</td>\n",
       "      <td>0</td>\n",
       "      <td>1</td>\n",
       "      <td>0</td>\n",
       "    </tr>\n",
       "    <tr>\n",
       "      <th>...</th>\n",
       "      <td>...</td>\n",
       "      <td>...</td>\n",
       "      <td>...</td>\n",
       "      <td>...</td>\n",
       "      <td>...</td>\n",
       "      <td>...</td>\n",
       "      <td>...</td>\n",
       "      <td>...</td>\n",
       "      <td>...</td>\n",
       "      <td>...</td>\n",
       "      <td>...</td>\n",
       "      <td>...</td>\n",
       "      <td>...</td>\n",
       "      <td>...</td>\n",
       "      <td>...</td>\n",
       "      <td>...</td>\n",
       "      <td>...</td>\n",
       "      <td>...</td>\n",
       "      <td>...</td>\n",
       "      <td>...</td>\n",
       "      <td>...</td>\n",
       "    </tr>\n",
       "    <tr>\n",
       "      <th>14287</th>\n",
       "      <td>7.3</td>\n",
       "      <td>0.06</td>\n",
       "      <td>7.3</td>\n",
       "      <td>0</td>\n",
       "      <td>0</td>\n",
       "      <td>0</td>\n",
       "      <td>0</td>\n",
       "      <td>0</td>\n",
       "      <td>0</td>\n",
       "      <td>0</td>\n",
       "      <td>...</td>\n",
       "      <td>0</td>\n",
       "      <td>0</td>\n",
       "      <td>0</td>\n",
       "      <td>0</td>\n",
       "      <td>0</td>\n",
       "      <td>0</td>\n",
       "      <td>0</td>\n",
       "      <td>0</td>\n",
       "      <td>1</td>\n",
       "      <td>0</td>\n",
       "    </tr>\n",
       "    <tr>\n",
       "      <th>15320</th>\n",
       "      <td>7.4</td>\n",
       "      <td>0.05</td>\n",
       "      <td>7.4</td>\n",
       "      <td>0</td>\n",
       "      <td>0</td>\n",
       "      <td>0</td>\n",
       "      <td>0</td>\n",
       "      <td>0</td>\n",
       "      <td>0</td>\n",
       "      <td>1</td>\n",
       "      <td>...</td>\n",
       "      <td>0</td>\n",
       "      <td>0</td>\n",
       "      <td>0</td>\n",
       "      <td>0</td>\n",
       "      <td>0</td>\n",
       "      <td>0</td>\n",
       "      <td>0</td>\n",
       "      <td>1</td>\n",
       "      <td>0</td>\n",
       "      <td>0</td>\n",
       "    </tr>\n",
       "    <tr>\n",
       "      <th>15500</th>\n",
       "      <td>3.8</td>\n",
       "      <td>0.05</td>\n",
       "      <td>3.8</td>\n",
       "      <td>1</td>\n",
       "      <td>0</td>\n",
       "      <td>0</td>\n",
       "      <td>0</td>\n",
       "      <td>0</td>\n",
       "      <td>0</td>\n",
       "      <td>0</td>\n",
       "      <td>...</td>\n",
       "      <td>0</td>\n",
       "      <td>0</td>\n",
       "      <td>0</td>\n",
       "      <td>0</td>\n",
       "      <td>0</td>\n",
       "      <td>0</td>\n",
       "      <td>0</td>\n",
       "      <td>0</td>\n",
       "      <td>1</td>\n",
       "      <td>0</td>\n",
       "    </tr>\n",
       "    <tr>\n",
       "      <th>15546</th>\n",
       "      <td>6.5</td>\n",
       "      <td>0.04</td>\n",
       "      <td>6.5</td>\n",
       "      <td>0</td>\n",
       "      <td>0</td>\n",
       "      <td>0</td>\n",
       "      <td>0</td>\n",
       "      <td>0</td>\n",
       "      <td>0</td>\n",
       "      <td>0</td>\n",
       "      <td>...</td>\n",
       "      <td>0</td>\n",
       "      <td>0</td>\n",
       "      <td>0</td>\n",
       "      <td>0</td>\n",
       "      <td>0</td>\n",
       "      <td>0</td>\n",
       "      <td>0</td>\n",
       "      <td>0</td>\n",
       "      <td>0</td>\n",
       "      <td>1</td>\n",
       "    </tr>\n",
       "    <tr>\n",
       "      <th>17898</th>\n",
       "      <td>7.5</td>\n",
       "      <td>0.02</td>\n",
       "      <td>7.5</td>\n",
       "      <td>0</td>\n",
       "      <td>0</td>\n",
       "      <td>0</td>\n",
       "      <td>0</td>\n",
       "      <td>0</td>\n",
       "      <td>0</td>\n",
       "      <td>1</td>\n",
       "      <td>...</td>\n",
       "      <td>0</td>\n",
       "      <td>0</td>\n",
       "      <td>0</td>\n",
       "      <td>0</td>\n",
       "      <td>0</td>\n",
       "      <td>0</td>\n",
       "      <td>0</td>\n",
       "      <td>0</td>\n",
       "      <td>0</td>\n",
       "      <td>1</td>\n",
       "    </tr>\n",
       "  </tbody>\n",
       "</table>\n",
       "<p>174 rows × 174 columns</p>\n",
       "</div>"
      ],
      "text/plain": [
       "       Critic_Score  Total_Sales  Critic_Score  Genre_Action  \\\n",
       "2               8.2        37.14           8.2             0   \n",
       "4               8.0        33.09           8.0             0   \n",
       "6               9.1        30.80           9.1             0   \n",
       "8               8.6        30.22           8.6             0   \n",
       "11              5.9        28.02           5.9             0   \n",
       "...             ...          ...           ...           ...   \n",
       "14287           7.3         0.06           7.3             0   \n",
       "15320           7.4         0.05           7.4             0   \n",
       "15500           3.8         0.05           3.8             1   \n",
       "15546           6.5         0.04           6.5             0   \n",
       "17898           7.5         0.02           7.5             0   \n",
       "\n",
       "       Genre_Action-Adventure  Genre_Adventure  Genre_Fighting  Genre_MMO  \\\n",
       "2                           0                0               0          0   \n",
       "4                           0                0               0          0   \n",
       "6                           0                0               0          0   \n",
       "8                           0                0               0          0   \n",
       "11                          0                0               0          0   \n",
       "...                       ...              ...             ...        ...   \n",
       "14287                       0                0               0          0   \n",
       "15320                       0                0               0          0   \n",
       "15500                       0                0               0          0   \n",
       "15546                       0                0               0          0   \n",
       "17898                       0                0               0          0   \n",
       "\n",
       "       Genre_Misc  Genre_Platform  ...  Developer_x_Visceral Games  \\\n",
       "2               0               0  ...                           0   \n",
       "4               0               0  ...                           0   \n",
       "6               0               1  ...                           0   \n",
       "8               0               1  ...                           0   \n",
       "11              1               0  ...                           0   \n",
       "...           ...             ...  ...                         ...   \n",
       "14287           0               0  ...                           0   \n",
       "15320           0               1  ...                           0   \n",
       "15500           0               0  ...                           0   \n",
       "15546           0               0  ...                           0   \n",
       "17898           0               1  ...                           0   \n",
       "\n",
       "       Developer_x_Yuke's Future Media Creators  \\\n",
       "2                                             0   \n",
       "4                                             0   \n",
       "6                                             0   \n",
       "8                                             0   \n",
       "11                                            0   \n",
       "...                                         ...   \n",
       "14287                                         0   \n",
       "15320                                         0   \n",
       "15500                                         0   \n",
       "15546                                         0   \n",
       "17898                                         0   \n",
       "\n",
       "       Developer_x_Zipper Interactive  Developer_x_id Software  \\\n",
       "2                                   0                        0   \n",
       "4                                   0                        0   \n",
       "6                                   0                        0   \n",
       "8                                   0                        0   \n",
       "11                                  0                        0   \n",
       "...                               ...                      ...   \n",
       "14287                               0                        0   \n",
       "15320                               0                        0   \n",
       "15500                               0                        0   \n",
       "15546                               0                        0   \n",
       "17898                               0                        0   \n",
       "\n",
       "       Developer_x_n-Space  Developer_x_tri-Ace  Country_Europe  \\\n",
       "2                        0                    0               0   \n",
       "4                        0                    0               0   \n",
       "6                        0                    0               0   \n",
       "8                        0                    0               0   \n",
       "11                       0                    0               0   \n",
       "...                    ...                  ...             ...   \n",
       "14287                    0                    0               0   \n",
       "15320                    0                    0               0   \n",
       "15500                    0                    0               0   \n",
       "15546                    0                    0               0   \n",
       "17898                    0                    0               0   \n",
       "\n",
       "       Country_France  Country_Japan  Country_United States  \n",
       "2                   0              1                      0  \n",
       "4                   0              1                      0  \n",
       "6                   0              1                      0  \n",
       "8                   0              1                      0  \n",
       "11                  0              1                      0  \n",
       "...               ...            ...                    ...  \n",
       "14287               0              1                      0  \n",
       "15320               1              0                      0  \n",
       "15500               0              1                      0  \n",
       "15546               0              0                      1  \n",
       "17898               0              0                      1  \n",
       "\n",
       "[174 rows x 174 columns]"
      ]
     },
     "execution_count": 331,
     "metadata": {},
     "output_type": "execute_result"
    }
   ],
   "source": [
    "#df=pd.concat([all_columns_df[num], enc_df.drop('Total_Sales',axis=1)], axis=1)\n",
    "df"
   ]
  },
  {
   "cell_type": "code",
   "execution_count": 332,
   "id": "b124c8c9",
   "metadata": {},
   "outputs": [],
   "source": [
    "# Scale and standardize data: mean is ), std dev is 1\n",
    "from sklearn.preprocessing import StandardScaler\n",
    "data_scaler = StandardScaler()"
   ]
  },
  {
   "cell_type": "code",
   "execution_count": 333,
   "id": "6960e8a5",
   "metadata": {},
   "outputs": [],
   "source": [
    "# Train the scaler and transform the data\n",
    "vg_data_scaled = data_scaler.fit_transform(df)"
   ]
  },
  {
   "cell_type": "code",
   "execution_count": 334,
   "id": "8344852c",
   "metadata": {},
   "outputs": [
    {
     "data": {
      "text/plain": [
       "array([[ 0.03206089,  5.55025943,  0.03206089, -0.55522129, -0.153393  ,\n",
       "        -0.32905965, -0.21952852, -0.10783277, -0.10783277, -0.39027923,\n",
       "        -0.07602859,  5.81377674, -0.47471266, -0.46559985, -0.07602859,\n",
       "        -0.153393  , -0.13245324,  2.10653744, -0.35011519, -0.73472649,\n",
       "        -0.74402381, -0.07602859, -0.27216553, -0.18898224, -0.10783277,\n",
       "        -0.30714756, -0.153393  , -0.17200523, -0.27216553, -0.52859414,\n",
       "        -0.07602859, -0.07602859, -0.23354968,  1.86052102, -0.17200523,\n",
       "        -0.37047929, -0.10783277, -0.07602859, -0.13245324, -0.27216553,\n",
       "        -0.07602859, -0.13245324, -0.13245324, -0.10783277, -0.32905965,\n",
       "        -0.07602859, -0.10783277, -0.21952852, -0.21952852, -0.07602859,\n",
       "        -0.13245324, -0.07602859, -0.07602859,  1.89181061, -0.17200523,\n",
       "        -0.28415725, -0.41913682, -0.20473438, -0.17200523, -0.29580399,\n",
       "        -0.07602859, -0.07602859, -0.07602859, -0.07602859, -0.07602859,\n",
       "        -0.10783277, -0.07602859, -0.07602859, -0.07602859, -0.10783277,\n",
       "        -0.07602859, -0.07602859, -0.17200523, -0.10783277, -0.10783277,\n",
       "        -0.07602859, -0.10783277, -0.07602859, -0.07602859, -0.07602859,\n",
       "        -0.07602859, -0.07602859, -0.07602859, -0.07602859, -0.07602859,\n",
       "        -0.13245324, -0.07602859, -0.07602859, -0.10783277, -0.07602859,\n",
       "        -0.07602859, -0.07602859, -0.07602859, -0.07602859, -0.07602859,\n",
       "        -0.153393  , -0.07602859, -0.07602859, -0.07602859, -0.07602859,\n",
       "        -0.07602859, -0.07602859, -0.153393  , -0.153393  , -0.10783277,\n",
       "        -0.07602859, -0.07602859, -0.10783277, -0.07602859, -0.07602859,\n",
       "        -0.07602859, -0.07602859, -0.07602859, -0.07602859, -0.07602859,\n",
       "        -0.07602859, -0.07602859, -0.10783277, -0.153393  ,  4.04969135,\n",
       "        -0.10783277, -0.10783277, -0.07602859, -0.13245324, -0.07602859,\n",
       "        -0.07602859, -0.07602859, -0.07602859, -0.07602859, -0.10783277,\n",
       "        -0.07602859, -0.07602859, -0.17200523, -0.07602859, -0.07602859,\n",
       "        -0.10783277, -0.07602859, -0.07602859, -0.10783277, -0.07602859,\n",
       "        -0.07602859, -0.07602859, -0.07602859, -0.07602859, -0.13245324,\n",
       "        -0.07602859, -0.07602859, -0.20473438, -0.07602859, -0.07602859,\n",
       "        -0.07602859, -0.07602859, -0.07602859, -0.13245324, -0.07602859,\n",
       "        -0.17200523, -0.10783277, -0.07602859, -0.07602859, -0.10783277,\n",
       "        -0.07602859, -0.07602859, -0.07602859, -0.07602859, -0.07602859,\n",
       "        -0.07602859, -0.07602859, -0.07602859, -0.07602859, -0.10783277,\n",
       "        -0.29580399, -0.07602859,  1.12238151, -0.94408916],\n",
       "       [-0.13698743,  4.87817063, -0.13698743, -0.55522129, -0.153393  ,\n",
       "        -0.32905965, -0.21952852, -0.10783277, -0.10783277, -0.39027923,\n",
       "        -0.07602859, -0.17200523, -0.47471266, -0.46559985, -0.07602859,\n",
       "         6.51920241, -0.13245324,  2.10653744, -0.35011519, -0.73472649,\n",
       "        -0.74402381, -0.07602859, -0.27216553, -0.18898224, -0.10783277,\n",
       "        -0.30714756, -0.153393  , -0.17200523, -0.27216553, -0.52859414,\n",
       "        -0.07602859, -0.07602859, -0.23354968,  1.86052102, -0.17200523,\n",
       "        -0.37047929, -0.10783277, -0.07602859, -0.13245324, -0.27216553,\n",
       "        -0.07602859, -0.13245324, -0.13245324, -0.10783277, -0.32905965,\n",
       "        -0.07602859, -0.10783277, -0.21952852, -0.21952852, -0.07602859,\n",
       "        -0.13245324, -0.07602859, -0.07602859,  1.89181061, -0.17200523,\n",
       "        -0.28415725, -0.41913682, -0.20473438, -0.17200523, -0.29580399,\n",
       "        -0.07602859, -0.07602859, -0.07602859, -0.07602859, -0.07602859,\n",
       "        -0.10783277, -0.07602859, -0.07602859, -0.07602859, -0.10783277,\n",
       "        -0.07602859, -0.07602859, -0.17200523, -0.10783277, -0.10783277,\n",
       "        -0.07602859, -0.10783277, -0.07602859, -0.07602859, -0.07602859,\n",
       "        -0.07602859, -0.07602859, -0.07602859, -0.07602859, -0.07602859,\n",
       "        -0.13245324, -0.07602859, -0.07602859, -0.10783277, -0.07602859,\n",
       "        -0.07602859, -0.07602859, -0.07602859, -0.07602859, -0.07602859,\n",
       "        -0.153393  , -0.07602859, -0.07602859, -0.07602859, -0.07602859,\n",
       "        -0.07602859, -0.07602859, -0.153393  , -0.153393  , -0.10783277,\n",
       "        -0.07602859, -0.07602859, -0.10783277, -0.07602859, -0.07602859,\n",
       "        -0.07602859, -0.07602859, -0.07602859, -0.07602859, -0.07602859,\n",
       "        -0.07602859, -0.07602859, -0.10783277, -0.153393  ,  4.04969135,\n",
       "        -0.10783277, -0.10783277, -0.07602859, -0.13245324, -0.07602859,\n",
       "        -0.07602859, -0.07602859, -0.07602859, -0.07602859, -0.10783277,\n",
       "        -0.07602859, -0.07602859, -0.17200523, -0.07602859, -0.07602859,\n",
       "        -0.10783277, -0.07602859, -0.07602859, -0.10783277, -0.07602859,\n",
       "        -0.07602859, -0.07602859, -0.07602859, -0.07602859, -0.13245324,\n",
       "        -0.07602859, -0.07602859, -0.20473438, -0.07602859, -0.07602859,\n",
       "        -0.07602859, -0.07602859, -0.07602859, -0.13245324, -0.07602859,\n",
       "        -0.17200523, -0.10783277, -0.07602859, -0.07602859, -0.10783277,\n",
       "        -0.07602859, -0.07602859, -0.07602859, -0.07602859, -0.07602859,\n",
       "        -0.07602859, -0.07602859, -0.07602859, -0.07602859, -0.10783277,\n",
       "        -0.29580399, -0.07602859,  1.12238151, -0.94408916],\n",
       "       [ 0.79277833,  4.49815005,  0.79277833, -0.55522129, -0.153393  ,\n",
       "        -0.32905965, -0.21952852, -0.10783277, -0.10783277,  2.56226802,\n",
       "        -0.07602859, -0.17200523, -0.47471266, -0.46559985, -0.07602859,\n",
       "        -0.153393  , -0.13245324,  2.10653744, -0.35011519, -0.73472649,\n",
       "        -0.74402381, -0.07602859,  3.67423461, -0.18898224, -0.10783277,\n",
       "        -0.30714756, -0.153393  , -0.17200523, -0.27216553, -0.52859414,\n",
       "        -0.07602859, -0.07602859, -0.23354968, -0.53748385, -0.17200523,\n",
       "        -0.37047929, -0.10783277, -0.07602859, -0.13245324, -0.27216553,\n",
       "        -0.07602859, -0.13245324, -0.13245324, -0.10783277, -0.32905965,\n",
       "        -0.07602859, -0.10783277, -0.21952852, -0.21952852, -0.07602859,\n",
       "        -0.13245324, -0.07602859, -0.07602859,  1.89181061, -0.17200523,\n",
       "        -0.28415725, -0.41913682, -0.20473438, -0.17200523, -0.29580399,\n",
       "        -0.07602859, -0.07602859, -0.07602859, -0.07602859, -0.07602859,\n",
       "        -0.10783277, -0.07602859, -0.07602859, -0.07602859, -0.10783277,\n",
       "        -0.07602859, -0.07602859, -0.17200523, -0.10783277, -0.10783277,\n",
       "        -0.07602859, -0.10783277, -0.07602859, -0.07602859, -0.07602859,\n",
       "        -0.07602859, -0.07602859, -0.07602859, -0.07602859, -0.07602859,\n",
       "        -0.13245324, -0.07602859, -0.07602859, -0.10783277, -0.07602859,\n",
       "        -0.07602859, -0.07602859, -0.07602859, -0.07602859, -0.07602859,\n",
       "        -0.153393  , -0.07602859, -0.07602859, -0.07602859, -0.07602859,\n",
       "        -0.07602859, -0.07602859, -0.153393  , -0.153393  , -0.10783277,\n",
       "        -0.07602859, -0.07602859, -0.10783277, -0.07602859, -0.07602859,\n",
       "        -0.07602859, -0.07602859, -0.07602859, -0.07602859, -0.07602859,\n",
       "        -0.07602859, -0.07602859, -0.10783277, -0.153393  ,  4.04969135,\n",
       "        -0.10783277, -0.10783277, -0.07602859, -0.13245324, -0.07602859,\n",
       "        -0.07602859, -0.07602859, -0.07602859, -0.07602859, -0.10783277,\n",
       "        -0.07602859, -0.07602859, -0.17200523, -0.07602859, -0.07602859,\n",
       "        -0.10783277, -0.07602859, -0.07602859, -0.10783277, -0.07602859,\n",
       "        -0.07602859, -0.07602859, -0.07602859, -0.07602859, -0.13245324,\n",
       "        -0.07602859, -0.07602859, -0.20473438, -0.07602859, -0.07602859,\n",
       "        -0.07602859, -0.07602859, -0.07602859, -0.13245324, -0.07602859,\n",
       "        -0.17200523, -0.10783277, -0.07602859, -0.07602859, -0.10783277,\n",
       "        -0.07602859, -0.07602859, -0.07602859, -0.07602859, -0.07602859,\n",
       "        -0.07602859, -0.07602859, -0.07602859, -0.07602859, -0.10783277,\n",
       "        -0.29580399, -0.07602859,  1.12238151, -0.94408916],\n",
       "       [ 0.37015753,  4.40190029,  0.37015753, -0.55522129, -0.153393  ,\n",
       "        -0.32905965, -0.21952852, -0.10783277, -0.10783277,  2.56226802,\n",
       "        -0.07602859, -0.17200523, -0.47471266, -0.46559985, -0.07602859,\n",
       "        -0.153393  , -0.13245324,  2.10653744, -0.35011519, -0.73472649,\n",
       "        -0.74402381, -0.07602859, -0.27216553, -0.18898224, -0.10783277,\n",
       "        -0.30714756, -0.153393  , -0.17200523, -0.27216553, -0.52859414,\n",
       "        -0.07602859, -0.07602859, -0.23354968,  1.86052102, -0.17200523,\n",
       "        -0.37047929, -0.10783277, -0.07602859, -0.13245324, -0.27216553,\n",
       "        -0.07602859, -0.13245324, -0.13245324, -0.10783277, -0.32905965,\n",
       "        -0.07602859, -0.10783277, -0.21952852, -0.21952852, -0.07602859,\n",
       "        -0.13245324, -0.07602859, -0.07602859,  1.89181061, -0.17200523,\n",
       "        -0.28415725, -0.41913682, -0.20473438, -0.17200523, -0.29580399,\n",
       "        -0.07602859, -0.07602859, -0.07602859, -0.07602859, -0.07602859,\n",
       "        -0.10783277, -0.07602859, -0.07602859, -0.07602859, -0.10783277,\n",
       "        -0.07602859, -0.07602859, -0.17200523, -0.10783277, -0.10783277,\n",
       "        -0.07602859, -0.10783277, -0.07602859, -0.07602859, -0.07602859,\n",
       "        -0.07602859, -0.07602859, -0.07602859, -0.07602859, -0.07602859,\n",
       "        -0.13245324, -0.07602859, -0.07602859, -0.10783277, -0.07602859,\n",
       "        -0.07602859, -0.07602859, -0.07602859, -0.07602859, -0.07602859,\n",
       "        -0.153393  , -0.07602859, -0.07602859, -0.07602859, -0.07602859,\n",
       "        -0.07602859, -0.07602859, -0.153393  , -0.153393  , -0.10783277,\n",
       "        -0.07602859, -0.07602859, -0.10783277, -0.07602859, -0.07602859,\n",
       "        -0.07602859, -0.07602859, -0.07602859, -0.07602859, -0.07602859,\n",
       "        -0.07602859, -0.07602859, -0.10783277, -0.153393  ,  4.04969135,\n",
       "        -0.10783277, -0.10783277, -0.07602859, -0.13245324, -0.07602859,\n",
       "        -0.07602859, -0.07602859, -0.07602859, -0.07602859, -0.10783277,\n",
       "        -0.07602859, -0.07602859, -0.17200523, -0.07602859, -0.07602859,\n",
       "        -0.10783277, -0.07602859, -0.07602859, -0.10783277, -0.07602859,\n",
       "        -0.07602859, -0.07602859, -0.07602859, -0.07602859, -0.13245324,\n",
       "        -0.07602859, -0.07602859, -0.20473438, -0.07602859, -0.07602859,\n",
       "        -0.07602859, -0.07602859, -0.07602859, -0.13245324, -0.07602859,\n",
       "        -0.17200523, -0.10783277, -0.07602859, -0.07602859, -0.10783277,\n",
       "        -0.07602859, -0.07602859, -0.07602859, -0.07602859, -0.07602859,\n",
       "        -0.07602859, -0.07602859, -0.07602859, -0.07602859, -0.10783277,\n",
       "        -0.29580399, -0.07602859,  1.12238151, -0.94408916],\n",
       "       [-1.9119948 ,  4.03681502, -1.9119948 , -0.55522129, -0.153393  ,\n",
       "        -0.32905965, -0.21952852, -0.10783277,  9.2736185 , -0.39027923,\n",
       "        -0.07602859, -0.17200523, -0.47471266, -0.46559985, -0.07602859,\n",
       "        -0.153393  , -0.13245324,  2.10653744, -0.35011519, -0.73472649,\n",
       "        -0.74402381, -0.07602859, -0.27216553, -0.18898224, -0.10783277,\n",
       "        -0.30714756, -0.153393  , -0.17200523, -0.27216553, -0.52859414,\n",
       "        -0.07602859, -0.07602859, -0.23354968,  1.86052102, -0.17200523,\n",
       "        -0.37047929, -0.10783277, -0.07602859, -0.13245324, -0.27216553,\n",
       "        -0.07602859, -0.13245324, -0.13245324, -0.10783277, -0.32905965,\n",
       "        -0.07602859, -0.10783277, -0.21952852, -0.21952852, -0.07602859,\n",
       "        -0.13245324, -0.07602859, -0.07602859,  1.89181061, -0.17200523,\n",
       "        -0.28415725, -0.41913682, -0.20473438, -0.17200523, -0.29580399,\n",
       "        -0.07602859, -0.07602859, -0.07602859, -0.07602859, -0.07602859,\n",
       "        -0.10783277, -0.07602859, -0.07602859, -0.07602859, -0.10783277,\n",
       "        -0.07602859, -0.07602859, -0.17200523, -0.10783277, -0.10783277,\n",
       "        -0.07602859, -0.10783277, -0.07602859, -0.07602859, -0.07602859,\n",
       "        -0.07602859, -0.07602859, -0.07602859, -0.07602859, -0.07602859,\n",
       "        -0.13245324, -0.07602859, -0.07602859, -0.10783277, -0.07602859,\n",
       "        -0.07602859, -0.07602859, -0.07602859, -0.07602859, -0.07602859,\n",
       "        -0.153393  , -0.07602859, -0.07602859, -0.07602859, -0.07602859,\n",
       "        -0.07602859, -0.07602859, -0.153393  , -0.153393  , -0.10783277,\n",
       "        -0.07602859, -0.07602859, -0.10783277, -0.07602859, -0.07602859,\n",
       "        -0.07602859, -0.07602859, -0.07602859, -0.07602859, -0.07602859,\n",
       "        -0.07602859, -0.07602859, -0.10783277, -0.153393  ,  4.04969135,\n",
       "        -0.10783277, -0.10783277, -0.07602859, -0.13245324, -0.07602859,\n",
       "        -0.07602859, -0.07602859, -0.07602859, -0.07602859, -0.10783277,\n",
       "        -0.07602859, -0.07602859, -0.17200523, -0.07602859, -0.07602859,\n",
       "        -0.10783277, -0.07602859, -0.07602859, -0.10783277, -0.07602859,\n",
       "        -0.07602859, -0.07602859, -0.07602859, -0.07602859, -0.13245324,\n",
       "        -0.07602859, -0.07602859, -0.20473438, -0.07602859, -0.07602859,\n",
       "        -0.07602859, -0.07602859, -0.07602859, -0.13245324, -0.07602859,\n",
       "        -0.17200523, -0.10783277, -0.07602859, -0.07602859, -0.10783277,\n",
       "        -0.07602859, -0.07602859, -0.07602859, -0.07602859, -0.07602859,\n",
       "        -0.07602859, -0.07602859, -0.07602859, -0.07602859, -0.10783277,\n",
       "        -0.29580399, -0.07602859,  1.12238151, -0.94408916]])"
      ]
     },
     "execution_count": 334,
     "metadata": {},
     "output_type": "execute_result"
    }
   ],
   "source": [
    "\n",
    "# Preview the scaled data\n",
    "vg_data_scaled[:5]"
   ]
  },
  {
   "cell_type": "code",
   "execution_count": 335,
   "id": "410e1036",
   "metadata": {},
   "outputs": [
    {
     "name": "stdout",
     "output_type": "stream",
     "text": [
      "2.8585052588050007e-16\n",
      "1.0\n"
     ]
    }
   ],
   "source": [
    "# Verify that the mean of each column is 0 and its standard deviation is 1:\n",
    "print(np.mean(vg_data_scaled[:,0]))\n",
    "print(np.std(vg_data_scaled[:,0]))"
   ]
  },
  {
   "cell_type": "code",
   "execution_count": 336,
   "id": "d6d5aed1",
   "metadata": {},
   "outputs": [],
   "source": [
    "\n",
    "from sklearn import tree\n",
    "from sklearn.model_selection import train_test_split\n",
    "from sklearn.metrics import confusion_matrix, accuracy_score, classification_report"
   ]
  },
  {
   "cell_type": "code",
   "execution_count": 337,
   "id": "3a09ac2c",
   "metadata": {},
   "outputs": [
    {
     "data": {
      "text/html": [
       "<div>\n",
       "<style scoped>\n",
       "    .dataframe tbody tr th:only-of-type {\n",
       "        vertical-align: middle;\n",
       "    }\n",
       "\n",
       "    .dataframe tbody tr th {\n",
       "        vertical-align: top;\n",
       "    }\n",
       "\n",
       "    .dataframe thead th {\n",
       "        text-align: right;\n",
       "    }\n",
       "</style>\n",
       "<table border=\"1\" class=\"dataframe\">\n",
       "  <thead>\n",
       "    <tr style=\"text-align: right;\">\n",
       "      <th></th>\n",
       "      <th>Critic_Score</th>\n",
       "      <th>Total_Sales</th>\n",
       "      <th>Genre_Action</th>\n",
       "      <th>Genre_Action-Adventure</th>\n",
       "      <th>Genre_Adventure</th>\n",
       "      <th>Genre_Board Game</th>\n",
       "      <th>Genre_Education</th>\n",
       "      <th>Genre_Fighting</th>\n",
       "      <th>Genre_MMO</th>\n",
       "      <th>Genre_Misc</th>\n",
       "      <th>...</th>\n",
       "      <th>Country_Europe</th>\n",
       "      <th>Country_Finland</th>\n",
       "      <th>Country_France</th>\n",
       "      <th>Country_Japan</th>\n",
       "      <th>Country_Norway</th>\n",
       "      <th>Country_Poland</th>\n",
       "      <th>Country_Russia</th>\n",
       "      <th>Country_South Korea</th>\n",
       "      <th>Country_United Kingdom</th>\n",
       "      <th>Country_United States</th>\n",
       "    </tr>\n",
       "  </thead>\n",
       "  <tbody>\n",
       "    <tr>\n",
       "      <th>0</th>\n",
       "      <td>7.7</td>\n",
       "      <td>82.86</td>\n",
       "      <td>0</td>\n",
       "      <td>0</td>\n",
       "      <td>0</td>\n",
       "      <td>0</td>\n",
       "      <td>0</td>\n",
       "      <td>0</td>\n",
       "      <td>0</td>\n",
       "      <td>0</td>\n",
       "      <td>...</td>\n",
       "      <td>0</td>\n",
       "      <td>0</td>\n",
       "      <td>0</td>\n",
       "      <td>1</td>\n",
       "      <td>0</td>\n",
       "      <td>0</td>\n",
       "      <td>0</td>\n",
       "      <td>0</td>\n",
       "      <td>0</td>\n",
       "      <td>0</td>\n",
       "    </tr>\n",
       "    <tr>\n",
       "      <th>2</th>\n",
       "      <td>8.2</td>\n",
       "      <td>37.14</td>\n",
       "      <td>0</td>\n",
       "      <td>0</td>\n",
       "      <td>0</td>\n",
       "      <td>0</td>\n",
       "      <td>0</td>\n",
       "      <td>0</td>\n",
       "      <td>0</td>\n",
       "      <td>0</td>\n",
       "      <td>...</td>\n",
       "      <td>0</td>\n",
       "      <td>0</td>\n",
       "      <td>0</td>\n",
       "      <td>1</td>\n",
       "      <td>0</td>\n",
       "      <td>0</td>\n",
       "      <td>0</td>\n",
       "      <td>0</td>\n",
       "      <td>0</td>\n",
       "      <td>0</td>\n",
       "    </tr>\n",
       "    <tr>\n",
       "      <th>4</th>\n",
       "      <td>8.0</td>\n",
       "      <td>33.09</td>\n",
       "      <td>0</td>\n",
       "      <td>0</td>\n",
       "      <td>0</td>\n",
       "      <td>0</td>\n",
       "      <td>0</td>\n",
       "      <td>0</td>\n",
       "      <td>0</td>\n",
       "      <td>0</td>\n",
       "      <td>...</td>\n",
       "      <td>0</td>\n",
       "      <td>0</td>\n",
       "      <td>0</td>\n",
       "      <td>1</td>\n",
       "      <td>0</td>\n",
       "      <td>0</td>\n",
       "      <td>0</td>\n",
       "      <td>0</td>\n",
       "      <td>0</td>\n",
       "      <td>0</td>\n",
       "    </tr>\n",
       "    <tr>\n",
       "      <th>5</th>\n",
       "      <td>9.4</td>\n",
       "      <td>31.38</td>\n",
       "      <td>0</td>\n",
       "      <td>0</td>\n",
       "      <td>0</td>\n",
       "      <td>0</td>\n",
       "      <td>0</td>\n",
       "      <td>0</td>\n",
       "      <td>0</td>\n",
       "      <td>0</td>\n",
       "      <td>...</td>\n",
       "      <td>0</td>\n",
       "      <td>0</td>\n",
       "      <td>0</td>\n",
       "      <td>1</td>\n",
       "      <td>0</td>\n",
       "      <td>0</td>\n",
       "      <td>0</td>\n",
       "      <td>0</td>\n",
       "      <td>0</td>\n",
       "      <td>0</td>\n",
       "    </tr>\n",
       "    <tr>\n",
       "      <th>6</th>\n",
       "      <td>9.1</td>\n",
       "      <td>30.80</td>\n",
       "      <td>0</td>\n",
       "      <td>0</td>\n",
       "      <td>0</td>\n",
       "      <td>0</td>\n",
       "      <td>0</td>\n",
       "      <td>0</td>\n",
       "      <td>0</td>\n",
       "      <td>0</td>\n",
       "      <td>...</td>\n",
       "      <td>0</td>\n",
       "      <td>0</td>\n",
       "      <td>0</td>\n",
       "      <td>1</td>\n",
       "      <td>0</td>\n",
       "      <td>0</td>\n",
       "      <td>0</td>\n",
       "      <td>0</td>\n",
       "      <td>0</td>\n",
       "      <td>0</td>\n",
       "    </tr>\n",
       "  </tbody>\n",
       "</table>\n",
       "<p>5 rows × 54 columns</p>\n",
       "</div>"
      ],
      "text/plain": [
       "   Critic_Score  Total_Sales  Genre_Action  Genre_Action-Adventure  \\\n",
       "0           7.7        82.86             0                       0   \n",
       "2           8.2        37.14             0                       0   \n",
       "4           8.0        33.09             0                       0   \n",
       "5           9.4        31.38             0                       0   \n",
       "6           9.1        30.80             0                       0   \n",
       "\n",
       "   Genre_Adventure  Genre_Board Game  Genre_Education  Genre_Fighting  \\\n",
       "0                0                 0                0               0   \n",
       "2                0                 0                0               0   \n",
       "4                0                 0                0               0   \n",
       "5                0                 0                0               0   \n",
       "6                0                 0                0               0   \n",
       "\n",
       "   Genre_MMO  Genre_Misc  ...  Country_Europe  Country_Finland  \\\n",
       "0          0           0  ...               0                0   \n",
       "2          0           0  ...               0                0   \n",
       "4          0           0  ...               0                0   \n",
       "5          0           0  ...               0                0   \n",
       "6          0           0  ...               0                0   \n",
       "\n",
       "   Country_France  Country_Japan  Country_Norway  Country_Poland  \\\n",
       "0               0              1               0               0   \n",
       "2               0              1               0               0   \n",
       "4               0              1               0               0   \n",
       "5               0              1               0               0   \n",
       "6               0              1               0               0   \n",
       "\n",
       "   Country_Russia  Country_South Korea  Country_United Kingdom  \\\n",
       "0               0                    0                       0   \n",
       "2               0                    0                       0   \n",
       "4               0                    0                       0   \n",
       "5               0                    0                       0   \n",
       "6               0                    0                       0   \n",
       "\n",
       "   Country_United States  \n",
       "0                      0  \n",
       "2                      0  \n",
       "4                      0  \n",
       "5                      0  \n",
       "6                      0  \n",
       "\n",
       "[5 rows x 54 columns]"
      ]
     },
     "execution_count": 337,
     "metadata": {},
     "output_type": "execute_result"
    }
   ],
   "source": [
    "# Define the features set.\n",
    "X = enc_df.copy()\n",
    "X = X.drop(\"Successful\", axis=1)\n",
    "X.head()"
   ]
  },
  {
   "cell_type": "code",
   "execution_count": 338,
   "id": "11582b95",
   "metadata": {},
   "outputs": [
    {
     "data": {
      "text/plain": [
       "array([0, 0, 0, 0, 0])"
      ]
     },
     "execution_count": 338,
     "metadata": {},
     "output_type": "execute_result"
    }
   ],
   "source": [
    "# Define the target set.\n",
    "y = enc_df[\"Successful\"].values\n",
    "y[:5]"
   ]
  },
  {
   "cell_type": "code",
   "execution_count": 339,
   "id": "c28798a0",
   "metadata": {},
   "outputs": [],
   "source": [
    "# Split the Data Into Training and Testing Sets\n",
    "X_train, X_test, y_train, y_test = train_test_split(X, y, random_state=78)"
   ]
  },
  {
   "cell_type": "code",
   "execution_count": 340,
   "id": "725f4782",
   "metadata": {},
   "outputs": [
    {
     "name": "stdout",
     "output_type": "stream",
     "text": [
      "(2684, 54)\n",
      "(895, 54)\n",
      "(2684,)\n",
      "(895,)\n"
     ]
    }
   ],
   "source": [
    "# Determine the shape of our training and testing sets.\n",
    "print(X_train.shape)\n",
    "print(X_test.shape)\n",
    "print(y_train.shape)\n",
    "print(y_test.shape)"
   ]
  },
  {
   "cell_type": "code",
   "execution_count": 341,
   "id": "2369f76b",
   "metadata": {},
   "outputs": [],
   "source": [
    "# Splitting into Train and Test sets into an 80/20 split.\n",
    "X_train2, X_test2, y_train2, y_test2 = train_test_split(X, y, random_state=78, train_size=0.80)"
   ]
  },
  {
   "cell_type": "code",
   "execution_count": 342,
   "id": "13db9e60",
   "metadata": {},
   "outputs": [
    {
     "name": "stdout",
     "output_type": "stream",
     "text": [
      "(2863, 54)\n",
      "(716, 54)\n",
      "(2863,)\n",
      "(716,)\n"
     ]
    }
   ],
   "source": [
    "# Determine the shape of our training and testing sets.\n",
    "print(X_train2.shape)\n",
    "print(X_test2.shape)\n",
    "print(y_train2.shape)\n",
    "print(y_test2.shape)"
   ]
  },
  {
   "cell_type": "code",
   "execution_count": 343,
   "id": "a95ef2d5",
   "metadata": {},
   "outputs": [],
   "source": [
    "# Creating a StandardScaler instance.\n",
    "scaler = StandardScaler()\n",
    "# Fitting the Standard Scaler with the training data.\n",
    "X_scaler = scaler.fit(X_train)\n",
    "\n",
    "# Scaling the data.\n",
    "X_train_scaled = X_scaler.transform(X_train)\n",
    "X_test_scaled = X_scaler.transform(X_test)"
   ]
  },
  {
   "cell_type": "code",
   "execution_count": 344,
   "id": "5a68f9f7",
   "metadata": {},
   "outputs": [],
   "source": [
    "# Creating the decision tree classifier instance.\n",
    "model = tree.DecisionTreeClassifier()\n",
    "# Fitting the model.\n",
    "model = model.fit(X_train_scaled, y_train)"
   ]
  },
  {
   "cell_type": "code",
   "execution_count": 345,
   "id": "3146ef85",
   "metadata": {},
   "outputs": [
    {
     "data": {
      "text/plain": [
       "array([0, 0, 0, 0, 0, 0, 1, 1, 0, 0, 0, 0, 0, 1, 1, 0, 0, 0, 1, 0, 0, 0,\n",
       "       0, 0, 0, 0, 0, 0, 0, 0, 0, 0, 0, 0, 1, 0, 0, 0, 0, 1, 0, 0, 0, 0,\n",
       "       1, 1, 0, 0, 0, 0, 0, 0, 0, 1, 0, 0, 1, 0, 0, 0, 0, 0, 0, 1, 1, 1,\n",
       "       0, 0, 0, 0, 1, 0, 1, 0, 0, 1, 0, 0, 1, 1, 0, 0, 0, 1, 0, 0, 0, 1,\n",
       "       1, 1, 1, 0, 1, 0, 1, 0, 0, 0, 0, 0, 1, 0, 0, 0, 0, 0, 0, 1, 1, 1,\n",
       "       0, 1, 0, 0, 0, 1, 0, 1, 0, 0, 1, 0, 0, 0, 0, 1, 1, 0, 1, 1, 0, 0,\n",
       "       0, 1, 0, 0, 1, 0, 1, 1, 0, 1, 1, 0, 0, 1, 1, 0, 0, 0, 1, 0, 0, 1,\n",
       "       0, 0, 1, 1, 1, 0, 0, 0, 0, 0, 1, 0, 1, 1, 0, 0, 0, 1, 1, 0, 0, 0,\n",
       "       0, 0, 0, 0, 1, 0, 1, 0, 0, 0, 0, 0, 1, 1, 0, 1, 1, 0, 0, 0, 0, 0,\n",
       "       1, 0, 0, 0, 1, 0, 0, 0, 0, 0, 0, 0, 0, 0, 0, 0, 1, 0, 0, 1, 1, 0,\n",
       "       0, 0, 0, 1, 1, 0, 0, 0, 0, 0, 0, 1, 0, 0, 0, 1, 0, 1, 0, 1, 1, 0,\n",
       "       0, 0, 1, 1, 0, 0, 1, 0, 1, 0, 0, 0, 1, 0, 0, 1, 1, 0, 0, 0, 0, 0,\n",
       "       0, 1, 0, 0, 0, 0, 0, 1, 0, 1, 1, 0, 1, 0, 1, 1, 0, 0, 0, 0, 1, 0,\n",
       "       1, 0, 0, 0, 0, 0, 0, 0, 0, 0, 0, 0, 1, 0, 0, 1, 0, 0, 0, 1, 0, 0,\n",
       "       0, 0, 0, 0, 0, 0, 1, 0, 0, 0, 0, 0, 1, 1, 0, 0, 0, 0, 0, 1, 1, 0,\n",
       "       0, 0, 1, 0, 0, 0, 0, 0, 0, 0, 0, 0, 0, 0, 1, 1, 1, 1, 0, 1, 0, 1,\n",
       "       0, 0, 1, 0, 0, 0, 0, 0, 0, 1, 0, 1, 0, 0, 0, 1, 0, 0, 1, 0, 0, 0,\n",
       "       0, 1, 0, 0, 0, 0, 0, 0, 0, 1, 1, 1, 1, 0, 0, 0, 1, 1, 0, 0, 0, 0,\n",
       "       1, 1, 1, 0, 1, 1, 0, 0, 0, 0, 0, 0, 0, 0, 0, 0, 0, 1, 1, 0, 0, 1,\n",
       "       0, 0, 1, 0, 0, 0, 0, 0, 1, 0, 0, 1, 0, 1, 0, 0, 0, 0, 0, 0, 0, 0,\n",
       "       0, 1, 0, 1, 0, 0, 0, 0, 1, 0, 0, 1, 1, 0, 0, 0, 0, 0, 0, 0, 0, 0,\n",
       "       1, 0, 1, 0, 0, 0, 0, 0, 0, 0, 0, 0, 1, 0, 0, 0, 0, 0, 1, 0, 1, 1,\n",
       "       0, 0, 0, 0, 1, 1, 0, 0, 0, 0, 0, 0, 0, 0, 0, 0, 1, 0, 0, 1, 0, 0,\n",
       "       1, 1, 0, 0, 0, 0, 0, 0, 0, 1, 0, 1, 0, 0, 1, 1, 0, 0, 0, 0, 1, 0,\n",
       "       0, 0, 0, 0, 0, 0, 1, 0, 0, 1, 1, 0, 1, 0, 0, 0, 1, 0, 1, 0, 1, 1,\n",
       "       1, 1, 0, 0, 1, 1, 1, 1, 0, 0, 0, 1, 0, 0, 1, 0, 0, 1, 1, 1, 0, 0,\n",
       "       0, 1, 0, 0, 1, 0, 0, 0, 0, 0, 0, 0, 1, 0, 0, 0, 0, 0, 0, 1, 1, 0,\n",
       "       0, 0, 0, 0, 1, 0, 0, 0, 0, 0, 1, 0, 0, 0, 0, 0, 0, 0, 0, 0, 1, 0,\n",
       "       0, 1, 0, 0, 0, 0, 1, 1, 0, 0, 0, 0, 1, 0, 0, 0, 1, 0, 0, 0, 1, 0,\n",
       "       0, 0, 1, 1, 1, 0, 0, 1, 0, 0, 1, 1, 0, 0, 0, 0, 1, 0, 0, 0, 1, 0,\n",
       "       0, 1, 0, 0, 0, 0, 1, 0, 1, 0, 0, 1, 1, 0, 0, 0, 0, 0, 1, 0, 0, 0,\n",
       "       1, 0, 0, 0, 0, 0, 0, 0, 1, 0, 0, 1, 0, 0, 0, 0, 1, 0, 0, 0, 1, 0,\n",
       "       1, 1, 1, 0, 0, 0, 1, 0, 0, 0, 0, 0, 1, 1, 1, 0, 1, 1, 1, 0, 1, 0,\n",
       "       0, 0, 0, 0, 0, 1, 0, 0, 0, 1, 1, 0, 0, 1, 0, 1, 0, 1, 0, 1, 1, 1,\n",
       "       1, 0, 1, 1, 1, 1, 0, 0, 0, 0, 0, 0, 1, 0, 1, 0, 1, 1, 0, 0, 0, 0,\n",
       "       0, 1, 0, 1, 0, 0, 1, 0, 0, 0, 0, 0, 0, 1, 0, 0, 0, 0, 0, 0, 0, 1,\n",
       "       0, 0, 0, 0, 1, 0, 0, 0, 0, 0, 1, 1, 0, 0, 0, 0, 0, 1, 0, 0, 0, 0,\n",
       "       0, 0, 0, 0, 0, 0, 0, 0, 0, 1, 1, 0, 1, 1, 0, 0, 1, 1, 1, 1, 1, 1,\n",
       "       0, 1, 0, 0, 1, 0, 0, 0, 0, 1, 0, 0, 0, 0, 0, 0, 0, 0, 0, 0, 0, 1,\n",
       "       1, 0, 0, 0, 0, 0, 0, 0, 0, 1, 1, 0, 0, 1, 1, 0, 0, 0, 0, 0, 0, 0,\n",
       "       0, 1, 0, 0, 1, 1, 0, 1, 0, 0, 1, 0, 1, 1, 1])"
      ]
     },
     "execution_count": 345,
     "metadata": {},
     "output_type": "execute_result"
    }
   ],
   "source": [
    "# Making predictions using the testing data.\n",
    "predictions = model.predict(X_test_scaled)\n",
    "predictions"
   ]
  },
  {
   "cell_type": "code",
   "execution_count": 346,
   "id": "d9e2f1da",
   "metadata": {},
   "outputs": [
    {
     "data": {
      "text/html": [
       "<div>\n",
       "<style scoped>\n",
       "    .dataframe tbody tr th:only-of-type {\n",
       "        vertical-align: middle;\n",
       "    }\n",
       "\n",
       "    .dataframe tbody tr th {\n",
       "        vertical-align: top;\n",
       "    }\n",
       "\n",
       "    .dataframe thead th {\n",
       "        text-align: right;\n",
       "    }\n",
       "</style>\n",
       "<table border=\"1\" class=\"dataframe\">\n",
       "  <thead>\n",
       "    <tr style=\"text-align: right;\">\n",
       "      <th></th>\n",
       "      <th>Predicted 0</th>\n",
       "      <th>Predicted 1</th>\n",
       "    </tr>\n",
       "  </thead>\n",
       "  <tbody>\n",
       "    <tr>\n",
       "      <th>Actual 0</th>\n",
       "      <td>627</td>\n",
       "      <td>0</td>\n",
       "    </tr>\n",
       "    <tr>\n",
       "      <th>Actual 1</th>\n",
       "      <td>0</td>\n",
       "      <td>268</td>\n",
       "    </tr>\n",
       "  </tbody>\n",
       "</table>\n",
       "</div>"
      ],
      "text/plain": [
       "          Predicted 0  Predicted 1\n",
       "Actual 0          627            0\n",
       "Actual 1            0          268"
      ]
     },
     "execution_count": 346,
     "metadata": {},
     "output_type": "execute_result"
    }
   ],
   "source": [
    "# Calculating the confusion matrix\n",
    "cm = confusion_matrix(y_test, predictions)\n",
    "\n",
    "# Create a DataFrame from the confusion matrix.\n",
    "cm_df = pd.DataFrame(\n",
    "    cm, index=[\"Actual 0\", \"Actual 1\"], columns=[\"Predicted 0\", \"Predicted 1\"])\n",
    "\n",
    "cm_df"
   ]
  },
  {
   "cell_type": "code",
   "execution_count": 347,
   "id": "e8d28dcd",
   "metadata": {},
   "outputs": [
    {
     "data": {
      "text/plain": [
       "1.0"
      ]
     },
     "execution_count": 347,
     "metadata": {},
     "output_type": "execute_result"
    }
   ],
   "source": [
    "# Calculating the accuracy score.\n",
    "acc_score = accuracy_score(y_test, predictions)\n",
    "acc_score"
   ]
  },
  {
   "cell_type": "code",
   "execution_count": 348,
   "id": "80b62eb0",
   "metadata": {},
   "outputs": [
    {
     "name": "stdout",
     "output_type": "stream",
     "text": [
      "Confusion Matrix\n"
     ]
    },
    {
     "data": {
      "text/html": [
       "<div>\n",
       "<style scoped>\n",
       "    .dataframe tbody tr th:only-of-type {\n",
       "        vertical-align: middle;\n",
       "    }\n",
       "\n",
       "    .dataframe tbody tr th {\n",
       "        vertical-align: top;\n",
       "    }\n",
       "\n",
       "    .dataframe thead th {\n",
       "        text-align: right;\n",
       "    }\n",
       "</style>\n",
       "<table border=\"1\" class=\"dataframe\">\n",
       "  <thead>\n",
       "    <tr style=\"text-align: right;\">\n",
       "      <th></th>\n",
       "      <th>Predicted 0</th>\n",
       "      <th>Predicted 1</th>\n",
       "    </tr>\n",
       "  </thead>\n",
       "  <tbody>\n",
       "    <tr>\n",
       "      <th>Actual 0</th>\n",
       "      <td>627</td>\n",
       "      <td>0</td>\n",
       "    </tr>\n",
       "    <tr>\n",
       "      <th>Actual 1</th>\n",
       "      <td>0</td>\n",
       "      <td>268</td>\n",
       "    </tr>\n",
       "  </tbody>\n",
       "</table>\n",
       "</div>"
      ],
      "text/plain": [
       "          Predicted 0  Predicted 1\n",
       "Actual 0          627            0\n",
       "Actual 1            0          268"
      ]
     },
     "metadata": {},
     "output_type": "display_data"
    },
    {
     "name": "stdout",
     "output_type": "stream",
     "text": [
      "Accuracy Score : 1.0\n",
      "Classification Report\n",
      "              precision    recall  f1-score   support\n",
      "\n",
      "           0       1.00      1.00      1.00       627\n",
      "           1       1.00      1.00      1.00       268\n",
      "\n",
      "    accuracy                           1.00       895\n",
      "   macro avg       1.00      1.00      1.00       895\n",
      "weighted avg       1.00      1.00      1.00       895\n",
      "\n"
     ]
    }
   ],
   "source": [
    "# Displaying results\n",
    "print(\"Confusion Matrix\")\n",
    "display(cm_df)\n",
    "print(f\"Accuracy Score : {acc_score}\")\n",
    "print(\"Classification Report\")\n",
    "print(classification_report(y_test, predictions))"
   ]
  },
  {
   "cell_type": "code",
   "execution_count": null,
   "id": "4d845f74",
   "metadata": {},
   "outputs": [],
   "source": []
  },
  {
   "cell_type": "code",
   "execution_count": null,
   "id": "66749bf1",
   "metadata": {},
   "outputs": [],
   "source": []
  },
  {
   "cell_type": "code",
   "execution_count": null,
   "id": "2b804e01",
   "metadata": {},
   "outputs": [],
   "source": []
  }
 ],
 "metadata": {
  "kernelspec": {
   "display_name": "Python 3 (ipykernel)",
   "language": "python",
   "name": "python3"
  },
  "language_info": {
   "codemirror_mode": {
    "name": "ipython",
    "version": 3
   },
   "file_extension": ".py",
   "mimetype": "text/x-python",
   "name": "python",
   "nbconvert_exporter": "python",
   "pygments_lexer": "ipython3",
   "version": "3.10.5"
  }
 },
 "nbformat": 4,
 "nbformat_minor": 5
}
