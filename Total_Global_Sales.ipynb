{
 "cells": [
  {
   "cell_type": "code",
   "execution_count": 1,
   "id": "fdb91ac2",
   "metadata": {},
   "outputs": [],
   "source": [
    "# Import dependencies\n",
    "import pandas as pd\n",
    "import numpy as np\n",
    "from pathlib import Path"
   ]
  },
  {
   "cell_type": "code",
   "execution_count": 2,
   "id": "c2b0ddcd",
   "metadata": {},
   "outputs": [
    {
     "data": {
      "text/html": [
       "<div>\n",
       "<style scoped>\n",
       "    .dataframe tbody tr th:only-of-type {\n",
       "        vertical-align: middle;\n",
       "    }\n",
       "\n",
       "    .dataframe tbody tr th {\n",
       "        vertical-align: top;\n",
       "    }\n",
       "\n",
       "    .dataframe thead th {\n",
       "        text-align: right;\n",
       "    }\n",
       "</style>\n",
       "<table border=\"1\" class=\"dataframe\">\n",
       "  <thead>\n",
       "    <tr style=\"text-align: right;\">\n",
       "      <th></th>\n",
       "      <th>Rank</th>\n",
       "      <th>Name</th>\n",
       "      <th>basename</th>\n",
       "      <th>Genre</th>\n",
       "      <th>ESRB_Rating</th>\n",
       "      <th>Platform</th>\n",
       "      <th>Publisher</th>\n",
       "      <th>Developer</th>\n",
       "      <th>VGChartz_Score</th>\n",
       "      <th>Critic_Score</th>\n",
       "      <th>...</th>\n",
       "      <th>NA_Sales</th>\n",
       "      <th>PAL_Sales</th>\n",
       "      <th>JP_Sales</th>\n",
       "      <th>Other_Sales</th>\n",
       "      <th>Year</th>\n",
       "      <th>Last_Update</th>\n",
       "      <th>url</th>\n",
       "      <th>status</th>\n",
       "      <th>Vgchartzscore</th>\n",
       "      <th>img_url</th>\n",
       "    </tr>\n",
       "  </thead>\n",
       "  <tbody>\n",
       "    <tr>\n",
       "      <th>0</th>\n",
       "      <td>1</td>\n",
       "      <td>Wii Sports</td>\n",
       "      <td>wii-sports</td>\n",
       "      <td>Sports</td>\n",
       "      <td>E</td>\n",
       "      <td>Wii</td>\n",
       "      <td>Nintendo</td>\n",
       "      <td>Nintendo EAD</td>\n",
       "      <td>NaN</td>\n",
       "      <td>7.7</td>\n",
       "      <td>...</td>\n",
       "      <td>NaN</td>\n",
       "      <td>NaN</td>\n",
       "      <td>NaN</td>\n",
       "      <td>NaN</td>\n",
       "      <td>2006.0</td>\n",
       "      <td>NaN</td>\n",
       "      <td>http://www.vgchartz.com/game/2667/wii-sports/?...</td>\n",
       "      <td>1</td>\n",
       "      <td>NaN</td>\n",
       "      <td>/games/boxart/full_2258645AmericaFrontccc.jpg</td>\n",
       "    </tr>\n",
       "    <tr>\n",
       "      <th>1</th>\n",
       "      <td>2</td>\n",
       "      <td>Super Mario Bros.</td>\n",
       "      <td>super-mario-bros</td>\n",
       "      <td>Platform</td>\n",
       "      <td>NaN</td>\n",
       "      <td>NES</td>\n",
       "      <td>Nintendo</td>\n",
       "      <td>Nintendo EAD</td>\n",
       "      <td>NaN</td>\n",
       "      <td>10.0</td>\n",
       "      <td>...</td>\n",
       "      <td>NaN</td>\n",
       "      <td>NaN</td>\n",
       "      <td>NaN</td>\n",
       "      <td>NaN</td>\n",
       "      <td>1985.0</td>\n",
       "      <td>NaN</td>\n",
       "      <td>http://www.vgchartz.com/game/6455/super-mario-...</td>\n",
       "      <td>1</td>\n",
       "      <td>NaN</td>\n",
       "      <td>/games/boxart/8972270ccc.jpg</td>\n",
       "    </tr>\n",
       "    <tr>\n",
       "      <th>2</th>\n",
       "      <td>3</td>\n",
       "      <td>Mario Kart Wii</td>\n",
       "      <td>mario-kart-wii</td>\n",
       "      <td>Racing</td>\n",
       "      <td>E</td>\n",
       "      <td>Wii</td>\n",
       "      <td>Nintendo</td>\n",
       "      <td>Nintendo EAD</td>\n",
       "      <td>NaN</td>\n",
       "      <td>8.2</td>\n",
       "      <td>...</td>\n",
       "      <td>NaN</td>\n",
       "      <td>NaN</td>\n",
       "      <td>NaN</td>\n",
       "      <td>NaN</td>\n",
       "      <td>2008.0</td>\n",
       "      <td>11th Apr 18</td>\n",
       "      <td>http://www.vgchartz.com/game/6968/mario-kart-w...</td>\n",
       "      <td>1</td>\n",
       "      <td>8.7</td>\n",
       "      <td>/games/boxart/full_8932480AmericaFrontccc.jpg</td>\n",
       "    </tr>\n",
       "    <tr>\n",
       "      <th>3</th>\n",
       "      <td>4</td>\n",
       "      <td>PlayerUnknown's Battlegrounds</td>\n",
       "      <td>playerunknowns-battlegrounds</td>\n",
       "      <td>Shooter</td>\n",
       "      <td>NaN</td>\n",
       "      <td>PC</td>\n",
       "      <td>PUBG Corporation</td>\n",
       "      <td>PUBG Corporation</td>\n",
       "      <td>NaN</td>\n",
       "      <td>NaN</td>\n",
       "      <td>...</td>\n",
       "      <td>NaN</td>\n",
       "      <td>NaN</td>\n",
       "      <td>NaN</td>\n",
       "      <td>NaN</td>\n",
       "      <td>2017.0</td>\n",
       "      <td>13th Nov 18</td>\n",
       "      <td>http://www.vgchartz.com/game/215988/playerunkn...</td>\n",
       "      <td>1</td>\n",
       "      <td>NaN</td>\n",
       "      <td>/games/boxart/full_8052843AmericaFrontccc.jpg</td>\n",
       "    </tr>\n",
       "    <tr>\n",
       "      <th>4</th>\n",
       "      <td>5</td>\n",
       "      <td>Wii Sports Resort</td>\n",
       "      <td>wii-sports-resort</td>\n",
       "      <td>Sports</td>\n",
       "      <td>E</td>\n",
       "      <td>Wii</td>\n",
       "      <td>Nintendo</td>\n",
       "      <td>Nintendo EAD</td>\n",
       "      <td>NaN</td>\n",
       "      <td>8.0</td>\n",
       "      <td>...</td>\n",
       "      <td>NaN</td>\n",
       "      <td>NaN</td>\n",
       "      <td>NaN</td>\n",
       "      <td>NaN</td>\n",
       "      <td>2009.0</td>\n",
       "      <td>NaN</td>\n",
       "      <td>http://www.vgchartz.com/game/24656/wii-sports-...</td>\n",
       "      <td>1</td>\n",
       "      <td>8.8</td>\n",
       "      <td>/games/boxart/full_7295041AmericaFrontccc.jpg</td>\n",
       "    </tr>\n",
       "  </tbody>\n",
       "</table>\n",
       "<p>5 rows × 23 columns</p>\n",
       "</div>"
      ],
      "text/plain": [
       "   Rank                           Name                      basename  \\\n",
       "0     1                     Wii Sports                    wii-sports   \n",
       "1     2              Super Mario Bros.              super-mario-bros   \n",
       "2     3                 Mario Kart Wii                mario-kart-wii   \n",
       "3     4  PlayerUnknown's Battlegrounds  playerunknowns-battlegrounds   \n",
       "4     5              Wii Sports Resort             wii-sports-resort   \n",
       "\n",
       "      Genre ESRB_Rating Platform         Publisher         Developer  \\\n",
       "0    Sports           E      Wii          Nintendo      Nintendo EAD   \n",
       "1  Platform         NaN      NES          Nintendo      Nintendo EAD   \n",
       "2    Racing           E      Wii          Nintendo      Nintendo EAD   \n",
       "3   Shooter         NaN       PC  PUBG Corporation  PUBG Corporation   \n",
       "4    Sports           E      Wii          Nintendo      Nintendo EAD   \n",
       "\n",
       "   VGChartz_Score  Critic_Score  ...  NA_Sales  PAL_Sales  JP_Sales  \\\n",
       "0             NaN           7.7  ...       NaN        NaN       NaN   \n",
       "1             NaN          10.0  ...       NaN        NaN       NaN   \n",
       "2             NaN           8.2  ...       NaN        NaN       NaN   \n",
       "3             NaN           NaN  ...       NaN        NaN       NaN   \n",
       "4             NaN           8.0  ...       NaN        NaN       NaN   \n",
       "\n",
       "   Other_Sales    Year  Last_Update  \\\n",
       "0          NaN  2006.0          NaN   \n",
       "1          NaN  1985.0          NaN   \n",
       "2          NaN  2008.0  11th Apr 18   \n",
       "3          NaN  2017.0  13th Nov 18   \n",
       "4          NaN  2009.0          NaN   \n",
       "\n",
       "                                                 url  status Vgchartzscore  \\\n",
       "0  http://www.vgchartz.com/game/2667/wii-sports/?...       1           NaN   \n",
       "1  http://www.vgchartz.com/game/6455/super-mario-...       1           NaN   \n",
       "2  http://www.vgchartz.com/game/6968/mario-kart-w...       1           8.7   \n",
       "3  http://www.vgchartz.com/game/215988/playerunkn...       1           NaN   \n",
       "4  http://www.vgchartz.com/game/24656/wii-sports-...       1           8.8   \n",
       "\n",
       "                                         img_url  \n",
       "0  /games/boxart/full_2258645AmericaFrontccc.jpg  \n",
       "1                   /games/boxart/8972270ccc.jpg  \n",
       "2  /games/boxart/full_8932480AmericaFrontccc.jpg  \n",
       "3  /games/boxart/full_8052843AmericaFrontccc.jpg  \n",
       "4  /games/boxart/full_7295041AmericaFrontccc.jpg  \n",
       "\n",
       "[5 rows x 23 columns]"
      ]
     },
     "execution_count": 2,
     "metadata": {},
     "output_type": "execute_result"
    }
   ],
   "source": [
    "# Import dataset\n",
    "file_path = Path('Resources/vgsales-12-4-2019.csv')\n",
    "vgsales_df = pd.read_csv(file_path)\n",
    "vgsales_df.head()"
   ]
  },
  {
   "cell_type": "code",
   "execution_count": 3,
   "id": "00866d09",
   "metadata": {},
   "outputs": [
    {
     "data": {
      "text/plain": [
       "['Rank',\n",
       " 'Name',\n",
       " 'basename',\n",
       " 'Genre',\n",
       " 'ESRB_Rating',\n",
       " 'Platform',\n",
       " 'Publisher',\n",
       " 'Developer',\n",
       " 'VGChartz_Score',\n",
       " 'Critic_Score',\n",
       " 'User_Score',\n",
       " 'Total_Shipped',\n",
       " 'Global_Sales',\n",
       " 'NA_Sales',\n",
       " 'PAL_Sales',\n",
       " 'JP_Sales',\n",
       " 'Other_Sales',\n",
       " 'Year',\n",
       " 'Last_Update',\n",
       " 'url',\n",
       " 'status',\n",
       " 'Vgchartzscore',\n",
       " 'img_url']"
      ]
     },
     "execution_count": 3,
     "metadata": {},
     "output_type": "execute_result"
    }
   ],
   "source": [
    "vgsales_df.columns.tolist()"
   ]
  },
  {
   "cell_type": "code",
   "execution_count": 4,
   "id": "458315ee",
   "metadata": {},
   "outputs": [
    {
     "data": {
      "text/plain": [
       "Rank                int64\n",
       "Name               object\n",
       "basename           object\n",
       "Genre              object\n",
       "ESRB_Rating        object\n",
       "Platform           object\n",
       "Publisher          object\n",
       "Developer          object\n",
       "VGChartz_Score    float64\n",
       "Critic_Score      float64\n",
       "User_Score        float64\n",
       "Total_Shipped     float64\n",
       "Global_Sales      float64\n",
       "NA_Sales          float64\n",
       "PAL_Sales         float64\n",
       "JP_Sales          float64\n",
       "Other_Sales       float64\n",
       "Year              float64\n",
       "Last_Update        object\n",
       "url                object\n",
       "status              int64\n",
       "Vgchartzscore     float64\n",
       "img_url            object\n",
       "dtype: object"
      ]
     },
     "execution_count": 4,
     "metadata": {},
     "output_type": "execute_result"
    }
   ],
   "source": [
    "vgsales_df.dtypes"
   ]
  },
  {
   "cell_type": "code",
   "execution_count": 5,
   "id": "0d7bca87",
   "metadata": {},
   "outputs": [
    {
     "data": {
      "text/html": [
       "<div>\n",
       "<style scoped>\n",
       "    .dataframe tbody tr th:only-of-type {\n",
       "        vertical-align: middle;\n",
       "    }\n",
       "\n",
       "    .dataframe tbody tr th {\n",
       "        vertical-align: top;\n",
       "    }\n",
       "\n",
       "    .dataframe thead th {\n",
       "        text-align: right;\n",
       "    }\n",
       "</style>\n",
       "<table border=\"1\" class=\"dataframe\">\n",
       "  <thead>\n",
       "    <tr style=\"text-align: right;\">\n",
       "      <th></th>\n",
       "      <th>Name</th>\n",
       "      <th>Genre</th>\n",
       "      <th>ESRB_Rating</th>\n",
       "      <th>Platform</th>\n",
       "      <th>Publisher</th>\n",
       "      <th>Developer</th>\n",
       "      <th>Critic_Score</th>\n",
       "      <th>Total_Shipped</th>\n",
       "      <th>Global_Sales</th>\n",
       "      <th>Year</th>\n",
       "    </tr>\n",
       "  </thead>\n",
       "  <tbody>\n",
       "    <tr>\n",
       "      <th>0</th>\n",
       "      <td>Wii Sports</td>\n",
       "      <td>Sports</td>\n",
       "      <td>E</td>\n",
       "      <td>Wii</td>\n",
       "      <td>Nintendo</td>\n",
       "      <td>Nintendo EAD</td>\n",
       "      <td>7.7</td>\n",
       "      <td>82.86</td>\n",
       "      <td>NaN</td>\n",
       "      <td>2006.0</td>\n",
       "    </tr>\n",
       "    <tr>\n",
       "      <th>1</th>\n",
       "      <td>Super Mario Bros.</td>\n",
       "      <td>Platform</td>\n",
       "      <td>NaN</td>\n",
       "      <td>NES</td>\n",
       "      <td>Nintendo</td>\n",
       "      <td>Nintendo EAD</td>\n",
       "      <td>10.0</td>\n",
       "      <td>40.24</td>\n",
       "      <td>NaN</td>\n",
       "      <td>1985.0</td>\n",
       "    </tr>\n",
       "    <tr>\n",
       "      <th>2</th>\n",
       "      <td>Mario Kart Wii</td>\n",
       "      <td>Racing</td>\n",
       "      <td>E</td>\n",
       "      <td>Wii</td>\n",
       "      <td>Nintendo</td>\n",
       "      <td>Nintendo EAD</td>\n",
       "      <td>8.2</td>\n",
       "      <td>37.14</td>\n",
       "      <td>NaN</td>\n",
       "      <td>2008.0</td>\n",
       "    </tr>\n",
       "    <tr>\n",
       "      <th>3</th>\n",
       "      <td>PlayerUnknown's Battlegrounds</td>\n",
       "      <td>Shooter</td>\n",
       "      <td>NaN</td>\n",
       "      <td>PC</td>\n",
       "      <td>PUBG Corporation</td>\n",
       "      <td>PUBG Corporation</td>\n",
       "      <td>NaN</td>\n",
       "      <td>36.60</td>\n",
       "      <td>NaN</td>\n",
       "      <td>2017.0</td>\n",
       "    </tr>\n",
       "    <tr>\n",
       "      <th>4</th>\n",
       "      <td>Wii Sports Resort</td>\n",
       "      <td>Sports</td>\n",
       "      <td>E</td>\n",
       "      <td>Wii</td>\n",
       "      <td>Nintendo</td>\n",
       "      <td>Nintendo EAD</td>\n",
       "      <td>8.0</td>\n",
       "      <td>33.09</td>\n",
       "      <td>NaN</td>\n",
       "      <td>2009.0</td>\n",
       "    </tr>\n",
       "  </tbody>\n",
       "</table>\n",
       "</div>"
      ],
      "text/plain": [
       "                            Name     Genre ESRB_Rating Platform  \\\n",
       "0                     Wii Sports    Sports           E      Wii   \n",
       "1              Super Mario Bros.  Platform         NaN      NES   \n",
       "2                 Mario Kart Wii    Racing           E      Wii   \n",
       "3  PlayerUnknown's Battlegrounds   Shooter         NaN       PC   \n",
       "4              Wii Sports Resort    Sports           E      Wii   \n",
       "\n",
       "          Publisher         Developer  Critic_Score  Total_Shipped  \\\n",
       "0          Nintendo      Nintendo EAD           7.7          82.86   \n",
       "1          Nintendo      Nintendo EAD          10.0          40.24   \n",
       "2          Nintendo      Nintendo EAD           8.2          37.14   \n",
       "3  PUBG Corporation  PUBG Corporation           NaN          36.60   \n",
       "4          Nintendo      Nintendo EAD           8.0          33.09   \n",
       "\n",
       "   Global_Sales    Year  \n",
       "0           NaN  2006.0  \n",
       "1           NaN  1985.0  \n",
       "2           NaN  2008.0  \n",
       "3           NaN  2017.0  \n",
       "4           NaN  2009.0  "
      ]
     },
     "execution_count": 5,
     "metadata": {},
     "output_type": "execute_result"
    }
   ],
   "source": [
    "# Dropping columns:\n",
    "# Rank: still a rough draft\n",
    "# Other data has been drop as it is irrelevant to our presentation\n",
    "vg_global_sales_df = vgsales_df.drop(['Rank', 'Last_Update', \n",
    "                                   'status', 'VGChartz_Score','Vgchartzscore',\n",
    "                                    'User_Score','NA_Sales', 'PAL_Sales', 'JP_Sales', 'Other_Sales', 'url', 'img_url', 'basename'], axis = 1)\n",
    "vg_global_sales_df.head(5)"
   ]
  },
  {
   "cell_type": "code",
   "execution_count": 6,
   "id": "6ef47da6",
   "metadata": {},
   "outputs": [
    {
     "data": {
      "text/plain": [
       "Name             55792\n",
       "Genre            55792\n",
       "ESRB_Rating      23623\n",
       "Platform         55792\n",
       "Publisher        55792\n",
       "Developer        55775\n",
       "Critic_Score      6536\n",
       "Total_Shipped     1827\n",
       "Global_Sales     19415\n",
       "Year             54813\n",
       "dtype: int64"
      ]
     },
     "execution_count": 6,
     "metadata": {},
     "output_type": "execute_result"
    }
   ],
   "source": [
    "vg_global_sales_df.count()"
   ]
  },
  {
   "cell_type": "code",
   "execution_count": 7,
   "id": "c6274467",
   "metadata": {},
   "outputs": [
    {
     "name": "stdout",
     "output_type": "stream",
     "text": [
      "Column Name has 0 null values\n",
      "Column Genre has 0 null values\n",
      "Column ESRB_Rating has 32169 null values\n",
      "Column Platform has 0 null values\n",
      "Column Publisher has 0 null values\n",
      "Column Developer has 17 null values\n",
      "Column Critic_Score has 49256 null values\n",
      "Column Total_Shipped has 53965 null values\n",
      "Column Global_Sales has 36377 null values\n",
      "Column Year has 979 null values\n"
     ]
    }
   ],
   "source": [
    "# Find the null values\n",
    "for column in vg_global_sales_df.columns:\n",
    "    print(f'Column {column} has {vg_global_sales_df[column].isnull().sum()} null values')"
   ]
  },
  {
   "cell_type": "code",
   "execution_count": 8,
   "id": "7fa36a23",
   "metadata": {},
   "outputs": [
    {
     "data": {
      "text/html": [
       "<div>\n",
       "<style scoped>\n",
       "    .dataframe tbody tr th:only-of-type {\n",
       "        vertical-align: middle;\n",
       "    }\n",
       "\n",
       "    .dataframe tbody tr th {\n",
       "        vertical-align: top;\n",
       "    }\n",
       "\n",
       "    .dataframe thead th {\n",
       "        text-align: right;\n",
       "    }\n",
       "</style>\n",
       "<table border=\"1\" class=\"dataframe\">\n",
       "  <thead>\n",
       "    <tr style=\"text-align: right;\">\n",
       "      <th></th>\n",
       "      <th>Name</th>\n",
       "      <th>Genre</th>\n",
       "      <th>ESRB_Rating</th>\n",
       "      <th>Platform</th>\n",
       "      <th>Publisher</th>\n",
       "      <th>Developer</th>\n",
       "      <th>Critic_Score</th>\n",
       "      <th>Total_Shipped</th>\n",
       "      <th>Global_Sales</th>\n",
       "      <th>Year</th>\n",
       "    </tr>\n",
       "  </thead>\n",
       "  <tbody>\n",
       "    <tr>\n",
       "      <th>0</th>\n",
       "      <td>Wii Sports</td>\n",
       "      <td>Sports</td>\n",
       "      <td>E</td>\n",
       "      <td>Wii</td>\n",
       "      <td>Nintendo</td>\n",
       "      <td>Nintendo EAD</td>\n",
       "      <td>7.7</td>\n",
       "      <td>82.86</td>\n",
       "      <td>NaN</td>\n",
       "      <td>2006.0</td>\n",
       "    </tr>\n",
       "    <tr>\n",
       "      <th>1</th>\n",
       "      <td>Super Mario Bros.</td>\n",
       "      <td>Platform</td>\n",
       "      <td>NaN</td>\n",
       "      <td>NES</td>\n",
       "      <td>Nintendo</td>\n",
       "      <td>Nintendo EAD</td>\n",
       "      <td>10.0</td>\n",
       "      <td>40.24</td>\n",
       "      <td>NaN</td>\n",
       "      <td>1985.0</td>\n",
       "    </tr>\n",
       "    <tr>\n",
       "      <th>2</th>\n",
       "      <td>Mario Kart Wii</td>\n",
       "      <td>Racing</td>\n",
       "      <td>E</td>\n",
       "      <td>Wii</td>\n",
       "      <td>Nintendo</td>\n",
       "      <td>Nintendo EAD</td>\n",
       "      <td>8.2</td>\n",
       "      <td>37.14</td>\n",
       "      <td>NaN</td>\n",
       "      <td>2008.0</td>\n",
       "    </tr>\n",
       "    <tr>\n",
       "      <th>3</th>\n",
       "      <td>PlayerUnknown's Battlegrounds</td>\n",
       "      <td>Shooter</td>\n",
       "      <td>NaN</td>\n",
       "      <td>PC</td>\n",
       "      <td>PUBG Corporation</td>\n",
       "      <td>PUBG Corporation</td>\n",
       "      <td>NaN</td>\n",
       "      <td>36.60</td>\n",
       "      <td>NaN</td>\n",
       "      <td>2017.0</td>\n",
       "    </tr>\n",
       "    <tr>\n",
       "      <th>4</th>\n",
       "      <td>Wii Sports Resort</td>\n",
       "      <td>Sports</td>\n",
       "      <td>E</td>\n",
       "      <td>Wii</td>\n",
       "      <td>Nintendo</td>\n",
       "      <td>Nintendo EAD</td>\n",
       "      <td>8.0</td>\n",
       "      <td>33.09</td>\n",
       "      <td>NaN</td>\n",
       "      <td>2009.0</td>\n",
       "    </tr>\n",
       "  </tbody>\n",
       "</table>\n",
       "</div>"
      ],
      "text/plain": [
       "                            Name     Genre ESRB_Rating Platform  \\\n",
       "0                     Wii Sports    Sports           E      Wii   \n",
       "1              Super Mario Bros.  Platform         NaN      NES   \n",
       "2                 Mario Kart Wii    Racing           E      Wii   \n",
       "3  PlayerUnknown's Battlegrounds   Shooter         NaN       PC   \n",
       "4              Wii Sports Resort    Sports           E      Wii   \n",
       "\n",
       "          Publisher         Developer  Critic_Score  Total_Shipped  \\\n",
       "0          Nintendo      Nintendo EAD           7.7          82.86   \n",
       "1          Nintendo      Nintendo EAD          10.0          40.24   \n",
       "2          Nintendo      Nintendo EAD           8.2          37.14   \n",
       "3  PUBG Corporation  PUBG Corporation           NaN          36.60   \n",
       "4          Nintendo      Nintendo EAD           8.0          33.09   \n",
       "\n",
       "   Global_Sales    Year  \n",
       "0           NaN  2006.0  \n",
       "1           NaN  1985.0  \n",
       "2           NaN  2008.0  \n",
       "3           NaN  2017.0  \n",
       "4           NaN  2009.0  "
      ]
     },
     "execution_count": 8,
     "metadata": {},
     "output_type": "execute_result"
    }
   ],
   "source": [
    "vg_global_sales_df.head()"
   ]
  },
  {
   "cell_type": "code",
   "execution_count": 9,
   "id": "d61c302a",
   "metadata": {},
   "outputs": [
    {
     "data": {
      "text/plain": [
       "(55792, 10)"
      ]
     },
     "execution_count": 9,
     "metadata": {},
     "output_type": "execute_result"
    }
   ],
   "source": [
    "vg_global_sales_df.shape"
   ]
  },
  {
   "cell_type": "code",
   "execution_count": 10,
   "id": "11d20a8b",
   "metadata": {},
   "outputs": [
    {
     "data": {
      "text/plain": [
       "(42368, 10)"
      ]
     },
     "execution_count": 10,
     "metadata": {},
     "output_type": "execute_result"
    }
   ],
   "source": [
    "# Filter and use only data since 2000\n",
    "vg_global_sales_df = vg_global_sales_df[vg_global_sales_df['Year'] >= 2000]\n",
    "vg_global_sales_df.shape"
   ]
  },
  {
   "cell_type": "code",
   "execution_count": 11,
   "id": "e63a8403",
   "metadata": {},
   "outputs": [
    {
     "name": "stdout",
     "output_type": "stream",
     "text": [
      "6234.29\n"
     ]
    }
   ],
   "source": [
    "# Calculating the total Global Sales\n",
    "vg_total_global_sales = vg_global_sales_df['Global_Sales'].sum()\n",
    "print(vg_total_global_sales)"
   ]
  },
  {
   "cell_type": "markdown",
   "id": "f871223a",
   "metadata": {},
   "source": [
    "# Analyzing Global Sales by Publisher, Developer, Game, Genre"
   ]
  },
  {
   "cell_type": "markdown",
   "id": "7dbbae52",
   "metadata": {},
   "source": [
    "### Developers create the games, while publishers market, sell, and promote them. This is the main difference between developers and publishers."
   ]
  },
  {
   "cell_type": "markdown",
   "id": "3803a400",
   "metadata": {},
   "source": [
    "## Global Sales by Publisher"
   ]
  },
  {
   "cell_type": "code",
   "execution_count": 12,
   "id": "8a481ddb",
   "metadata": {},
   "outputs": [
    {
     "data": {
      "text/plain": [
       "2665"
      ]
     },
     "execution_count": 12,
     "metadata": {},
     "output_type": "execute_result"
    }
   ],
   "source": [
    "# Count the distinct values of Publisher\n",
    "vg_global_sales_df['Publisher'].nunique()"
   ]
  },
  {
   "cell_type": "code",
   "execution_count": 13,
   "id": "40cb5c62",
   "metadata": {},
   "outputs": [
    {
     "data": {
      "text/html": [
       "<div>\n",
       "<style scoped>\n",
       "    .dataframe tbody tr th:only-of-type {\n",
       "        vertical-align: middle;\n",
       "    }\n",
       "\n",
       "    .dataframe tbody tr th {\n",
       "        vertical-align: top;\n",
       "    }\n",
       "\n",
       "    .dataframe thead th {\n",
       "        text-align: right;\n",
       "    }\n",
       "</style>\n",
       "<table border=\"1\" class=\"dataframe\">\n",
       "  <thead>\n",
       "    <tr style=\"text-align: right;\">\n",
       "      <th></th>\n",
       "      <th>Global_Sales</th>\n",
       "    </tr>\n",
       "    <tr>\n",
       "      <th>Publisher</th>\n",
       "      <th></th>\n",
       "    </tr>\n",
       "  </thead>\n",
       "  <tbody>\n",
       "    <tr>\n",
       "      <th>100 Gates</th>\n",
       "      <td>0.00</td>\n",
       "    </tr>\n",
       "    <tr>\n",
       "      <th>10TACLE Studios</th>\n",
       "      <td>0.48</td>\n",
       "    </tr>\n",
       "    <tr>\n",
       "      <th>10tons</th>\n",
       "      <td>0.00</td>\n",
       "    </tr>\n",
       "    <tr>\n",
       "      <th>10tons Ltd</th>\n",
       "      <td>0.00</td>\n",
       "    </tr>\n",
       "    <tr>\n",
       "      <th>11 bit studios</th>\n",
       "      <td>0.04</td>\n",
       "    </tr>\n",
       "  </tbody>\n",
       "</table>\n",
       "</div>"
      ],
      "text/plain": [
       "                 Global_Sales\n",
       "Publisher                    \n",
       "100 Gates                0.00\n",
       "10TACLE Studios          0.48\n",
       "10tons                   0.00\n",
       "10tons Ltd               0.00\n",
       "11 bit studios           0.04"
      ]
     },
     "execution_count": 13,
     "metadata": {},
     "output_type": "execute_result"
    }
   ],
   "source": [
    "# Grouping Publisher and Sum\n",
    "vg_global_sales_by_Publisher_df = vg_global_sales_df.groupby('Publisher')[['Global_Sales']].sum()\n",
    "vg_global_sales_by_Publisher_df.head()"
   ]
  },
  {
   "cell_type": "code",
   "execution_count": 24,
   "id": "4ca50544",
   "metadata": {},
   "outputs": [
    {
     "data": {
      "text/html": [
       "<div>\n",
       "<style scoped>\n",
       "    .dataframe tbody tr th:only-of-type {\n",
       "        vertical-align: middle;\n",
       "    }\n",
       "\n",
       "    .dataframe tbody tr th {\n",
       "        vertical-align: top;\n",
       "    }\n",
       "\n",
       "    .dataframe thead th {\n",
       "        text-align: right;\n",
       "    }\n",
       "</style>\n",
       "<table border=\"1\" class=\"dataframe\">\n",
       "  <thead>\n",
       "    <tr style=\"text-align: right;\">\n",
       "      <th></th>\n",
       "      <th>Global_Sales</th>\n",
       "      <th>Percentage of Global_Sales</th>\n",
       "    </tr>\n",
       "    <tr>\n",
       "      <th>Publisher</th>\n",
       "      <th></th>\n",
       "      <th></th>\n",
       "    </tr>\n",
       "  </thead>\n",
       "  <tbody>\n",
       "    <tr>\n",
       "      <th>100 Gates</th>\n",
       "      <td>0.00</td>\n",
       "      <td>0.000000</td>\n",
       "    </tr>\n",
       "    <tr>\n",
       "      <th>10TACLE Studios</th>\n",
       "      <td>0.48</td>\n",
       "      <td>0.000077</td>\n",
       "    </tr>\n",
       "    <tr>\n",
       "      <th>10tons</th>\n",
       "      <td>0.00</td>\n",
       "      <td>0.000000</td>\n",
       "    </tr>\n",
       "    <tr>\n",
       "      <th>10tons Ltd</th>\n",
       "      <td>0.00</td>\n",
       "      <td>0.000000</td>\n",
       "    </tr>\n",
       "    <tr>\n",
       "      <th>11 bit studios</th>\n",
       "      <td>0.04</td>\n",
       "      <td>0.000006</td>\n",
       "    </tr>\n",
       "  </tbody>\n",
       "</table>\n",
       "</div>"
      ],
      "text/plain": [
       "                 Global_Sales  Percentage of Global_Sales\n",
       "Publisher                                                \n",
       "100 Gates                0.00                    0.000000\n",
       "10TACLE Studios          0.48                    0.000077\n",
       "10tons                   0.00                    0.000000\n",
       "10tons Ltd               0.00                    0.000000\n",
       "11 bit studios           0.04                    0.000006"
      ]
     },
     "execution_count": 24,
     "metadata": {},
     "output_type": "execute_result"
    }
   ],
   "source": [
    "# Percentage of Global Sales\n",
    "vg_global_sales_by_Publisher_df [\"Percentage of Global_Sales\"] = vg_global_sales_by_Publisher_df['Global_Sales'] / vg_total_global_sales\n",
    "vg_global_sales_by_Publisher_df.head()"
   ]
  },
  {
   "cell_type": "code",
   "execution_count": 15,
   "id": "84d8694e",
   "metadata": {},
   "outputs": [
    {
     "data": {
      "text/plain": [
       "Index(['Global_Sales', 'Percentage of Global_Sales'], dtype='object')"
      ]
     },
     "execution_count": 15,
     "metadata": {},
     "output_type": "execute_result"
    }
   ],
   "source": [
    "vg_global_sales_by_Publisher_df.columns"
   ]
  },
  {
   "cell_type": "code",
   "execution_count": 17,
   "id": "4ccb9d7f",
   "metadata": {},
   "outputs": [
    {
     "data": {
      "text/html": [
       "<div>\n",
       "<style scoped>\n",
       "    .dataframe tbody tr th:only-of-type {\n",
       "        vertical-align: middle;\n",
       "    }\n",
       "\n",
       "    .dataframe tbody tr th {\n",
       "        vertical-align: top;\n",
       "    }\n",
       "\n",
       "    .dataframe thead th {\n",
       "        text-align: right;\n",
       "    }\n",
       "</style>\n",
       "<table border=\"1\" class=\"dataframe\">\n",
       "  <thead>\n",
       "    <tr style=\"text-align: right;\">\n",
       "      <th></th>\n",
       "      <th>Global_Sales</th>\n",
       "      <th>Percentage of Global_Sales</th>\n",
       "    </tr>\n",
       "    <tr>\n",
       "      <th>Publisher</th>\n",
       "      <th></th>\n",
       "      <th></th>\n",
       "    </tr>\n",
       "  </thead>\n",
       "  <tbody>\n",
       "    <tr>\n",
       "      <th>Activision</th>\n",
       "      <td>687.92</td>\n",
       "      <td>11.03%</td>\n",
       "    </tr>\n",
       "    <tr>\n",
       "      <th>Electronic Arts</th>\n",
       "      <td>617.15</td>\n",
       "      <td>9.90%</td>\n",
       "    </tr>\n",
       "    <tr>\n",
       "      <th>Ubisoft</th>\n",
       "      <td>473.24</td>\n",
       "      <td>7.59%</td>\n",
       "    </tr>\n",
       "    <tr>\n",
       "      <th>EA Sports</th>\n",
       "      <td>453.64</td>\n",
       "      <td>7.28%</td>\n",
       "    </tr>\n",
       "    <tr>\n",
       "      <th>Sony Computer Entertainment</th>\n",
       "      <td>333.05</td>\n",
       "      <td>5.34%</td>\n",
       "    </tr>\n",
       "    <tr>\n",
       "      <th>THQ</th>\n",
       "      <td>319.10</td>\n",
       "      <td>5.12%</td>\n",
       "    </tr>\n",
       "    <tr>\n",
       "      <th>Rockstar Games</th>\n",
       "      <td>236.27</td>\n",
       "      <td>3.79%</td>\n",
       "    </tr>\n",
       "    <tr>\n",
       "      <th>Konami</th>\n",
       "      <td>207.15</td>\n",
       "      <td>3.32%</td>\n",
       "    </tr>\n",
       "    <tr>\n",
       "      <th>Sega</th>\n",
       "      <td>176.56</td>\n",
       "      <td>2.83%</td>\n",
       "    </tr>\n",
       "    <tr>\n",
       "      <th>Nintendo</th>\n",
       "      <td>146.98</td>\n",
       "      <td>2.36%</td>\n",
       "    </tr>\n",
       "  </tbody>\n",
       "</table>\n",
       "</div>"
      ],
      "text/plain": [
       "                             Global_Sales Percentage of Global_Sales\n",
       "Publisher                                                           \n",
       "Activision                         687.92                     11.03%\n",
       "Electronic Arts                    617.15                      9.90%\n",
       "Ubisoft                            473.24                      7.59%\n",
       "EA Sports                          453.64                      7.28%\n",
       "Sony Computer Entertainment        333.05                      5.34%\n",
       "THQ                                319.10                      5.12%\n",
       "Rockstar Games                     236.27                      3.79%\n",
       "Konami                             207.15                      3.32%\n",
       "Sega                               176.56                      2.83%\n",
       "Nintendo                           146.98                      2.36%"
      ]
     },
     "execution_count": 17,
     "metadata": {},
     "output_type": "execute_result"
    }
   ],
   "source": [
    "vg_global_sales_by_top10_Publisher_df = vg_global_sales_by_Publisher_df.nlargest(10,'Global_Sales')\n",
    "vg_global_sales_by_top10_Publisher_df['Percentage of Global_Sales'] = pd.Series([\"{0:.2f}%\".format(val * 100) \n",
    "                                for val in vg_global_sales_by_top10_Publisher_df['Percentage of Global_Sales']],\n",
    "                                index = vg_global_sales_by_top10_Publisher_df.index)\n",
    "\n",
    "vg_global_sales_by_top10_Publisher_df"
   ]
  },
  {
   "cell_type": "code",
   "execution_count": 18,
   "id": "6c853c05",
   "metadata": {},
   "outputs": [
    {
     "data": {
      "text/plain": [
       "Index(['Global_Sales', 'Percentage of Global_Sales'], dtype='object')"
      ]
     },
     "execution_count": 18,
     "metadata": {},
     "output_type": "execute_result"
    }
   ],
   "source": [
    "vg_global_sales_by_top10_Publisher_df.columns"
   ]
  },
  {
   "cell_type": "code",
   "execution_count": 19,
   "id": "eaa4e42c",
   "metadata": {},
   "outputs": [],
   "source": [
    "# Add Matplotlib inline magic command\n",
    "%matplotlib inline\n",
    "# Dependencies and Setup\n",
    "import matplotlib.pyplot as plt"
   ]
  },
  {
   "cell_type": "code",
   "execution_count": 21,
   "id": "dae60940",
   "metadata": {},
   "outputs": [
    {
     "data": {
      "text/plain": [
       "<AxesSubplot:title={'center':'Global Sales (in millions) by Publisher'}, xlabel='Publisher'>"
      ]
     },
     "execution_count": 21,
     "metadata": {},
     "output_type": "execute_result"
    },
    {
     "data": {
      "image/png": "[encoded data removed]",
      "text/plain": [
       "<Figure size 432x288 with 1 Axes>"
      ]
     },
     "metadata": {
      "needs_background": "light"
     },
     "output_type": "display_data"
    }
   ],
   "source": [
    "# Build bar chart\n",
    "vg_global_sales_by_top10_Publisher_df.plot( y='Global_Sales', kind = 'bar', title = \"Global Sales (in millions) by Publisher\")"
   ]
  },
  {
   "cell_type": "markdown",
   "id": "c17018ed",
   "metadata": {},
   "source": [
    "# Global Sales by Developer"
   ]
  },
  {
   "cell_type": "code",
   "execution_count": 22,
   "id": "c8757481",
   "metadata": {},
   "outputs": [
    {
     "data": {
      "text/plain": [
       "6593"
      ]
     },
     "execution_count": 22,
     "metadata": {},
     "output_type": "execute_result"
    }
   ],
   "source": [
    "# Count the distinct values of Developer\n",
    "vg_global_sales_df['Developer'].nunique()"
   ]
  },
  {
   "cell_type": "code",
   "execution_count": 23,
   "id": "e27cb4c8",
   "metadata": {},
   "outputs": [
    {
     "data": {
      "text/html": [
       "<div>\n",
       "<style scoped>\n",
       "    .dataframe tbody tr th:only-of-type {\n",
       "        vertical-align: middle;\n",
       "    }\n",
       "\n",
       "    .dataframe tbody tr th {\n",
       "        vertical-align: top;\n",
       "    }\n",
       "\n",
       "    .dataframe thead th {\n",
       "        text-align: right;\n",
       "    }\n",
       "</style>\n",
       "<table border=\"1\" class=\"dataframe\">\n",
       "  <thead>\n",
       "    <tr style=\"text-align: right;\">\n",
       "      <th></th>\n",
       "      <th>Global_Sales</th>\n",
       "    </tr>\n",
       "    <tr>\n",
       "      <th>Developer</th>\n",
       "      <th></th>\n",
       "    </tr>\n",
       "  </thead>\n",
       "  <tbody>\n",
       "    <tr>\n",
       "      <th>.theprodukkt</th>\n",
       "      <td>0.00</td>\n",
       "    </tr>\n",
       "    <tr>\n",
       "      <th>07th Expansion</th>\n",
       "      <td>0.20</td>\n",
       "    </tr>\n",
       "    <tr>\n",
       "      <th>0verflow</th>\n",
       "      <td>0.02</td>\n",
       "    </tr>\n",
       "    <tr>\n",
       "      <th>10Tacle Studios Belgium</th>\n",
       "      <td>0.00</td>\n",
       "    </tr>\n",
       "    <tr>\n",
       "      <th>10tacle Studios AG</th>\n",
       "      <td>0.19</td>\n",
       "    </tr>\n",
       "  </tbody>\n",
       "</table>\n",
       "</div>"
      ],
      "text/plain": [
       "                         Global_Sales\n",
       "Developer                            \n",
       ".theprodukkt                     0.00\n",
       "07th Expansion                   0.20\n",
       "0verflow                         0.02\n",
       "10Tacle Studios Belgium          0.00\n",
       "10tacle Studios AG               0.19"
      ]
     },
     "execution_count": 23,
     "metadata": {},
     "output_type": "execute_result"
    }
   ],
   "source": [
    "# Grouping Developer and Sum\n",
    "vg_global_sales_by_Developer_df = vg_global_sales_df.groupby('Developer')[['Global_Sales']].sum()\n",
    "vg_global_sales_by_Developer_df.head()"
   ]
  },
  {
   "cell_type": "code",
   "execution_count": 26,
   "id": "32a17aa0",
   "metadata": {},
   "outputs": [
    {
     "data": {
      "text/html": [
       "<div>\n",
       "<style scoped>\n",
       "    .dataframe tbody tr th:only-of-type {\n",
       "        vertical-align: middle;\n",
       "    }\n",
       "\n",
       "    .dataframe tbody tr th {\n",
       "        vertical-align: top;\n",
       "    }\n",
       "\n",
       "    .dataframe thead th {\n",
       "        text-align: right;\n",
       "    }\n",
       "</style>\n",
       "<table border=\"1\" class=\"dataframe\">\n",
       "  <thead>\n",
       "    <tr style=\"text-align: right;\">\n",
       "      <th></th>\n",
       "      <th>Global_Sales</th>\n",
       "      <th>Percentage of Global_Sales</th>\n",
       "    </tr>\n",
       "    <tr>\n",
       "      <th>Developer</th>\n",
       "      <th></th>\n",
       "      <th></th>\n",
       "    </tr>\n",
       "  </thead>\n",
       "  <tbody>\n",
       "    <tr>\n",
       "      <th>EA Canada</th>\n",
       "      <td>260.17</td>\n",
       "      <td>4.17%</td>\n",
       "    </tr>\n",
       "    <tr>\n",
       "      <th>EA Tiburon</th>\n",
       "      <td>176.47</td>\n",
       "      <td>2.83%</td>\n",
       "    </tr>\n",
       "    <tr>\n",
       "      <th>Ubisoft Montreal</th>\n",
       "      <td>172.96</td>\n",
       "      <td>2.77%</td>\n",
       "    </tr>\n",
       "    <tr>\n",
       "      <th>Treyarch</th>\n",
       "      <td>146.96</td>\n",
       "      <td>2.36%</td>\n",
       "    </tr>\n",
       "    <tr>\n",
       "      <th>Traveller's Tales</th>\n",
       "      <td>143.12</td>\n",
       "      <td>2.30%</td>\n",
       "    </tr>\n",
       "    <tr>\n",
       "      <th>Infinity Ward</th>\n",
       "      <td>118.97</td>\n",
       "      <td>1.91%</td>\n",
       "    </tr>\n",
       "    <tr>\n",
       "      <th>Rockstar North</th>\n",
       "      <td>116.91</td>\n",
       "      <td>1.88%</td>\n",
       "    </tr>\n",
       "    <tr>\n",
       "      <th>Visual Concepts</th>\n",
       "      <td>95.82</td>\n",
       "      <td>1.54%</td>\n",
       "    </tr>\n",
       "    <tr>\n",
       "      <th>Konami</th>\n",
       "      <td>87.90</td>\n",
       "      <td>1.41%</td>\n",
       "    </tr>\n",
       "    <tr>\n",
       "      <th>Capcom</th>\n",
       "      <td>80.58</td>\n",
       "      <td>1.29%</td>\n",
       "    </tr>\n",
       "  </tbody>\n",
       "</table>\n",
       "</div>"
      ],
      "text/plain": [
       "                   Global_Sales Percentage of Global_Sales\n",
       "Developer                                                 \n",
       "EA Canada                260.17                      4.17%\n",
       "EA Tiburon               176.47                      2.83%\n",
       "Ubisoft Montreal         172.96                      2.77%\n",
       "Treyarch                 146.96                      2.36%\n",
       "Traveller's Tales        143.12                      2.30%\n",
       "Infinity Ward            118.97                      1.91%\n",
       "Rockstar North           116.91                      1.88%\n",
       "Visual Concepts           95.82                      1.54%\n",
       "Konami                    87.90                      1.41%\n",
       "Capcom                    80.58                      1.29%"
      ]
     },
     "execution_count": 26,
     "metadata": {},
     "output_type": "execute_result"
    }
   ],
   "source": [
    "# Percentage of the Global Sales\n",
    "vg_global_sales_by_Developer_df [\"Percentage of Global_Sales\"] = vg_global_sales_by_Developer_df['Global_Sales'] / vg_total_global_sales\n",
    "vg_global_sales_by_top10_Developer_df = vg_global_sales_by_Developer_df.nlargest(10,'Global_Sales')\n",
    "vg_global_sales_by_top10_Developer_df['Percentage of Global_Sales'] = pd.Series([\"{0:.2f}%\".format(val * 100) \n",
    "                                for val in vg_global_sales_by_top10_Developer_df['Percentage of Global_Sales']],\n",
    "                                index = vg_global_sales_by_top10_Developer_df.index)\n",
    "\n",
    "vg_global_sales_by_top10_Developer_df"
   ]
  },
  {
   "cell_type": "code",
   "execution_count": 35,
   "id": "ef4a01d0",
   "metadata": {},
   "outputs": [
    {
     "data": {
      "text/plain": [
       "<AxesSubplot:title={'center':'Global Sales (in millions) by Developer'}, xlabel='Developer'>"
      ]
     },
     "execution_count": 35,
     "metadata": {},
     "output_type": "execute_result"
    },
    {
     "data": {
      "image/png": "[encoded data removed]",
      "text/plain": [
       "<Figure size 432x288 with 1 Axes>"
      ]
     },
     "metadata": {
      "needs_background": "light"
     },
     "output_type": "display_data"
    }
   ],
   "source": [
    "# Build bar chart\n",
    "vg_global_sales_by_top10_Developer_df.plot( y='Global_Sales', kind = 'bar', title = \"Global Sales (in millions) by Developer\")"
   ]
  },
  {
   "cell_type": "markdown",
   "id": "ff7cf08e",
   "metadata": {},
   "source": [
    "# Global Sales by Genre"
   ]
  },
  {
   "cell_type": "code",
   "execution_count": 28,
   "id": "a2a08fc0",
   "metadata": {},
   "outputs": [
    {
     "data": {
      "text/plain": [
       "20"
      ]
     },
     "execution_count": 28,
     "metadata": {},
     "output_type": "execute_result"
    }
   ],
   "source": [
    "# Count the distinct values of Developer\n",
    "vg_global_sales_df['Genre'].nunique()"
   ]
  },
  {
   "cell_type": "code",
   "execution_count": 29,
   "id": "02e1f592",
   "metadata": {},
   "outputs": [
    {
     "data": {
      "text/html": [
       "<div>\n",
       "<style scoped>\n",
       "    .dataframe tbody tr th:only-of-type {\n",
       "        vertical-align: middle;\n",
       "    }\n",
       "\n",
       "    .dataframe tbody tr th {\n",
       "        vertical-align: top;\n",
       "    }\n",
       "\n",
       "    .dataframe thead th {\n",
       "        text-align: right;\n",
       "    }\n",
       "</style>\n",
       "<table border=\"1\" class=\"dataframe\">\n",
       "  <thead>\n",
       "    <tr style=\"text-align: right;\">\n",
       "      <th></th>\n",
       "      <th>Global_Sales</th>\n",
       "    </tr>\n",
       "    <tr>\n",
       "      <th>Genre</th>\n",
       "      <th></th>\n",
       "    </tr>\n",
       "  </thead>\n",
       "  <tbody>\n",
       "    <tr>\n",
       "      <th>Action</th>\n",
       "      <td>1104.93</td>\n",
       "    </tr>\n",
       "    <tr>\n",
       "      <th>Action-Adventure</th>\n",
       "      <td>155.45</td>\n",
       "    </tr>\n",
       "    <tr>\n",
       "      <th>Adventure</th>\n",
       "      <td>306.30</td>\n",
       "    </tr>\n",
       "    <tr>\n",
       "      <th>Board Game</th>\n",
       "      <td>0.31</td>\n",
       "    </tr>\n",
       "    <tr>\n",
       "      <th>Education</th>\n",
       "      <td>0.09</td>\n",
       "    </tr>\n",
       "  </tbody>\n",
       "</table>\n",
       "</div>"
      ],
      "text/plain": [
       "                  Global_Sales\n",
       "Genre                         \n",
       "Action                 1104.93\n",
       "Action-Adventure        155.45\n",
       "Adventure               306.30\n",
       "Board Game                0.31\n",
       "Education                 0.09"
      ]
     },
     "execution_count": 29,
     "metadata": {},
     "output_type": "execute_result"
    }
   ],
   "source": [
    "# Grouping Developer and Sum\n",
    "vg_global_sales_by_Genre_df = vg_global_sales_df.groupby('Genre')[['Global_Sales']].sum()\n",
    "vg_global_sales_by_Genre_df.head()"
   ]
  },
  {
   "cell_type": "code",
   "execution_count": 30,
   "id": "343ee35a",
   "metadata": {},
   "outputs": [
    {
     "data": {
      "text/html": [
       "<div>\n",
       "<style scoped>\n",
       "    .dataframe tbody tr th:only-of-type {\n",
       "        vertical-align: middle;\n",
       "    }\n",
       "\n",
       "    .dataframe tbody tr th {\n",
       "        vertical-align: top;\n",
       "    }\n",
       "\n",
       "    .dataframe thead th {\n",
       "        text-align: right;\n",
       "    }\n",
       "</style>\n",
       "<table border=\"1\" class=\"dataframe\">\n",
       "  <thead>\n",
       "    <tr style=\"text-align: right;\">\n",
       "      <th></th>\n",
       "      <th>Global_Sales</th>\n",
       "      <th>Percentage of Global_Sales</th>\n",
       "    </tr>\n",
       "    <tr>\n",
       "      <th>Genre</th>\n",
       "      <th></th>\n",
       "      <th></th>\n",
       "    </tr>\n",
       "  </thead>\n",
       "  <tbody>\n",
       "    <tr>\n",
       "      <th>Action</th>\n",
       "      <td>1104.93</td>\n",
       "      <td>17.72%</td>\n",
       "    </tr>\n",
       "    <tr>\n",
       "      <th>Sports</th>\n",
       "      <td>1078.46</td>\n",
       "      <td>17.30%</td>\n",
       "    </tr>\n",
       "    <tr>\n",
       "      <th>Shooter</th>\n",
       "      <td>962.26</td>\n",
       "      <td>15.43%</td>\n",
       "    </tr>\n",
       "    <tr>\n",
       "      <th>Misc</th>\n",
       "      <td>551.59</td>\n",
       "      <td>8.85%</td>\n",
       "    </tr>\n",
       "    <tr>\n",
       "      <th>Racing</th>\n",
       "      <td>461.95</td>\n",
       "      <td>7.41%</td>\n",
       "    </tr>\n",
       "    <tr>\n",
       "      <th>Role-Playing</th>\n",
       "      <td>457.47</td>\n",
       "      <td>7.34%</td>\n",
       "    </tr>\n",
       "    <tr>\n",
       "      <th>Platform</th>\n",
       "      <td>323.45</td>\n",
       "      <td>5.19%</td>\n",
       "    </tr>\n",
       "    <tr>\n",
       "      <th>Adventure</th>\n",
       "      <td>306.30</td>\n",
       "      <td>4.91%</td>\n",
       "    </tr>\n",
       "    <tr>\n",
       "      <th>Simulation</th>\n",
       "      <td>286.97</td>\n",
       "      <td>4.60%</td>\n",
       "    </tr>\n",
       "    <tr>\n",
       "      <th>Fighting</th>\n",
       "      <td>270.14</td>\n",
       "      <td>4.33%</td>\n",
       "    </tr>\n",
       "  </tbody>\n",
       "</table>\n",
       "</div>"
      ],
      "text/plain": [
       "              Global_Sales Percentage of Global_Sales\n",
       "Genre                                                \n",
       "Action             1104.93                     17.72%\n",
       "Sports             1078.46                     17.30%\n",
       "Shooter             962.26                     15.43%\n",
       "Misc                551.59                      8.85%\n",
       "Racing              461.95                      7.41%\n",
       "Role-Playing        457.47                      7.34%\n",
       "Platform            323.45                      5.19%\n",
       "Adventure           306.30                      4.91%\n",
       "Simulation          286.97                      4.60%\n",
       "Fighting            270.14                      4.33%"
      ]
     },
     "execution_count": 30,
     "metadata": {},
     "output_type": "execute_result"
    }
   ],
   "source": [
    "# Percentage of the Global Sales\n",
    "vg_global_sales_by_Genre_df [\"Percentage of Global_Sales\"] = vg_global_sales_by_Genre_df['Global_Sales'] / vg_total_global_sales\n",
    "vg_global_sales_by_top10_Genre_df = vg_global_sales_by_Genre_df.nlargest(10,'Global_Sales')\n",
    "vg_global_sales_by_top10_Genre_df['Percentage of Global_Sales'] = pd.Series([\"{0:.2f}%\".format(val * 100) \n",
    "                                for val in vg_global_sales_by_top10_Genre_df['Percentage of Global_Sales']],\n",
    "                                index = vg_global_sales_by_top10_Genre_df.index)\n",
    "\n",
    "vg_global_sales_by_top10_Genre_df"
   ]
  },
  {
   "cell_type": "code",
   "execution_count": 31,
   "id": "30d14fc8",
   "metadata": {},
   "outputs": [
    {
     "data": {
      "text/plain": [
       "<AxesSubplot:title={'center':'Global Sales (in millions) by Genre'}, xlabel='Genre'>"
      ]
     },
     "execution_count": 31,
     "metadata": {},
     "output_type": "execute_result"
    },
    {
     "data": {
      "image/png": "[encoded data removed]",
      "text/plain": [
       "<Figure size 432x288 with 1 Axes>"
      ]
     },
     "metadata": {
      "needs_background": "light"
     },
     "output_type": "display_data"
    }
   ],
   "source": [
    "# Build bar chart\n",
    "vg_global_sales_by_top10_Genre_df.plot( y='Global_Sales', kind = 'bar', title = \"Global Sales (in millions) by Genre\")"
   ]
  },
  {
   "cell_type": "markdown",
   "id": "fe6e44dc",
   "metadata": {},
   "source": [
    "# Top 10 Games with Highest Global Sales"
   ]
  },
  {
   "cell_type": "code",
   "execution_count": 32,
   "id": "ae5bca96",
   "metadata": {},
   "outputs": [
    {
     "data": {
      "text/html": [
       "<div>\n",
       "<style scoped>\n",
       "    .dataframe tbody tr th:only-of-type {\n",
       "        vertical-align: middle;\n",
       "    }\n",
       "\n",
       "    .dataframe tbody tr th {\n",
       "        vertical-align: top;\n",
       "    }\n",
       "\n",
       "    .dataframe thead th {\n",
       "        text-align: right;\n",
       "    }\n",
       "</style>\n",
       "<table border=\"1\" class=\"dataframe\">\n",
       "  <thead>\n",
       "    <tr style=\"text-align: right;\">\n",
       "      <th></th>\n",
       "      <th>Global_Sales</th>\n",
       "    </tr>\n",
       "    <tr>\n",
       "      <th>Name</th>\n",
       "      <th></th>\n",
       "    </tr>\n",
       "  </thead>\n",
       "  <tbody>\n",
       "    <tr>\n",
       "      <th>#IDARB</th>\n",
       "      <td>0.0</td>\n",
       "    </tr>\n",
       "    <tr>\n",
       "      <th>#killallzombies</th>\n",
       "      <td>0.0</td>\n",
       "    </tr>\n",
       "    <tr>\n",
       "      <th>'Splosion Man</th>\n",
       "      <td>0.0</td>\n",
       "    </tr>\n",
       "    <tr>\n",
       "      <th>(c-12) Final Resistance</th>\n",
       "      <td>0.0</td>\n",
       "    </tr>\n",
       "    <tr>\n",
       "      <th>.deTuned</th>\n",
       "      <td>0.0</td>\n",
       "    </tr>\n",
       "  </tbody>\n",
       "</table>\n",
       "</div>"
      ],
      "text/plain": [
       "                         Global_Sales\n",
       "Name                                 \n",
       "#IDARB                            0.0\n",
       "#killallzombies                   0.0\n",
       "'Splosion Man                     0.0\n",
       "(c-12) Final Resistance           0.0\n",
       ".deTuned                          0.0"
      ]
     },
     "execution_count": 32,
     "metadata": {},
     "output_type": "execute_result"
    }
   ],
   "source": [
    "# Grouping Genre and Sum\n",
    "vg_global_sales_by_Game_df = vg_global_sales_df.groupby('Name')[['Global_Sales']].sum()\n",
    "vg_global_sales_by_Game_df.head()"
   ]
  },
  {
   "cell_type": "code",
   "execution_count": 33,
   "id": "b85dae4e",
   "metadata": {},
   "outputs": [
    {
     "data": {
      "text/html": [
       "<div>\n",
       "<style scoped>\n",
       "    .dataframe tbody tr th:only-of-type {\n",
       "        vertical-align: middle;\n",
       "    }\n",
       "\n",
       "    .dataframe tbody tr th {\n",
       "        vertical-align: top;\n",
       "    }\n",
       "\n",
       "    .dataframe thead th {\n",
       "        text-align: right;\n",
       "    }\n",
       "</style>\n",
       "<table border=\"1\" class=\"dataframe\">\n",
       "  <thead>\n",
       "    <tr style=\"text-align: right;\">\n",
       "      <th></th>\n",
       "      <th>Global_Sales</th>\n",
       "      <th>Percentage of Global_Sales</th>\n",
       "    </tr>\n",
       "    <tr>\n",
       "      <th>Name</th>\n",
       "      <th></th>\n",
       "      <th></th>\n",
       "    </tr>\n",
       "  </thead>\n",
       "  <tbody>\n",
       "    <tr>\n",
       "      <th>Grand Theft Auto V</th>\n",
       "      <td>64.29</td>\n",
       "      <td>1.03%</td>\n",
       "    </tr>\n",
       "    <tr>\n",
       "      <th>Call of Duty: Black Ops</th>\n",
       "      <td>30.99</td>\n",
       "      <td>0.50%</td>\n",
       "    </tr>\n",
       "    <tr>\n",
       "      <th>Call of Duty: Modern Warfare 3</th>\n",
       "      <td>30.71</td>\n",
       "      <td>0.49%</td>\n",
       "    </tr>\n",
       "    <tr>\n",
       "      <th>Call of Duty: Black Ops II</th>\n",
       "      <td>29.59</td>\n",
       "      <td>0.47%</td>\n",
       "    </tr>\n",
       "    <tr>\n",
       "      <th>Call of Duty: Ghosts</th>\n",
       "      <td>28.80</td>\n",
       "      <td>0.46%</td>\n",
       "    </tr>\n",
       "    <tr>\n",
       "      <th>Call of Duty: Black Ops 3</th>\n",
       "      <td>26.72</td>\n",
       "      <td>0.43%</td>\n",
       "    </tr>\n",
       "    <tr>\n",
       "      <th>Call of Duty: Modern Warfare 2</th>\n",
       "      <td>25.02</td>\n",
       "      <td>0.40%</td>\n",
       "    </tr>\n",
       "    <tr>\n",
       "      <th>Minecraft</th>\n",
       "      <td>24.01</td>\n",
       "      <td>0.39%</td>\n",
       "    </tr>\n",
       "    <tr>\n",
       "      <th>Grand Theft Auto IV</th>\n",
       "      <td>22.53</td>\n",
       "      <td>0.36%</td>\n",
       "    </tr>\n",
       "    <tr>\n",
       "      <th>Call of Duty: Advanced Warfare</th>\n",
       "      <td>21.78</td>\n",
       "      <td>0.35%</td>\n",
       "    </tr>\n",
       "  </tbody>\n",
       "</table>\n",
       "</div>"
      ],
      "text/plain": [
       "                                Global_Sales Percentage of Global_Sales\n",
       "Name                                                                   \n",
       "Grand Theft Auto V                     64.29                      1.03%\n",
       "Call of Duty: Black Ops                30.99                      0.50%\n",
       "Call of Duty: Modern Warfare 3         30.71                      0.49%\n",
       "Call of Duty: Black Ops II             29.59                      0.47%\n",
       "Call of Duty: Ghosts                   28.80                      0.46%\n",
       "Call of Duty: Black Ops 3              26.72                      0.43%\n",
       "Call of Duty: Modern Warfare 2         25.02                      0.40%\n",
       "Minecraft                              24.01                      0.39%\n",
       "Grand Theft Auto IV                    22.53                      0.36%\n",
       "Call of Duty: Advanced Warfare         21.78                      0.35%"
      ]
     },
     "execution_count": 33,
     "metadata": {},
     "output_type": "execute_result"
    }
   ],
   "source": [
    "# Percentage of Global Sales\n",
    "vg_global_sales_by_Game_df [\"Percentage of Global_Sales\"] = vg_global_sales_by_Game_df['Global_Sales'] / vg_total_global_sales\n",
    "vg_global_sales_by_top10_Game_df = vg_global_sales_by_Game_df.nlargest(10,'Global_Sales')\n",
    "vg_global_sales_by_top10_Game_df['Percentage of Global_Sales'] = pd.Series([\"{0:.2f}%\".format(val * 100) \n",
    "                                for val in vg_global_sales_by_top10_Game_df['Percentage of Global_Sales']],\n",
    "                                index = vg_global_sales_by_top10_Game_df.index)\n",
    "\n",
    "vg_global_sales_by_top10_Game_df"
   ]
  },
  {
   "cell_type": "code",
   "execution_count": 34,
   "id": "05deb803",
   "metadata": {},
   "outputs": [
    {
     "data": {
      "text/plain": [
       "<AxesSubplot:title={'center':'Global Sales (in millions) by Game'}, xlabel='Name'>"
      ]
     },
     "execution_count": 34,
     "metadata": {},
     "output_type": "execute_result"
    },
    {
     "data": {
      "image/png": "[encoded data removed]",
      "text/plain": [
       "<Figure size 432x288 with 1 Axes>"
      ]
     },
     "metadata": {
      "needs_background": "light"
     },
     "output_type": "display_data"
    }
   ],
   "source": [
    "# Build bar chart\n",
    "vg_global_sales_by_top10_Game_df.plot( y='Global_Sales', kind = 'bar', title = \"Global Sales (in millions) by Game\")"
   ]
  },
  {
   "cell_type": "markdown",
   "id": "c4d784d0",
   "metadata": {},
   "source": [
    "# List of Genres"
   ]
  },
  {
   "cell_type": "code",
   "execution_count": 36,
   "id": "06c3050e",
   "metadata": {},
   "outputs": [
    {
     "data": {
      "text/plain": [
       "array(['Sports', 'Racing', 'Shooter', 'Platform', 'Misc', 'Party',\n",
       "       'Simulation', 'Role-Playing', 'Action', 'Action-Adventure',\n",
       "       'Fighting', 'Strategy', 'Adventure', 'Music', 'MMO', 'Puzzle',\n",
       "       'Sandbox', 'Visual Novel', 'Board Game', 'Education'], dtype=object)"
      ]
     },
     "execution_count": 36,
     "metadata": {},
     "output_type": "execute_result"
    }
   ],
   "source": [
    "vg_global_sales_df['Genre'].unique()"
   ]
  },
  {
   "cell_type": "code",
   "execution_count": null,
   "id": "3429f1f7",
   "metadata": {},
   "outputs": [],
   "source": []
  },
  {
   "cell_type": "code",
   "execution_count": null,
   "id": "fc53d86f",
   "metadata": {},
   "outputs": [],
   "source": []
  },
  {
   "cell_type": "code",
   "execution_count": null,
   "id": "0c54aabe",
   "metadata": {},
   "outputs": [],
   "source": []
  },
  {
   "cell_type": "code",
   "execution_count": null,
   "id": "c9395a26",
   "metadata": {},
   "outputs": [],
   "source": []
  },
  {
   "cell_type": "code",
   "execution_count": null,
   "id": "57e22e5b",
   "metadata": {},
   "outputs": [],
   "source": []
  }
 ],
 "metadata": {
  "kernelspec": {
   "display_name": "Python 3 (ipykernel)",
   "language": "python",
   "name": "python3"
  },
  "language_info": {
   "codemirror_mode": {
    "name": "ipython",
    "version": 3
   },
   "file_extension": ".py",
   "mimetype": "text/x-python",
   "name": "python",
   "nbconvert_exporter": "python",
   "pygments_lexer": "ipython3",
   "version": "3.9.12"
  }
 },
 "nbformat": 4,
 "nbformat_minor": 5
}
