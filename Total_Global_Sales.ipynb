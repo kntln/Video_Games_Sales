{
 "cells": [
  {
   "cell_type": "code",
   "execution_count": 1,
   "id": "fdb91ac2",
   "metadata": {},
   "outputs": [],
   "source": [
    "# Import dependencies\n",
    "import pandas as pd\n",
    "import numpy as np\n",
    "from pathlib import Path"
   ]
  },
  {
   "cell_type": "code",
   "execution_count": 2,
   "id": "c2b0ddcd",
   "metadata": {},
   "outputs": [
    {
     "data": {
      "text/html": [
       "<div>\n",
       "<style scoped>\n",
       "    .dataframe tbody tr th:only-of-type {\n",
       "        vertical-align: middle;\n",
       "    }\n",
       "\n",
       "    .dataframe tbody tr th {\n",
       "        vertical-align: top;\n",
       "    }\n",
       "\n",
       "    .dataframe thead th {\n",
       "        text-align: right;\n",
       "    }\n",
       "</style>\n",
       "<table border=\"1\" class=\"dataframe\">\n",
       "  <thead>\n",
       "    <tr style=\"text-align: right;\">\n",
       "      <th></th>\n",
       "      <th>Rank</th>\n",
       "      <th>Name</th>\n",
       "      <th>Genre</th>\n",
       "      <th>Platform</th>\n",
       "      <th>Publisher</th>\n",
       "      <th>Developer_x</th>\n",
       "      <th>Year</th>\n",
       "      <th>Total_Sales</th>\n",
       "    </tr>\n",
       "  </thead>\n",
       "  <tbody>\n",
       "    <tr>\n",
       "      <th>0</th>\n",
       "      <td>1</td>\n",
       "      <td>Wii Sports</td>\n",
       "      <td>Sports</td>\n",
       "      <td>Wii</td>\n",
       "      <td>Nintendo</td>\n",
       "      <td>Nintendo EAD</td>\n",
       "      <td>2006.0</td>\n",
       "      <td>82.86</td>\n",
       "    </tr>\n",
       "    <tr>\n",
       "      <th>1</th>\n",
       "      <td>2</td>\n",
       "      <td>Super Mario Bros.</td>\n",
       "      <td>Platform</td>\n",
       "      <td>NES</td>\n",
       "      <td>Nintendo</td>\n",
       "      <td>Nintendo EAD</td>\n",
       "      <td>1985.0</td>\n",
       "      <td>40.24</td>\n",
       "    </tr>\n",
       "    <tr>\n",
       "      <th>2</th>\n",
       "      <td>3</td>\n",
       "      <td>Mario Kart Wii</td>\n",
       "      <td>Racing</td>\n",
       "      <td>Wii</td>\n",
       "      <td>Nintendo</td>\n",
       "      <td>Nintendo EAD</td>\n",
       "      <td>2008.0</td>\n",
       "      <td>37.14</td>\n",
       "    </tr>\n",
       "    <tr>\n",
       "      <th>3</th>\n",
       "      <td>4</td>\n",
       "      <td>PlayerUnknown's Battlegrounds</td>\n",
       "      <td>Shooter</td>\n",
       "      <td>PC</td>\n",
       "      <td>PUBG Corporation</td>\n",
       "      <td>PUBG Corporation</td>\n",
       "      <td>2017.0</td>\n",
       "      <td>36.60</td>\n",
       "    </tr>\n",
       "    <tr>\n",
       "      <th>4</th>\n",
       "      <td>5</td>\n",
       "      <td>Wii Sports Resort</td>\n",
       "      <td>Sports</td>\n",
       "      <td>Wii</td>\n",
       "      <td>Nintendo</td>\n",
       "      <td>Nintendo EAD</td>\n",
       "      <td>2009.0</td>\n",
       "      <td>33.09</td>\n",
       "    </tr>\n",
       "  </tbody>\n",
       "</table>\n",
       "</div>"
      ],
      "text/plain": [
       "   Rank                           Name     Genre Platform         Publisher  \\\n",
       "0     1                     Wii Sports    Sports      Wii          Nintendo   \n",
       "1     2              Super Mario Bros.  Platform      NES          Nintendo   \n",
       "2     3                 Mario Kart Wii    Racing      Wii          Nintendo   \n",
       "3     4  PlayerUnknown's Battlegrounds   Shooter       PC  PUBG Corporation   \n",
       "4     5              Wii Sports Resort    Sports      Wii          Nintendo   \n",
       "\n",
       "        Developer_x    Year  Total_Sales  \n",
       "0      Nintendo EAD  2006.0        82.86  \n",
       "1      Nintendo EAD  1985.0        40.24  \n",
       "2      Nintendo EAD  2008.0        37.14  \n",
       "3  PUBG Corporation  2017.0        36.60  \n",
       "4      Nintendo EAD  2009.0        33.09  "
      ]
     },
     "execution_count": 2,
     "metadata": {},
     "output_type": "execute_result"
    }
   ],
   "source": [
    "# Import dataset\n",
    "file_path = Path('Resources/sales_cleaned.csv')\n",
    "vgsales_df = pd.read_csv(file_path)\n",
    "vgsales_df.head()"
   ]
  },
  {
   "cell_type": "code",
   "execution_count": 3,
   "id": "00866d09",
   "metadata": {},
   "outputs": [
    {
     "data": {
      "text/plain": [
       "['Rank',\n",
       " 'Name',\n",
       " 'Genre',\n",
       " 'Platform',\n",
       " 'Publisher',\n",
       " 'Developer_x',\n",
       " 'Year',\n",
       " 'Total_Sales']"
      ]
     },
     "execution_count": 3,
     "metadata": {},
     "output_type": "execute_result"
    }
   ],
   "source": [
    "vgsales_df.columns.tolist()"
   ]
  },
  {
   "cell_type": "code",
   "execution_count": 4,
   "id": "458315ee",
   "metadata": {},
   "outputs": [
    {
     "data": {
      "text/plain": [
       "Rank             int64\n",
       "Name            object\n",
       "Genre           object\n",
       "Platform        object\n",
       "Publisher       object\n",
       "Developer_x     object\n",
       "Year           float64\n",
       "Total_Sales    float64\n",
       "dtype: object"
      ]
     },
     "execution_count": 4,
     "metadata": {},
     "output_type": "execute_result"
    }
   ],
   "source": [
    "vgsales_df.dtypes"
   ]
  },
  {
   "cell_type": "code",
   "execution_count": 5,
   "id": "6c57db37",
   "metadata": {},
   "outputs": [
    {
     "data": {
      "text/plain": [
       "Rank           19857\n",
       "Name           19857\n",
       "Genre          19857\n",
       "Platform       19857\n",
       "Publisher      19857\n",
       "Developer_x    19857\n",
       "Year           19857\n",
       "Total_Sales    19857\n",
       "dtype: int64"
      ]
     },
     "execution_count": 5,
     "metadata": {},
     "output_type": "execute_result"
    }
   ],
   "source": [
    "vgsales_df.count()"
   ]
  },
  {
   "cell_type": "code",
   "execution_count": 6,
   "id": "be0d8d8b",
   "metadata": {},
   "outputs": [
    {
     "data": {
      "text/html": [
       "<div>\n",
       "<style scoped>\n",
       "    .dataframe tbody tr th:only-of-type {\n",
       "        vertical-align: middle;\n",
       "    }\n",
       "\n",
       "    .dataframe tbody tr th {\n",
       "        vertical-align: top;\n",
       "    }\n",
       "\n",
       "    .dataframe thead th {\n",
       "        text-align: right;\n",
       "    }\n",
       "</style>\n",
       "<table border=\"1\" class=\"dataframe\">\n",
       "  <thead>\n",
       "    <tr style=\"text-align: right;\">\n",
       "      <th></th>\n",
       "      <th>Name</th>\n",
       "      <th>Genre</th>\n",
       "      <th>Platform</th>\n",
       "      <th>Publisher</th>\n",
       "      <th>Developer_x</th>\n",
       "      <th>Year</th>\n",
       "      <th>Total_Sales</th>\n",
       "    </tr>\n",
       "  </thead>\n",
       "  <tbody>\n",
       "    <tr>\n",
       "      <th>0</th>\n",
       "      <td>Wii Sports</td>\n",
       "      <td>Sports</td>\n",
       "      <td>Wii</td>\n",
       "      <td>Nintendo</td>\n",
       "      <td>Nintendo EAD</td>\n",
       "      <td>2006.0</td>\n",
       "      <td>82.86</td>\n",
       "    </tr>\n",
       "    <tr>\n",
       "      <th>1</th>\n",
       "      <td>Super Mario Bros.</td>\n",
       "      <td>Platform</td>\n",
       "      <td>NES</td>\n",
       "      <td>Nintendo</td>\n",
       "      <td>Nintendo EAD</td>\n",
       "      <td>1985.0</td>\n",
       "      <td>40.24</td>\n",
       "    </tr>\n",
       "    <tr>\n",
       "      <th>2</th>\n",
       "      <td>Mario Kart Wii</td>\n",
       "      <td>Racing</td>\n",
       "      <td>Wii</td>\n",
       "      <td>Nintendo</td>\n",
       "      <td>Nintendo EAD</td>\n",
       "      <td>2008.0</td>\n",
       "      <td>37.14</td>\n",
       "    </tr>\n",
       "    <tr>\n",
       "      <th>3</th>\n",
       "      <td>PlayerUnknown's Battlegrounds</td>\n",
       "      <td>Shooter</td>\n",
       "      <td>PC</td>\n",
       "      <td>PUBG Corporation</td>\n",
       "      <td>PUBG Corporation</td>\n",
       "      <td>2017.0</td>\n",
       "      <td>36.60</td>\n",
       "    </tr>\n",
       "    <tr>\n",
       "      <th>4</th>\n",
       "      <td>Wii Sports Resort</td>\n",
       "      <td>Sports</td>\n",
       "      <td>Wii</td>\n",
       "      <td>Nintendo</td>\n",
       "      <td>Nintendo EAD</td>\n",
       "      <td>2009.0</td>\n",
       "      <td>33.09</td>\n",
       "    </tr>\n",
       "  </tbody>\n",
       "</table>\n",
       "</div>"
      ],
      "text/plain": [
       "                            Name     Genre Platform         Publisher  \\\n",
       "0                     Wii Sports    Sports      Wii          Nintendo   \n",
       "1              Super Mario Bros.  Platform      NES          Nintendo   \n",
       "2                 Mario Kart Wii    Racing      Wii          Nintendo   \n",
       "3  PlayerUnknown's Battlegrounds   Shooter       PC  PUBG Corporation   \n",
       "4              Wii Sports Resort    Sports      Wii          Nintendo   \n",
       "\n",
       "        Developer_x    Year  Total_Sales  \n",
       "0      Nintendo EAD  2006.0        82.86  \n",
       "1      Nintendo EAD  1985.0        40.24  \n",
       "2      Nintendo EAD  2008.0        37.14  \n",
       "3  PUBG Corporation  2017.0        36.60  \n",
       "4      Nintendo EAD  2009.0        33.09  "
      ]
     },
     "execution_count": 6,
     "metadata": {},
     "output_type": "execute_result"
    }
   ],
   "source": [
    "# Drop columns:\n",
    "# Rank: just numbers in order, not real ranking\n",
    "# status: only one status 1, not sure what is that\n",
    "# Last_Update: unneccessary\n",
    "# VGChartz_Score: no values\n",
    "vg_global_sales_df = vgsales_df.drop(['Rank'],axis = 1)\n",
    "vg_global_sales_df.head(5)"
   ]
  },
  {
   "cell_type": "code",
   "execution_count": 7,
   "id": "9a402286",
   "metadata": {},
   "outputs": [
    {
     "data": {
      "text/plain": [
       "Name           19857\n",
       "Genre          19857\n",
       "Platform       19857\n",
       "Publisher      19857\n",
       "Developer_x    19857\n",
       "Year           19857\n",
       "Total_Sales    19857\n",
       "dtype: int64"
      ]
     },
     "execution_count": 7,
     "metadata": {},
     "output_type": "execute_result"
    }
   ],
   "source": [
    "vg_global_sales_df.count()"
   ]
  },
  {
   "cell_type": "code",
   "execution_count": 8,
   "id": "fd038b75",
   "metadata": {},
   "outputs": [
    {
     "name": "stdout",
     "output_type": "stream",
     "text": [
      "Column Name has 0 null values\n",
      "Column Genre has 0 null values\n",
      "Column Platform has 0 null values\n",
      "Column Publisher has 0 null values\n",
      "Column Developer_x has 0 null values\n",
      "Column Year has 0 null values\n",
      "Column Total_Sales has 0 null values\n"
     ]
    }
   ],
   "source": [
    "# Find null value\n",
    "for column in vg_global_sales_df.columns:\n",
    "    print(f'Column {column} has {vg_global_sales_df[column].isnull().sum()} null values')"
   ]
  },
  {
   "cell_type": "code",
   "execution_count": 9,
   "id": "669e6120",
   "metadata": {},
   "outputs": [],
   "source": [
    "vg_global_sales_df = vg_global_sales_df.dropna()"
   ]
  },
  {
   "cell_type": "code",
   "execution_count": 10,
   "id": "db2f59a7",
   "metadata": {},
   "outputs": [
    {
     "name": "stdout",
     "output_type": "stream",
     "text": [
      "Column Name has 0 null values\n",
      "Column Genre has 0 null values\n",
      "Column Platform has 0 null values\n",
      "Column Publisher has 0 null values\n",
      "Column Developer_x has 0 null values\n",
      "Column Year has 0 null values\n",
      "Column Total_Sales has 0 null values\n"
     ]
    }
   ],
   "source": [
    "# Find null value\n",
    "for column in vg_global_sales_df.columns:\n",
    "    print(f'Column {column} has {vg_global_sales_df[column].isnull().sum()} null values')"
   ]
  },
  {
   "cell_type": "code",
   "execution_count": 11,
   "id": "5a8e1a82",
   "metadata": {},
   "outputs": [
    {
     "data": {
      "text/html": [
       "<div>\n",
       "<style scoped>\n",
       "    .dataframe tbody tr th:only-of-type {\n",
       "        vertical-align: middle;\n",
       "    }\n",
       "\n",
       "    .dataframe tbody tr th {\n",
       "        vertical-align: top;\n",
       "    }\n",
       "\n",
       "    .dataframe thead th {\n",
       "        text-align: right;\n",
       "    }\n",
       "</style>\n",
       "<table border=\"1\" class=\"dataframe\">\n",
       "  <thead>\n",
       "    <tr style=\"text-align: right;\">\n",
       "      <th></th>\n",
       "      <th>Name</th>\n",
       "      <th>Genre</th>\n",
       "      <th>Platform</th>\n",
       "      <th>Publisher</th>\n",
       "      <th>Developer_x</th>\n",
       "      <th>Year</th>\n",
       "      <th>Total_Sales</th>\n",
       "    </tr>\n",
       "  </thead>\n",
       "  <tbody>\n",
       "    <tr>\n",
       "      <th>0</th>\n",
       "      <td>Wii Sports</td>\n",
       "      <td>Sports</td>\n",
       "      <td>Wii</td>\n",
       "      <td>Nintendo</td>\n",
       "      <td>Nintendo EAD</td>\n",
       "      <td>2006.0</td>\n",
       "      <td>82.86</td>\n",
       "    </tr>\n",
       "    <tr>\n",
       "      <th>1</th>\n",
       "      <td>Super Mario Bros.</td>\n",
       "      <td>Platform</td>\n",
       "      <td>NES</td>\n",
       "      <td>Nintendo</td>\n",
       "      <td>Nintendo EAD</td>\n",
       "      <td>1985.0</td>\n",
       "      <td>40.24</td>\n",
       "    </tr>\n",
       "    <tr>\n",
       "      <th>2</th>\n",
       "      <td>Mario Kart Wii</td>\n",
       "      <td>Racing</td>\n",
       "      <td>Wii</td>\n",
       "      <td>Nintendo</td>\n",
       "      <td>Nintendo EAD</td>\n",
       "      <td>2008.0</td>\n",
       "      <td>37.14</td>\n",
       "    </tr>\n",
       "    <tr>\n",
       "      <th>3</th>\n",
       "      <td>PlayerUnknown's Battlegrounds</td>\n",
       "      <td>Shooter</td>\n",
       "      <td>PC</td>\n",
       "      <td>PUBG Corporation</td>\n",
       "      <td>PUBG Corporation</td>\n",
       "      <td>2017.0</td>\n",
       "      <td>36.60</td>\n",
       "    </tr>\n",
       "    <tr>\n",
       "      <th>4</th>\n",
       "      <td>Wii Sports Resort</td>\n",
       "      <td>Sports</td>\n",
       "      <td>Wii</td>\n",
       "      <td>Nintendo</td>\n",
       "      <td>Nintendo EAD</td>\n",
       "      <td>2009.0</td>\n",
       "      <td>33.09</td>\n",
       "    </tr>\n",
       "  </tbody>\n",
       "</table>\n",
       "</div>"
      ],
      "text/plain": [
       "                            Name     Genre Platform         Publisher  \\\n",
       "0                     Wii Sports    Sports      Wii          Nintendo   \n",
       "1              Super Mario Bros.  Platform      NES          Nintendo   \n",
       "2                 Mario Kart Wii    Racing      Wii          Nintendo   \n",
       "3  PlayerUnknown's Battlegrounds   Shooter       PC  PUBG Corporation   \n",
       "4              Wii Sports Resort    Sports      Wii          Nintendo   \n",
       "\n",
       "        Developer_x    Year  Total_Sales  \n",
       "0      Nintendo EAD  2006.0        82.86  \n",
       "1      Nintendo EAD  1985.0        40.24  \n",
       "2      Nintendo EAD  2008.0        37.14  \n",
       "3  PUBG Corporation  2017.0        36.60  \n",
       "4      Nintendo EAD  2009.0        33.09  "
      ]
     },
     "execution_count": 11,
     "metadata": {},
     "output_type": "execute_result"
    }
   ],
   "source": [
    "vg_global_sales_df.head()"
   ]
  },
  {
   "cell_type": "code",
   "execution_count": 12,
   "id": "21daa9b9",
   "metadata": {},
   "outputs": [
    {
     "data": {
      "text/plain": [
       "(19857, 7)"
      ]
     },
     "execution_count": 12,
     "metadata": {},
     "output_type": "execute_result"
    }
   ],
   "source": [
    "vg_global_sales_df.shape"
   ]
  },
  {
   "cell_type": "code",
   "execution_count": 13,
   "id": "dbe3c41d",
   "metadata": {},
   "outputs": [
    {
     "data": {
      "text/plain": [
       "(17886, 7)"
      ]
     },
     "execution_count": 13,
     "metadata": {},
     "output_type": "execute_result"
    }
   ],
   "source": [
    "# Filter and only use data since 2000\n",
    "vg_global_sales_df = vg_global_sales_df[vg_global_sales_df['Year'] >= 2000]\n",
    "vg_global_sales_df.shape"
   ]
  },
  {
   "cell_type": "code",
   "execution_count": 14,
   "id": "2225e2f2",
   "metadata": {},
   "outputs": [
    {
     "name": "stdout",
     "output_type": "stream",
     "text": [
      "8892.699999999999\n"
     ]
    }
   ],
   "source": [
    "# Calculate total Global_Sales\n",
    "vg_total_global_sales = vg_global_sales_df['Total_Sales'].sum()\n",
    "print(vg_total_global_sales)"
   ]
  },
  {
   "cell_type": "markdown",
   "id": "f871223a",
   "metadata": {},
   "source": [
    "# Analyzing Global Sales by Publisher, Developer, Game, Genre"
   ]
  },
  {
   "cell_type": "markdown",
   "id": "7dbbae52",
   "metadata": {},
   "source": [
    "### Developers create the games, while publishers market, sell, and promote them. This is the main difference between developers and publishers."
   ]
  },
  {
   "cell_type": "markdown",
   "id": "3803a400",
   "metadata": {},
   "source": [
    "## Global Sales by Publisher"
   ]
  },
  {
   "cell_type": "code",
   "execution_count": 15,
   "id": "8a481ddb",
   "metadata": {},
   "outputs": [
    {
     "data": {
      "text/plain": [
       "814"
      ]
     },
     "execution_count": 15,
     "metadata": {},
     "output_type": "execute_result"
    }
   ],
   "source": [
    "# Count the distinct values of Publisher\n",
    "vg_global_sales_df['Publisher'].nunique()"
   ]
  },
  {
   "cell_type": "code",
   "execution_count": 16,
   "id": "40cb5c62",
   "metadata": {},
   "outputs": [
    {
     "data": {
      "text/html": [
       "<div>\n",
       "<style scoped>\n",
       "    .dataframe tbody tr th:only-of-type {\n",
       "        vertical-align: middle;\n",
       "    }\n",
       "\n",
       "    .dataframe tbody tr th {\n",
       "        vertical-align: top;\n",
       "    }\n",
       "\n",
       "    .dataframe thead th {\n",
       "        text-align: right;\n",
       "    }\n",
       "</style>\n",
       "<table border=\"1\" class=\"dataframe\">\n",
       "  <thead>\n",
       "    <tr style=\"text-align: right;\">\n",
       "      <th></th>\n",
       "      <th>Total_Sales</th>\n",
       "    </tr>\n",
       "    <tr>\n",
       "      <th>Publisher</th>\n",
       "      <th></th>\n",
       "    </tr>\n",
       "  </thead>\n",
       "  <tbody>\n",
       "    <tr>\n",
       "      <th>10TACLE Studios</th>\n",
       "      <td>0.48</td>\n",
       "    </tr>\n",
       "    <tr>\n",
       "      <th>11 bit studios</th>\n",
       "      <td>0.19</td>\n",
       "    </tr>\n",
       "    <tr>\n",
       "      <th>1C Company</th>\n",
       "      <td>0.25</td>\n",
       "    </tr>\n",
       "    <tr>\n",
       "      <th>2K Games</th>\n",
       "      <td>74.21</td>\n",
       "    </tr>\n",
       "    <tr>\n",
       "      <th>2K Play</th>\n",
       "      <td>13.34</td>\n",
       "    </tr>\n",
       "  </tbody>\n",
       "</table>\n",
       "</div>"
      ],
      "text/plain": [
       "                 Total_Sales\n",
       "Publisher                   \n",
       "10TACLE Studios         0.48\n",
       "11 bit studios          0.19\n",
       "1C Company              0.25\n",
       "2K Games               74.21\n",
       "2K Play                13.34"
      ]
     },
     "execution_count": 16,
     "metadata": {},
     "output_type": "execute_result"
    }
   ],
   "source": [
    "# Grouping Publisher and Sum\n",
    "vg_global_sales_by_Publisher_df = vg_global_sales_df.groupby('Publisher')[['Total_Sales']].sum()\n",
    "vg_global_sales_by_Publisher_df.head()"
   ]
  },
  {
   "cell_type": "code",
   "execution_count": 17,
   "id": "4ca50544",
   "metadata": {},
   "outputs": [
    {
     "data": {
      "text/html": [
       "<div>\n",
       "<style scoped>\n",
       "    .dataframe tbody tr th:only-of-type {\n",
       "        vertical-align: middle;\n",
       "    }\n",
       "\n",
       "    .dataframe tbody tr th {\n",
       "        vertical-align: top;\n",
       "    }\n",
       "\n",
       "    .dataframe thead th {\n",
       "        text-align: right;\n",
       "    }\n",
       "</style>\n",
       "<table border=\"1\" class=\"dataframe\">\n",
       "  <thead>\n",
       "    <tr style=\"text-align: right;\">\n",
       "      <th></th>\n",
       "      <th>Total_Sales</th>\n",
       "      <th>Percentage of Total_Sales</th>\n",
       "    </tr>\n",
       "    <tr>\n",
       "      <th>Publisher</th>\n",
       "      <th></th>\n",
       "      <th></th>\n",
       "    </tr>\n",
       "  </thead>\n",
       "  <tbody>\n",
       "    <tr>\n",
       "      <th>10TACLE Studios</th>\n",
       "      <td>0.48</td>\n",
       "      <td>0.000054</td>\n",
       "    </tr>\n",
       "    <tr>\n",
       "      <th>11 bit studios</th>\n",
       "      <td>0.19</td>\n",
       "      <td>0.000021</td>\n",
       "    </tr>\n",
       "    <tr>\n",
       "      <th>1C Company</th>\n",
       "      <td>0.25</td>\n",
       "      <td>0.000028</td>\n",
       "    </tr>\n",
       "    <tr>\n",
       "      <th>2K Games</th>\n",
       "      <td>74.21</td>\n",
       "      <td>0.008345</td>\n",
       "    </tr>\n",
       "    <tr>\n",
       "      <th>2K Play</th>\n",
       "      <td>13.34</td>\n",
       "      <td>0.001500</td>\n",
       "    </tr>\n",
       "  </tbody>\n",
       "</table>\n",
       "</div>"
      ],
      "text/plain": [
       "                 Total_Sales  Percentage of Total_Sales\n",
       "Publisher                                              \n",
       "10TACLE Studios         0.48                   0.000054\n",
       "11 bit studios          0.19                   0.000021\n",
       "1C Company              0.25                   0.000028\n",
       "2K Games               74.21                   0.008345\n",
       "2K Play                13.34                   0.001500"
      ]
     },
     "execution_count": 17,
     "metadata": {},
     "output_type": "execute_result"
    }
   ],
   "source": [
    "# Percentage of Global Sales\n",
    "vg_global_sales_by_Publisher_df [\"Percentage of Total_Sales\"] = vg_global_sales_by_Publisher_df['Total_Sales'] / vg_total_global_sales\n",
    "vg_global_sales_by_Publisher_df.head()"
   ]
  },
  {
   "cell_type": "code",
   "execution_count": 18,
   "id": "84d8694e",
   "metadata": {},
   "outputs": [
    {
     "data": {
      "text/plain": [
       "Index(['Total_Sales', 'Percentage of Total_Sales'], dtype='object')"
      ]
     },
     "execution_count": 18,
     "metadata": {},
     "output_type": "execute_result"
    }
   ],
   "source": [
    "vg_global_sales_by_Publisher_df.columns"
   ]
  },
  {
   "cell_type": "code",
   "execution_count": 19,
   "id": "4ccb9d7f",
   "metadata": {},
   "outputs": [
    {
     "data": {
      "text/html": [
       "<div>\n",
       "<style scoped>\n",
       "    .dataframe tbody tr th:only-of-type {\n",
       "        vertical-align: middle;\n",
       "    }\n",
       "\n",
       "    .dataframe tbody tr th {\n",
       "        vertical-align: top;\n",
       "    }\n",
       "\n",
       "    .dataframe thead th {\n",
       "        text-align: right;\n",
       "    }\n",
       "</style>\n",
       "<table border=\"1\" class=\"dataframe\">\n",
       "  <thead>\n",
       "    <tr style=\"text-align: right;\">\n",
       "      <th></th>\n",
       "      <th>Total_Sales</th>\n",
       "      <th>Percentage of Total_Sales</th>\n",
       "    </tr>\n",
       "    <tr>\n",
       "      <th>Publisher</th>\n",
       "      <th></th>\n",
       "      <th></th>\n",
       "    </tr>\n",
       "  </thead>\n",
       "  <tbody>\n",
       "    <tr>\n",
       "      <th>Nintendo</th>\n",
       "      <td>1428.22</td>\n",
       "      <td>16.06%</td>\n",
       "    </tr>\n",
       "    <tr>\n",
       "      <th>Activision</th>\n",
       "      <td>690.40</td>\n",
       "      <td>7.76%</td>\n",
       "    </tr>\n",
       "    <tr>\n",
       "      <th>Electronic Arts</th>\n",
       "      <td>627.53</td>\n",
       "      <td>7.06%</td>\n",
       "    </tr>\n",
       "    <tr>\n",
       "      <th>Ubisoft</th>\n",
       "      <td>493.64</td>\n",
       "      <td>5.55%</td>\n",
       "    </tr>\n",
       "    <tr>\n",
       "      <th>EA Sports</th>\n",
       "      <td>453.64</td>\n",
       "      <td>5.10%</td>\n",
       "    </tr>\n",
       "    <tr>\n",
       "      <th>Sony Computer Entertainment</th>\n",
       "      <td>418.82</td>\n",
       "      <td>4.71%</td>\n",
       "    </tr>\n",
       "    <tr>\n",
       "      <th>THQ</th>\n",
       "      <td>322.59</td>\n",
       "      <td>3.63%</td>\n",
       "    </tr>\n",
       "    <tr>\n",
       "      <th>Rockstar Games</th>\n",
       "      <td>269.51</td>\n",
       "      <td>3.03%</td>\n",
       "    </tr>\n",
       "    <tr>\n",
       "      <th>Sega</th>\n",
       "      <td>244.23</td>\n",
       "      <td>2.75%</td>\n",
       "    </tr>\n",
       "    <tr>\n",
       "      <th>Konami</th>\n",
       "      <td>207.15</td>\n",
       "      <td>2.33%</td>\n",
       "    </tr>\n",
       "  </tbody>\n",
       "</table>\n",
       "</div>"
      ],
      "text/plain": [
       "                             Total_Sales Percentage of Total_Sales\n",
       "Publisher                                                         \n",
       "Nintendo                         1428.22                    16.06%\n",
       "Activision                        690.40                     7.76%\n",
       "Electronic Arts                   627.53                     7.06%\n",
       "Ubisoft                           493.64                     5.55%\n",
       "EA Sports                         453.64                     5.10%\n",
       "Sony Computer Entertainment       418.82                     4.71%\n",
       "THQ                               322.59                     3.63%\n",
       "Rockstar Games                    269.51                     3.03%\n",
       "Sega                              244.23                     2.75%\n",
       "Konami                            207.15                     2.33%"
      ]
     },
     "execution_count": 19,
     "metadata": {},
     "output_type": "execute_result"
    }
   ],
   "source": [
    "vg_global_sales_by_top10_Publisher_df = vg_global_sales_by_Publisher_df.nlargest(10,'Total_Sales')\n",
    "vg_global_sales_by_top10_Publisher_df['Percentage of Total_Sales'] = pd.Series([\"{0:.2f}%\".format(val * 100) \n",
    "                                for val in vg_global_sales_by_top10_Publisher_df['Percentage of Total_Sales']],\n",
    "                                index = vg_global_sales_by_top10_Publisher_df.index)\n",
    "\n",
    "vg_global_sales_by_top10_Publisher_df"
   ]
  },
  {
   "cell_type": "code",
   "execution_count": 20,
   "id": "6c853c05",
   "metadata": {},
   "outputs": [
    {
     "data": {
      "text/plain": [
       "Index(['Total_Sales', 'Percentage of Total_Sales'], dtype='object')"
      ]
     },
     "execution_count": 20,
     "metadata": {},
     "output_type": "execute_result"
    }
   ],
   "source": [
    "vg_global_sales_by_top10_Publisher_df.columns"
   ]
  },
  {
   "cell_type": "code",
   "execution_count": 21,
   "id": "eaa4e42c",
   "metadata": {},
   "outputs": [],
   "source": [
    "# Add Matplotlib inline magic command\n",
    "%matplotlib inline\n",
    "# Dependencies and Setup\n",
    "import matplotlib.pyplot as plt"
   ]
  },
  {
   "cell_type": "code",
   "execution_count": 22,
   "id": "dae60940",
   "metadata": {},
   "outputs": [
    {
     "data": {
      "text/plain": [
       "<AxesSubplot:title={'center':'Total Sales (in millions) by Publisher'}, xlabel='Publisher'>"
      ]
     },
     "execution_count": 22,
     "metadata": {},
     "output_type": "execute_result"
    },
    {
     "data": {
      "image/png": "[encoded data removed]",
      "text/plain": [
       "<Figure size 432x288 with 1 Axes>"
      ]
     },
     "metadata": {
      "needs_background": "light"
     },
     "output_type": "display_data"
    }
   ],
   "source": [
    "# Build bar chart\n",
    "vg_global_sales_by_top10_Publisher_df.plot( y='Total_Sales', kind = 'bar', title = \"Total Sales (in millions) by Publisher\")"
   ]
  },
  {
   "cell_type": "markdown",
   "id": "c17018ed",
   "metadata": {},
   "source": [
    "# Global Sales by Developer"
   ]
  },
  {
   "cell_type": "code",
   "execution_count": 23,
   "id": "c8757481",
   "metadata": {},
   "outputs": [
    {
     "data": {
      "text/plain": [
       "2884"
      ]
     },
     "execution_count": 23,
     "metadata": {},
     "output_type": "execute_result"
    }
   ],
   "source": [
    "# Count the distinct values of Developer\n",
    "vg_global_sales_df['Developer_x'].nunique()"
   ]
  },
  {
   "cell_type": "code",
   "execution_count": 24,
   "id": "e27cb4c8",
   "metadata": {},
   "outputs": [
    {
     "data": {
      "text/html": [
       "<div>\n",
       "<style scoped>\n",
       "    .dataframe tbody tr th:only-of-type {\n",
       "        vertical-align: middle;\n",
       "    }\n",
       "\n",
       "    .dataframe tbody tr th {\n",
       "        vertical-align: top;\n",
       "    }\n",
       "\n",
       "    .dataframe thead th {\n",
       "        text-align: right;\n",
       "    }\n",
       "</style>\n",
       "<table border=\"1\" class=\"dataframe\">\n",
       "  <thead>\n",
       "    <tr style=\"text-align: right;\">\n",
       "      <th></th>\n",
       "      <th>Total_Sales</th>\n",
       "    </tr>\n",
       "    <tr>\n",
       "      <th>Developer_x</th>\n",
       "      <th></th>\n",
       "    </tr>\n",
       "  </thead>\n",
       "  <tbody>\n",
       "    <tr>\n",
       "      <th>07th Expansion</th>\n",
       "      <td>0.20</td>\n",
       "    </tr>\n",
       "    <tr>\n",
       "      <th>0verflow</th>\n",
       "      <td>0.02</td>\n",
       "    </tr>\n",
       "    <tr>\n",
       "      <th>10tacle Studios AG</th>\n",
       "      <td>0.19</td>\n",
       "    </tr>\n",
       "    <tr>\n",
       "      <th>10th Art Studio</th>\n",
       "      <td>0.15</td>\n",
       "    </tr>\n",
       "    <tr>\n",
       "      <th>11 bit studios</th>\n",
       "      <td>1.29</td>\n",
       "    </tr>\n",
       "  </tbody>\n",
       "</table>\n",
       "</div>"
      ],
      "text/plain": [
       "                    Total_Sales\n",
       "Developer_x                    \n",
       "07th Expansion             0.20\n",
       "0verflow                   0.02\n",
       "10tacle Studios AG         0.19\n",
       "10th Art Studio            0.15\n",
       "11 bit studios             1.29"
      ]
     },
     "execution_count": 24,
     "metadata": {},
     "output_type": "execute_result"
    }
   ],
   "source": [
    "# Grouping Developer and Sum\n",
    "vg_global_sales_by_Developer_df = vg_global_sales_df.groupby('Developer_x')[['Total_Sales']].sum()\n",
    "vg_global_sales_by_Developer_df.head()"
   ]
  },
  {
   "cell_type": "code",
   "execution_count": 25,
   "id": "32a17aa0",
   "metadata": {},
   "outputs": [
    {
     "data": {
      "text/html": [
       "<div>\n",
       "<style scoped>\n",
       "    .dataframe tbody tr th:only-of-type {\n",
       "        vertical-align: middle;\n",
       "    }\n",
       "\n",
       "    .dataframe tbody tr th {\n",
       "        vertical-align: top;\n",
       "    }\n",
       "\n",
       "    .dataframe thead th {\n",
       "        text-align: right;\n",
       "    }\n",
       "</style>\n",
       "<table border=\"1\" class=\"dataframe\">\n",
       "  <thead>\n",
       "    <tr style=\"text-align: right;\">\n",
       "      <th></th>\n",
       "      <th>Total_Sales</th>\n",
       "      <th>Percentage of Total_Sales</th>\n",
       "    </tr>\n",
       "    <tr>\n",
       "      <th>Developer_x</th>\n",
       "      <th></th>\n",
       "      <th></th>\n",
       "    </tr>\n",
       "  </thead>\n",
       "  <tbody>\n",
       "    <tr>\n",
       "      <th>Nintendo EAD</th>\n",
       "      <td>505.23</td>\n",
       "      <td>5.68%</td>\n",
       "    </tr>\n",
       "    <tr>\n",
       "      <th>EA Canada</th>\n",
       "      <td>260.17</td>\n",
       "      <td>2.93%</td>\n",
       "    </tr>\n",
       "    <tr>\n",
       "      <th>Game Freak</th>\n",
       "      <td>199.57</td>\n",
       "      <td>2.24%</td>\n",
       "    </tr>\n",
       "    <tr>\n",
       "      <th>EA Tiburon</th>\n",
       "      <td>176.47</td>\n",
       "      <td>1.98%</td>\n",
       "    </tr>\n",
       "    <tr>\n",
       "      <th>Ubisoft Montreal</th>\n",
       "      <td>175.99</td>\n",
       "      <td>1.98%</td>\n",
       "    </tr>\n",
       "    <tr>\n",
       "      <th>Treyarch</th>\n",
       "      <td>146.96</td>\n",
       "      <td>1.65%</td>\n",
       "    </tr>\n",
       "    <tr>\n",
       "      <th>Rockstar North</th>\n",
       "      <td>146.81</td>\n",
       "      <td>1.65%</td>\n",
       "    </tr>\n",
       "    <tr>\n",
       "      <th>Traveller's Tales</th>\n",
       "      <td>145.74</td>\n",
       "      <td>1.64%</td>\n",
       "    </tr>\n",
       "    <tr>\n",
       "      <th>Capcom</th>\n",
       "      <td>143.89</td>\n",
       "      <td>1.62%</td>\n",
       "    </tr>\n",
       "    <tr>\n",
       "      <th>Infinity Ward</th>\n",
       "      <td>119.16</td>\n",
       "      <td>1.34%</td>\n",
       "    </tr>\n",
       "  </tbody>\n",
       "</table>\n",
       "</div>"
      ],
      "text/plain": [
       "                   Total_Sales Percentage of Total_Sales\n",
       "Developer_x                                             \n",
       "Nintendo EAD            505.23                     5.68%\n",
       "EA Canada               260.17                     2.93%\n",
       "Game Freak              199.57                     2.24%\n",
       "EA Tiburon              176.47                     1.98%\n",
       "Ubisoft Montreal        175.99                     1.98%\n",
       "Treyarch                146.96                     1.65%\n",
       "Rockstar North          146.81                     1.65%\n",
       "Traveller's Tales       145.74                     1.64%\n",
       "Capcom                  143.89                     1.62%\n",
       "Infinity Ward           119.16                     1.34%"
      ]
     },
     "execution_count": 25,
     "metadata": {},
     "output_type": "execute_result"
    }
   ],
   "source": [
    "# Percentage of the Global Sales\n",
    "vg_global_sales_by_Developer_df [\"Percentage of Total_Sales\"] = vg_global_sales_by_Developer_df['Total_Sales'] / vg_total_global_sales\n",
    "vg_global_sales_by_top10_Developer_df = vg_global_sales_by_Developer_df.nlargest(10,'Total_Sales')\n",
    "vg_global_sales_by_top10_Developer_df['Percentage of Total_Sales'] = pd.Series([\"{0:.2f}%\".format(val * 100) \n",
    "                                for val in vg_global_sales_by_top10_Developer_df['Percentage of Total_Sales']],\n",
    "                                index = vg_global_sales_by_top10_Developer_df.index)\n",
    "\n",
    "vg_global_sales_by_top10_Developer_df"
   ]
  },
  {
   "cell_type": "code",
   "execution_count": 27,
   "id": "ef4a01d0",
   "metadata": {},
   "outputs": [
    {
     "data": {
      "text/plain": [
       "<AxesSubplot:title={'center':'Total Sales (in millions) by Developer'}, xlabel='Developer_x'>"
      ]
     },
     "execution_count": 27,
     "metadata": {},
     "output_type": "execute_result"
    },
    {
     "data": {
      "image/png": "[encoded data removed]",
      "text/plain": [
       "<Figure size 432x288 with 1 Axes>"
      ]
     },
     "metadata": {
      "needs_background": "light"
     },
     "output_type": "display_data"
    }
   ],
   "source": [
    "# Build bar chart\n",
    "vg_global_sales_by_top10_Developer_df.plot( y='Total_Sales', kind = 'bar', title = \"Total Sales (in millions) by Developer\")"
   ]
  },
  {
   "cell_type": "markdown",
   "id": "ff7cf08e",
   "metadata": {},
   "source": [
    "# Global Sales by Genre"
   ]
  },
  {
   "cell_type": "code",
   "execution_count": 28,
   "id": "a2a08fc0",
   "metadata": {},
   "outputs": [
    {
     "data": {
      "text/plain": [
       "20"
      ]
     },
     "execution_count": 28,
     "metadata": {},
     "output_type": "execute_result"
    }
   ],
   "source": [
    "# Count the distinct values of Developer\n",
    "vg_global_sales_df['Genre'].nunique()"
   ]
  },
  {
   "cell_type": "code",
   "execution_count": 29,
   "id": "02e1f592",
   "metadata": {},
   "outputs": [
    {
     "data": {
      "text/html": [
       "<div>\n",
       "<style scoped>\n",
       "    .dataframe tbody tr th:only-of-type {\n",
       "        vertical-align: middle;\n",
       "    }\n",
       "\n",
       "    .dataframe tbody tr th {\n",
       "        vertical-align: top;\n",
       "    }\n",
       "\n",
       "    .dataframe thead th {\n",
       "        text-align: right;\n",
       "    }\n",
       "</style>\n",
       "<table border=\"1\" class=\"dataframe\">\n",
       "  <thead>\n",
       "    <tr style=\"text-align: right;\">\n",
       "      <th></th>\n",
       "      <th>Total_Sales</th>\n",
       "    </tr>\n",
       "    <tr>\n",
       "      <th>Genre</th>\n",
       "      <th></th>\n",
       "    </tr>\n",
       "  </thead>\n",
       "  <tbody>\n",
       "    <tr>\n",
       "      <th>Action</th>\n",
       "      <td>1358.52</td>\n",
       "    </tr>\n",
       "    <tr>\n",
       "      <th>Action-Adventure</th>\n",
       "      <td>234.09</td>\n",
       "    </tr>\n",
       "    <tr>\n",
       "      <th>Adventure</th>\n",
       "      <td>419.25</td>\n",
       "    </tr>\n",
       "    <tr>\n",
       "      <th>Board Game</th>\n",
       "      <td>0.31</td>\n",
       "    </tr>\n",
       "    <tr>\n",
       "      <th>Education</th>\n",
       "      <td>0.42</td>\n",
       "    </tr>\n",
       "  </tbody>\n",
       "</table>\n",
       "</div>"
      ],
      "text/plain": [
       "                  Total_Sales\n",
       "Genre                        \n",
       "Action                1358.52\n",
       "Action-Adventure       234.09\n",
       "Adventure              419.25\n",
       "Board Game               0.31\n",
       "Education                0.42"
      ]
     },
     "execution_count": 29,
     "metadata": {},
     "output_type": "execute_result"
    }
   ],
   "source": [
    "# Grouping Developer and Sum\n",
    "vg_global_sales_by_Genre_df = vg_global_sales_df.groupby('Genre')[['Total_Sales']].sum()\n",
    "vg_global_sales_by_Genre_df.head()"
   ]
  },
  {
   "cell_type": "code",
   "execution_count": 31,
   "id": "343ee35a",
   "metadata": {},
   "outputs": [
    {
     "data": {
      "text/html": [
       "<div>\n",
       "<style scoped>\n",
       "    .dataframe tbody tr th:only-of-type {\n",
       "        vertical-align: middle;\n",
       "    }\n",
       "\n",
       "    .dataframe tbody tr th {\n",
       "        vertical-align: top;\n",
       "    }\n",
       "\n",
       "    .dataframe thead th {\n",
       "        text-align: right;\n",
       "    }\n",
       "</style>\n",
       "<table border=\"1\" class=\"dataframe\">\n",
       "  <thead>\n",
       "    <tr style=\"text-align: right;\">\n",
       "      <th></th>\n",
       "      <th>Total_Sales</th>\n",
       "      <th>Percentage of Total_Sales</th>\n",
       "    </tr>\n",
       "    <tr>\n",
       "      <th>Genre</th>\n",
       "      <th></th>\n",
       "      <th></th>\n",
       "    </tr>\n",
       "  </thead>\n",
       "  <tbody>\n",
       "    <tr>\n",
       "      <th>Action</th>\n",
       "      <td>1358.52</td>\n",
       "      <td>15.28%</td>\n",
       "    </tr>\n",
       "    <tr>\n",
       "      <th>Sports</th>\n",
       "      <td>1279.76</td>\n",
       "      <td>14.39%</td>\n",
       "    </tr>\n",
       "    <tr>\n",
       "      <th>Shooter</th>\n",
       "      <td>1201.26</td>\n",
       "      <td>13.51%</td>\n",
       "    </tr>\n",
       "    <tr>\n",
       "      <th>Role-Playing</th>\n",
       "      <td>976.92</td>\n",
       "      <td>10.99%</td>\n",
       "    </tr>\n",
       "    <tr>\n",
       "      <th>Misc</th>\n",
       "      <td>836.43</td>\n",
       "      <td>9.41%</td>\n",
       "    </tr>\n",
       "    <tr>\n",
       "      <th>Racing</th>\n",
       "      <td>649.26</td>\n",
       "      <td>7.30%</td>\n",
       "    </tr>\n",
       "    <tr>\n",
       "      <th>Platform</th>\n",
       "      <td>635.01</td>\n",
       "      <td>7.14%</td>\n",
       "    </tr>\n",
       "    <tr>\n",
       "      <th>Simulation</th>\n",
       "      <td>422.57</td>\n",
       "      <td>4.75%</td>\n",
       "    </tr>\n",
       "    <tr>\n",
       "      <th>Adventure</th>\n",
       "      <td>419.25</td>\n",
       "      <td>4.71%</td>\n",
       "    </tr>\n",
       "    <tr>\n",
       "      <th>Fighting</th>\n",
       "      <td>380.60</td>\n",
       "      <td>4.28%</td>\n",
       "    </tr>\n",
       "  </tbody>\n",
       "</table>\n",
       "</div>"
      ],
      "text/plain": [
       "              Total_Sales Percentage of Total_Sales\n",
       "Genre                                              \n",
       "Action            1358.52                    15.28%\n",
       "Sports            1279.76                    14.39%\n",
       "Shooter           1201.26                    13.51%\n",
       "Role-Playing       976.92                    10.99%\n",
       "Misc               836.43                     9.41%\n",
       "Racing             649.26                     7.30%\n",
       "Platform           635.01                     7.14%\n",
       "Simulation         422.57                     4.75%\n",
       "Adventure          419.25                     4.71%\n",
       "Fighting           380.60                     4.28%"
      ]
     },
     "execution_count": 31,
     "metadata": {},
     "output_type": "execute_result"
    }
   ],
   "source": [
    "# Percentage of the Global Sales\n",
    "vg_global_sales_by_Genre_df [\"Percentage of Total_Sales\"] = vg_global_sales_by_Genre_df['Total_Sales'] / vg_total_global_sales\n",
    "vg_global_sales_by_top10_Genre_df = vg_global_sales_by_Genre_df.nlargest(10,'Total_Sales')\n",
    "vg_global_sales_by_top10_Genre_df['Percentage of Total_Sales'] = pd.Series([\"{0:.2f}%\".format(val * 100) \n",
    "                                for val in vg_global_sales_by_top10_Genre_df['Percentage of Total_Sales']],\n",
    "                                index = vg_global_sales_by_top10_Genre_df.index)\n",
    "\n",
    "vg_global_sales_by_top10_Genre_df"
   ]
  },
  {
   "cell_type": "code",
   "execution_count": 32,
   "id": "30d14fc8",
   "metadata": {},
   "outputs": [
    {
     "data": {
      "text/plain": [
       "<AxesSubplot:title={'center':'Total Sales (in millions) by Genre'}, xlabel='Genre'>"
      ]
     },
     "execution_count": 32,
     "metadata": {},
     "output_type": "execute_result"
    },
    {
     "data": {
      "image/png": "[encoded data removed]",
      "text/plain": [
       "<Figure size 432x288 with 1 Axes>"
      ]
     },
     "metadata": {
      "needs_background": "light"
     },
     "output_type": "display_data"
    }
   ],
   "source": [
    "# Build bar chart\n",
    "vg_global_sales_by_top10_Genre_df.plot( y='Total_Sales', kind = 'bar', title = \"Total Sales (in millions) by Genre\")"
   ]
  },
  {
   "cell_type": "markdown",
   "id": "fe6e44dc",
   "metadata": {},
   "source": [
    "# Top 10 Games with Highest Global Sales"
   ]
  },
  {
   "cell_type": "code",
   "execution_count": 33,
   "id": "ae5bca96",
   "metadata": {},
   "outputs": [
    {
     "data": {
      "text/html": [
       "<div>\n",
       "<style scoped>\n",
       "    .dataframe tbody tr th:only-of-type {\n",
       "        vertical-align: middle;\n",
       "    }\n",
       "\n",
       "    .dataframe tbody tr th {\n",
       "        vertical-align: top;\n",
       "    }\n",
       "\n",
       "    .dataframe thead th {\n",
       "        text-align: right;\n",
       "    }\n",
       "</style>\n",
       "<table border=\"1\" class=\"dataframe\">\n",
       "  <thead>\n",
       "    <tr style=\"text-align: right;\">\n",
       "      <th></th>\n",
       "      <th>Total_Sales</th>\n",
       "    </tr>\n",
       "    <tr>\n",
       "      <th>Name</th>\n",
       "      <th></th>\n",
       "    </tr>\n",
       "  </thead>\n",
       "  <tbody>\n",
       "    <tr>\n",
       "      <th>.hack//G.U. Last Recode</th>\n",
       "      <td>0.24</td>\n",
       "    </tr>\n",
       "    <tr>\n",
       "      <th>.hack//G.U. Vol.1//Rebirth</th>\n",
       "      <td>0.17</td>\n",
       "    </tr>\n",
       "    <tr>\n",
       "      <th>.hack//G.U. Vol.2//Reminisce</th>\n",
       "      <td>0.23</td>\n",
       "    </tr>\n",
       "    <tr>\n",
       "      <th>.hack//G.U. Vol.2//Reminisce (jp sales)</th>\n",
       "      <td>0.16</td>\n",
       "    </tr>\n",
       "    <tr>\n",
       "      <th>.hack//G.U. Vol.3//Redemption</th>\n",
       "      <td>0.17</td>\n",
       "    </tr>\n",
       "  </tbody>\n",
       "</table>\n",
       "</div>"
      ],
      "text/plain": [
       "                                         Total_Sales\n",
       "Name                                                \n",
       ".hack//G.U. Last Recode                         0.24\n",
       ".hack//G.U. Vol.1//Rebirth                      0.17\n",
       ".hack//G.U. Vol.2//Reminisce                    0.23\n",
       ".hack//G.U. Vol.2//Reminisce (jp sales)         0.16\n",
       ".hack//G.U. Vol.3//Redemption                   0.17"
      ]
     },
     "execution_count": 33,
     "metadata": {},
     "output_type": "execute_result"
    }
   ],
   "source": [
    "# Grouping Genre and Sum\n",
    "vg_global_sales_by_Game_df = vg_global_sales_df.groupby('Name')[['Total_Sales']].sum()\n",
    "vg_global_sales_by_Game_df.head()"
   ]
  },
  {
   "cell_type": "code",
   "execution_count": 34,
   "id": "b85dae4e",
   "metadata": {},
   "outputs": [
    {
     "data": {
      "text/html": [
       "<div>\n",
       "<style scoped>\n",
       "    .dataframe tbody tr th:only-of-type {\n",
       "        vertical-align: middle;\n",
       "    }\n",
       "\n",
       "    .dataframe tbody tr th {\n",
       "        vertical-align: top;\n",
       "    }\n",
       "\n",
       "    .dataframe thead th {\n",
       "        text-align: right;\n",
       "    }\n",
       "</style>\n",
       "<table border=\"1\" class=\"dataframe\">\n",
       "  <thead>\n",
       "    <tr style=\"text-align: right;\">\n",
       "      <th></th>\n",
       "      <th>Total_Sales</th>\n",
       "      <th>Percentage of Total_Sales</th>\n",
       "    </tr>\n",
       "    <tr>\n",
       "      <th>Name</th>\n",
       "      <th></th>\n",
       "      <th></th>\n",
       "    </tr>\n",
       "  </thead>\n",
       "  <tbody>\n",
       "    <tr>\n",
       "      <th>Wii Sports</th>\n",
       "      <td>82.86</td>\n",
       "      <td>0.93%</td>\n",
       "    </tr>\n",
       "    <tr>\n",
       "      <th>Grand Theft Auto V</th>\n",
       "      <td>76.89</td>\n",
       "      <td>0.86%</td>\n",
       "    </tr>\n",
       "    <tr>\n",
       "      <th>Minecraft</th>\n",
       "      <td>67.02</td>\n",
       "      <td>0.75%</td>\n",
       "    </tr>\n",
       "    <tr>\n",
       "      <th>PlayerUnknown's Battlegrounds</th>\n",
       "      <td>39.10</td>\n",
       "      <td>0.44%</td>\n",
       "    </tr>\n",
       "    <tr>\n",
       "      <th>Mario Kart Wii</th>\n",
       "      <td>37.14</td>\n",
       "      <td>0.42%</td>\n",
       "    </tr>\n",
       "    <tr>\n",
       "      <th>Wii Sports Resort</th>\n",
       "      <td>33.09</td>\n",
       "      <td>0.37%</td>\n",
       "    </tr>\n",
       "    <tr>\n",
       "      <th>Call of Duty: Black Ops</th>\n",
       "      <td>30.99</td>\n",
       "      <td>0.35%</td>\n",
       "    </tr>\n",
       "    <tr>\n",
       "      <th>New Super Mario Bros.</th>\n",
       "      <td>30.80</td>\n",
       "      <td>0.35%</td>\n",
       "    </tr>\n",
       "    <tr>\n",
       "      <th>Call of Duty: Modern Warfare 3</th>\n",
       "      <td>30.71</td>\n",
       "      <td>0.35%</td>\n",
       "    </tr>\n",
       "    <tr>\n",
       "      <th>New Super Mario Bros. Wii</th>\n",
       "      <td>30.22</td>\n",
       "      <td>0.34%</td>\n",
       "    </tr>\n",
       "  </tbody>\n",
       "</table>\n",
       "</div>"
      ],
      "text/plain": [
       "                                Total_Sales Percentage of Total_Sales\n",
       "Name                                                                 \n",
       "Wii Sports                            82.86                     0.93%\n",
       "Grand Theft Auto V                    76.89                     0.86%\n",
       "Minecraft                             67.02                     0.75%\n",
       "PlayerUnknown's Battlegrounds         39.10                     0.44%\n",
       "Mario Kart Wii                        37.14                     0.42%\n",
       "Wii Sports Resort                     33.09                     0.37%\n",
       "Call of Duty: Black Ops               30.99                     0.35%\n",
       "New Super Mario Bros.                 30.80                     0.35%\n",
       "Call of Duty: Modern Warfare 3        30.71                     0.35%\n",
       "New Super Mario Bros. Wii             30.22                     0.34%"
      ]
     },
     "execution_count": 34,
     "metadata": {},
     "output_type": "execute_result"
    }
   ],
   "source": [
    "# Percentage of Global Sales\n",
    "vg_global_sales_by_Game_df [\"Percentage of Total_Sales\"] = vg_global_sales_by_Game_df['Total_Sales'] / vg_total_global_sales\n",
    "vg_global_sales_by_top10_Game_df = vg_global_sales_by_Game_df.nlargest(10,'Total_Sales')\n",
    "vg_global_sales_by_top10_Game_df['Percentage of Total_Sales'] = pd.Series([\"{0:.2f}%\".format(val * 100) \n",
    "                                for val in vg_global_sales_by_top10_Game_df['Percentage of Total_Sales']],\n",
    "                                index = vg_global_sales_by_top10_Game_df.index)\n",
    "\n",
    "vg_global_sales_by_top10_Game_df"
   ]
  },
  {
   "cell_type": "code",
   "execution_count": 35,
   "id": "05deb803",
   "metadata": {},
   "outputs": [
    {
     "data": {
      "text/plain": [
       "<AxesSubplot:title={'center':'Total Sales (in millions) by Game'}, xlabel='Name'>"
      ]
     },
     "execution_count": 35,
     "metadata": {},
     "output_type": "execute_result"
    },
    {
     "data": {
      "image/png": "[encoded data removed]",
      "text/plain": [
       "<Figure size 432x288 with 1 Axes>"
      ]
     },
     "metadata": {
      "needs_background": "light"
     },
     "output_type": "display_data"
    }
   ],
   "source": [
    "# Build bar chart\n",
    "vg_global_sales_by_top10_Game_df.plot( y='Total_Sales', kind = 'bar', title = \"Total Sales (in millions) by Game\")"
   ]
  },
  {
   "cell_type": "markdown",
   "id": "c4d784d0",
   "metadata": {},
   "source": [
    "# List of Genres"
   ]
  },
  {
   "cell_type": "code",
   "execution_count": 36,
   "id": "06c3050e",
   "metadata": {},
   "outputs": [
    {
     "data": {
      "text/plain": [
       "array(['Sports', 'Racing', 'Shooter', 'Platform', 'Misc', 'Party',\n",
       "       'Simulation', 'Role-Playing', 'Action', 'Action-Adventure',\n",
       "       'Fighting', 'Strategy', 'Adventure', 'Music', 'MMO', 'Puzzle',\n",
       "       'Sandbox', 'Visual Novel', 'Board Game', 'Education'], dtype=object)"
      ]
     },
     "execution_count": 36,
     "metadata": {},
     "output_type": "execute_result"
    }
   ],
   "source": [
    "vg_global_sales_df['Genre'].unique()"
   ]
  }
 ],
 "metadata": {
  "kernelspec": {
   "display_name": "Python 3 (ipykernel)",
   "language": "python",
   "name": "python3"
  },
  "language_info": {
   "codemirror_mode": {
    "name": "ipython",
    "version": 3
   },
   "file_extension": ".py",
   "mimetype": "text/x-python",
   "name": "python",
   "nbconvert_exporter": "python",
   "pygments_lexer": "ipython3",
   "version": "3.9.12"
  },
  "vscode": {
   "interpreter": {
    "hash": "6f959b286b5f8c834869aaf1d757196b68a1cecf6e91cbea853ac64cd319e97b"
   }
  }
 },
 "nbformat": 4,
 "nbformat_minor": 5
}
